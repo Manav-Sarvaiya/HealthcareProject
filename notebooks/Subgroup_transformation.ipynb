{
 "cells": [
  {
   "cell_type": "code",
   "execution_count": 0,
   "metadata": {
    "application/vnd.databricks.v1+cell": {
     "cellMetadata": {
      "byteLimit": 2048000,
      "rowLimit": 10000
     },
     "inputWidgets": {},
     "nuid": "66948528-8df0-4bee-adfe-bb8e1f3498bb",
     "showTitle": false,
     "title": ""
    }
   },
   "outputs": [],
   "source": [
    "import pyspark\n",
    "from pyspark.sql.functions import *"
   ]
  },
  {
   "cell_type": "code",
   "execution_count": 0,
   "metadata": {
    "application/vnd.databricks.v1+cell": {
     "cellMetadata": {
      "byteLimit": 2048000,
      "rowLimit": 10000
     },
     "inputWidgets": {},
     "nuid": "b55223ef-58eb-418a-b0f0-65b55dea544e",
     "showTitle": false,
     "title": ""
    }
   },
   "outputs": [
    {
     "output_type": "execute_result",
     "data": {
      "text/plain": [
       "[SecretScope(name='healthcarescope')]"
      ]
     },
     "execution_count": 2,
     "metadata": {},
     "output_type": "execute_result"
    }
   ],
   "source": [
    "dbutils.secrets.listScopes()"
   ]
  },
  {
   "cell_type": "code",
   "execution_count": 0,
   "metadata": {
    "application/vnd.databricks.v1+cell": {
     "cellMetadata": {
      "byteLimit": 2048000,
      "rowLimit": 10000
     },
     "inputWidgets": {},
     "nuid": "1f3f57dd-1f82-4534-a4fa-7f4d015649c3",
     "showTitle": false,
     "title": ""
    }
   },
   "outputs": [
    {
     "output_type": "execute_result",
     "data": {
      "text/plain": [
       "[SecretMetadata(key='blobaccesskey')]"
      ]
     },
     "execution_count": 3,
     "metadata": {},
     "output_type": "execute_result"
    }
   ],
   "source": [
    "dbutils.secrets.list(scope = 'healthcarescope')"
   ]
  },
  {
   "cell_type": "code",
   "execution_count": 0,
   "metadata": {
    "application/vnd.databricks.v1+cell": {
     "cellMetadata": {
      "byteLimit": 2048000,
      "rowLimit": 10000
     },
     "inputWidgets": {},
     "nuid": "58ffffc4-7253-42f9-b41b-f8ec9cdb177a",
     "showTitle": false,
     "title": ""
    }
   },
   "outputs": [],
   "source": [
    "\n",
    "secret_name = dbutils.secrets.get(scope = \"healthcarescope\", key = \"blobaccesskey\")"
   ]
  },
  {
   "cell_type": "code",
   "execution_count": 0,
   "metadata": {
    "application/vnd.databricks.v1+cell": {
     "cellMetadata": {
      "byteLimit": 2048000,
      "rowLimit": 10000
     },
     "inputWidgets": {},
     "nuid": "d7f6339f-f577-40b9-90de-e4330085af73",
     "showTitle": false,
     "title": ""
    }
   },
   "outputs": [
    {
     "output_type": "stream",
     "name": "stdout",
     "output_type": "stream",
     "text": [
      "[REDACTED]\n"
     ]
    }
   ],
   "source": [
    "print(secret_name)"
   ]
  },
  {
   "cell_type": "markdown",
   "metadata": {
    "application/vnd.databricks.v1+cell": {
     "cellMetadata": {},
     "inputWidgets": {},
     "nuid": "56352d17-b057-4405-80b6-59388ae92b25",
     "showTitle": false,
     "title": ""
    }
   },
   "source": [
    "# I have used access key token to connect to the container."
   ]
  },
  {
   "cell_type": "code",
   "execution_count": 0,
   "metadata": {
    "application/vnd.databricks.v1+cell": {
     "cellMetadata": {
      "byteLimit": 2048000,
      "rowLimit": 10000
     },
     "inputWidgets": {},
     "nuid": "1a1d4f3b-af91-4cc4-92ce-2b2c30d3a6b7",
     "showTitle": false,
     "title": ""
    }
   },
   "outputs": [],
   "source": [
    "spark.conf.set(\n",
    "    \"fs.azure.account.key.healthcareprojectblob.dfs.core.windows.net\",\n",
    "    dbutils.secrets.get(scope = \"healthcarescope\", key = \"blobaccesskey\"))\n"
   ]
  },
  {
   "cell_type": "code",
   "execution_count": 0,
   "metadata": {
    "application/vnd.databricks.v1+cell": {
     "cellMetadata": {
      "byteLimit": 2048000,
      "rowLimit": 10000
     },
     "inputWidgets": {},
     "nuid": "9de0f959-9e6f-4106-97c0-a304d80cacdc",
     "showTitle": false,
     "title": ""
    }
   },
   "outputs": [
    {
     "output_type": "display_data",
     "data": {
      "text/html": [
       "<style scoped>\n",
       "  .table-result-container {\n",
       "    max-height: 300px;\n",
       "    overflow: auto;\n",
       "  }\n",
       "  table, th, td {\n",
       "    border: 1px solid black;\n",
       "    border-collapse: collapse;\n",
       "  }\n",
       "  th, td {\n",
       "    padding: 5px;\n",
       "  }\n",
       "  th {\n",
       "    text-align: left;\n",
       "  }\n",
       "</style><div class='table-result-container'><table class='table-result'><thead style='background-color: white'><tr><th>path</th><th>name</th><th>size</th><th>modificationTime</th></tr></thead><tbody><tr><td>abfss://rawhealthdata@healthcareprojectblob.dfs.core.windows.net/Patient_records.csv</td><td>Patient_records.csv</td><td>5110</td><td>1725312200000</td></tr><tr><td>abfss://rawhealthdata@healthcareprojectblob.dfs.core.windows.net/claims.csv</td><td>claims.csv</td><td>5766</td><td>1725646846000</td></tr><tr><td>abfss://rawhealthdata@healthcareprojectblob.dfs.core.windows.net/disease.csv</td><td>disease.csv</td><td>1489</td><td>1725312200000</td></tr><tr><td>abfss://rawhealthdata@healthcareprojectblob.dfs.core.windows.net/group.csv</td><td>group.csv</td><td>4390</td><td>1725312200000</td></tr><tr><td>abfss://rawhealthdata@healthcareprojectblob.dfs.core.windows.net/hospital.csv</td><td>hospital.csv</td><td>1328</td><td>1725312200000</td></tr><tr><td>abfss://rawhealthdata@healthcareprojectblob.dfs.core.windows.net/subgroup.csv</td><td>subgroup.csv</td><td>561</td><td>1725312200000</td></tr><tr><td>abfss://rawhealthdata@healthcareprojectblob.dfs.core.windows.net/subscriber.csv</td><td>subscriber.csv</td><td>12061</td><td>1725312201000</td></tr></tbody></table></div>"
      ]
     },
     "metadata": {
      "application/vnd.databricks.v1+output": {
       "addedWidgets": {},
       "aggData": [],
       "aggError": "",
       "aggOverflow": false,
       "aggSchema": [],
       "aggSeriesLimitReached": false,
       "aggType": "",
       "arguments": {},
       "columnCustomDisplayInfos": {},
       "data": [
        [
         "abfss://rawhealthdata@healthcareprojectblob.dfs.core.windows.net/Patient_records.csv",
         "Patient_records.csv",
         5110,
         1725312200000
        ],
        [
         "abfss://rawhealthdata@healthcareprojectblob.dfs.core.windows.net/claims.csv",
         "claims.csv",
         5766,
         1725646846000
        ],
        [
         "abfss://rawhealthdata@healthcareprojectblob.dfs.core.windows.net/disease.csv",
         "disease.csv",
         1489,
         1725312200000
        ],
        [
         "abfss://rawhealthdata@healthcareprojectblob.dfs.core.windows.net/group.csv",
         "group.csv",
         4390,
         1725312200000
        ],
        [
         "abfss://rawhealthdata@healthcareprojectblob.dfs.core.windows.net/hospital.csv",
         "hospital.csv",
         1328,
         1725312200000
        ],
        [
         "abfss://rawhealthdata@healthcareprojectblob.dfs.core.windows.net/subgroup.csv",
         "subgroup.csv",
         561,
         1725312200000
        ],
        [
         "abfss://rawhealthdata@healthcareprojectblob.dfs.core.windows.net/subscriber.csv",
         "subscriber.csv",
         12061,
         1725312201000
        ]
       ],
       "datasetInfos": [],
       "dbfsResultPath": null,
       "isJsonSchema": true,
       "metadata": {},
       "overflow": false,
       "plotOptions": {
        "customPlotOptions": {},
        "displayType": "table",
        "pivotAggregation": null,
        "pivotColumns": null,
        "xColumns": null,
        "yColumns": null
       },
       "removedWidgets": [],
       "schema": [
        {
         "metadata": "{}",
         "name": "path",
         "type": "\"string\""
        },
        {
         "metadata": "{}",
         "name": "name",
         "type": "\"string\""
        },
        {
         "metadata": "{}",
         "name": "size",
         "type": "\"long\""
        },
        {
         "metadata": "{}",
         "name": "modificationTime",
         "type": "\"long\""
        }
       ],
       "type": "table"
      }
     },
     "output_type": "display_data"
    }
   ],
   "source": [
    "display(dbutils.fs.ls(\"abfss://rawhealthdata@healthcareprojectblob.dfs.core.windows.net\"))"
   ]
  },
  {
   "cell_type": "code",
   "execution_count": 0,
   "metadata": {
    "application/vnd.databricks.v1+cell": {
     "cellMetadata": {
      "byteLimit": 2048000,
      "rowLimit": 10000
     },
     "inputWidgets": {},
     "nuid": "af06c918-1501-4723-993d-96fbf6147c3f",
     "showTitle": false,
     "title": ""
    }
   },
   "outputs": [],
   "source": [
    "# Importing the CSV file.\n",
    "data = spark.read.csv(\"abfss://rawhealthdata@healthcareprojectblob.dfs.core.windows.net/subgroup.csv\", header=True, inferSchema=True)"
   ]
  },
  {
   "cell_type": "code",
   "execution_count": 0,
   "metadata": {
    "application/vnd.databricks.v1+cell": {
     "cellMetadata": {
      "byteLimit": 2048000,
      "rowLimit": 10000
     },
     "inputWidgets": {},
     "nuid": "138d8930-6bb5-4ed5-ab0c-972e335d2269",
     "showTitle": false,
     "title": ""
    }
   },
   "outputs": [
    {
     "output_type": "display_data",
     "data": {
      "text/html": [
       "<style scoped>\n",
       "  .table-result-container {\n",
       "    max-height: 300px;\n",
       "    overflow: auto;\n",
       "  }\n",
       "  table, th, td {\n",
       "    border: 1px solid black;\n",
       "    border-collapse: collapse;\n",
       "  }\n",
       "  th, td {\n",
       "    padding: 5px;\n",
       "  }\n",
       "  th {\n",
       "    text-align: left;\n",
       "  }\n",
       "</style><div class='table-result-container'><table class='table-result'><thead style='background-color: white'><tr><th>subgrp_sk</th><th>subgrp_name</th><th>monthly_premium</th><th>subgrp_id</th></tr></thead><tbody><tr><td>S101</td><td>Deficiency Diseases</td><td>3000</td><td>GRP101,GRP105</td></tr><tr><td>S102</td><td>Accident</td><td>1000</td><td>GRP110,GRP150,GRP136</td></tr><tr><td>S103</td><td>Physiology</td><td>2000</td><td>GRP122,GRP108,GRP138,GRP148</td></tr><tr><td>S104</td><td>Therapy</td><td>1500</td><td>GRP103,GRP113,GRP123,GRP133,GRP143</td></tr><tr><td>S105</td><td>Allergies</td><td>2300</td><td>GRP153,GRP104,GRP114,GRP124</td></tr><tr><td>S106</td><td>Self inflicted</td><td>1200</td><td>GRP117,GRP127,GRP137,GRP147,GRP157</td></tr><tr><td>S107</td><td>Cancer</td><td>3200</td><td>GRP151,GRP131,GRP141,GRP121</td></tr><tr><td>S108</td><td>Infectious disease</td><td>1500</td><td>GRP130,GRP104,GRP109</td></tr><tr><td>S109</td><td>Hereditary</td><td>2000</td><td>GRP102,GRP112,GRP132,GRP142,GRP152</td></tr><tr><td>S110</td><td>Viral</td><td>1000</td><td>GRP143,GRP147,GRP126</td></tr></tbody></table></div>"
      ]
     },
     "metadata": {
      "application/vnd.databricks.v1+output": {
       "addedWidgets": {},
       "aggData": [],
       "aggError": "",
       "aggOverflow": false,
       "aggSchema": [],
       "aggSeriesLimitReached": false,
       "aggType": "",
       "arguments": {},
       "columnCustomDisplayInfos": {},
       "data": [
        [
         "S101",
         "Deficiency Diseases",
         3000,
         "GRP101,GRP105"
        ],
        [
         "S102",
         "Accident",
         1000,
         "GRP110,GRP150,GRP136"
        ],
        [
         "S103",
         "Physiology",
         2000,
         "GRP122,GRP108,GRP138,GRP148"
        ],
        [
         "S104",
         "Therapy",
         1500,
         "GRP103,GRP113,GRP123,GRP133,GRP143"
        ],
        [
         "S105",
         "Allergies",
         2300,
         "GRP153,GRP104,GRP114,GRP124"
        ],
        [
         "S106",
         "Self inflicted",
         1200,
         "GRP117,GRP127,GRP137,GRP147,GRP157"
        ],
        [
         "S107",
         "Cancer",
         3200,
         "GRP151,GRP131,GRP141,GRP121"
        ],
        [
         "S108",
         "Infectious disease",
         1500,
         "GRP130,GRP104,GRP109"
        ],
        [
         "S109",
         "Hereditary",
         2000,
         "GRP102,GRP112,GRP132,GRP142,GRP152"
        ],
        [
         "S110",
         "Viral",
         1000,
         "GRP143,GRP147,GRP126"
        ]
       ],
       "datasetInfos": [],
       "dbfsResultPath": null,
       "isJsonSchema": true,
       "metadata": {},
       "overflow": false,
       "plotOptions": {
        "customPlotOptions": {},
        "displayType": "table",
        "pivotAggregation": null,
        "pivotColumns": null,
        "xColumns": null,
        "yColumns": null
       },
       "removedWidgets": [],
       "schema": [
        {
         "metadata": "{}",
         "name": "subgrp_sk",
         "type": "\"string\""
        },
        {
         "metadata": "{}",
         "name": "subgrp_name",
         "type": "\"string\""
        },
        {
         "metadata": "{}",
         "name": "monthly_premium",
         "type": "\"integer\""
        },
        {
         "metadata": "{}",
         "name": "subgrp_id",
         "type": "\"string\""
        }
       ],
       "type": "table"
      }
     },
     "output_type": "display_data"
    }
   ],
   "source": [
    "display(data)"
   ]
  },
  {
   "cell_type": "code",
   "execution_count": 0,
   "metadata": {
    "application/vnd.databricks.v1+cell": {
     "cellMetadata": {
      "byteLimit": 2048000,
      "rowLimit": 10000
     },
     "inputWidgets": {},
     "nuid": "30e4a86f-befd-4ed1-bf2e-8590999098e2",
     "showTitle": false,
     "title": ""
    }
   },
   "outputs": [
    {
     "output_type": "execute_result",
     "data": {
      "text/plain": [
       "0"
      ]
     },
     "execution_count": 12,
     "metadata": {},
     "output_type": "execute_result"
    }
   ],
   "source": [
    "# check null value for subgrp_sk\n",
    "data.filter(\"subgrp_sk IS NULL\").count()"
   ]
  },
  {
   "cell_type": "code",
   "execution_count": 0,
   "metadata": {
    "application/vnd.databricks.v1+cell": {
     "cellMetadata": {
      "byteLimit": 2048000,
      "rowLimit": 10000
     },
     "inputWidgets": {},
     "nuid": "1dc1c145-0d98-4dfe-a40d-4d9b2d555bf1",
     "showTitle": false,
     "title": ""
    }
   },
   "outputs": [
    {
     "output_type": "stream",
     "name": "stdout",
     "output_type": "stream",
     "text": [
      "+---------+-----------+---------------+---------+\n|subgrp_sk|subgrp_name|monthly_premium|subgrp_id|\n+---------+-----------+---------------+---------+\n+---------+-----------+---------------+---------+\n\nNone\n"
     ]
    }
   ],
   "source": [
    "# OR\n",
    "null_count = data.filter(data[\"subgrp_sk\"].isNull()).show()\n",
    "print(null_count)"
   ]
  },
  {
   "cell_type": "code",
   "execution_count": 0,
   "metadata": {
    "application/vnd.databricks.v1+cell": {
     "cellMetadata": {
      "byteLimit": 2048000,
      "rowLimit": 10000
     },
     "inputWidgets": {},
     "nuid": "cf5d8306-e375-469a-9055-22f61e2abb45",
     "showTitle": false,
     "title": ""
    }
   },
   "outputs": [
    {
     "output_type": "stream",
     "name": "stdout",
     "output_type": "stream",
     "text": [
      "+---------+-----------+---------------+---------+\n|subgrp_sk|subgrp_name|monthly_premium|subgrp_id|\n+---------+-----------+---------------+---------+\n|        0|          0|              0|        0|\n+---------+-----------+---------------+---------+\n\n"
     ]
    }
   ],
   "source": [
    "# check null value for all the columns\n",
    "data.select([count(when(isnan(c) | col(c).isNull(), c)).alias(c) for c in data.columns]).show()"
   ]
  },
  {
   "cell_type": "code",
   "execution_count": 0,
   "metadata": {
    "application/vnd.databricks.v1+cell": {
     "cellMetadata": {
      "byteLimit": 2048000,
      "rowLimit": 10000
     },
     "inputWidgets": {},
     "nuid": "70f9d817-7a4a-4a26-9a61-1dcabb61e28a",
     "showTitle": false,
     "title": ""
    }
   },
   "outputs": [
    {
     "output_type": "stream",
     "name": "stdout",
     "output_type": "stream",
     "text": [
      "+---------+-----------+---------------+---------+-----+\n|subgrp_sk|subgrp_name|monthly_premium|subgrp_id|count|\n+---------+-----------+---------------+---------+-----+\n+---------+-----------+---------------+---------+-----+\n\n"
     ]
    }
   ],
   "source": [
    "# Check the duplicates\n",
    "data.groupby(['subgrp_sk','subgrp_name','monthly_premium','subgrp_id']).count().where(\"count > 1\").show(15, False)"
   ]
  },
  {
   "cell_type": "code",
   "execution_count": 0,
   "metadata": {
    "application/vnd.databricks.v1+cell": {
     "cellMetadata": {
      "byteLimit": 2048000,
      "rowLimit": 10000
     },
     "inputWidgets": {},
     "nuid": "6fe8ba70-fee7-4dfa-8d41-cc91df99d81a",
     "showTitle": false,
     "title": ""
    }
   },
   "outputs": [],
   "source": [
    "# To drop duplicates\n",
    "data = data.dropDuplicates()"
   ]
  },
  {
   "cell_type": "code",
   "execution_count": 0,
   "metadata": {
    "application/vnd.databricks.v1+cell": {
     "cellMetadata": {
      "byteLimit": 2048000,
      "rowLimit": 10000
     },
     "inputWidgets": {},
     "nuid": "8ff06cf2-6bf1-4a4b-861e-dd5c4f8a5db1",
     "showTitle": false,
     "title": ""
    }
   },
   "outputs": [],
   "source": [
    "# data.show(5, False)"
   ]
  },
  {
   "cell_type": "code",
   "execution_count": 0,
   "metadata": {
    "application/vnd.databricks.v1+cell": {
     "cellMetadata": {
      "byteLimit": 2048000,
      "rowLimit": 10000
     },
     "inputWidgets": {},
     "nuid": "fe368561-c171-40db-849b-91c2ef6fc783",
     "showTitle": false,
     "title": ""
    }
   },
   "outputs": [],
   "source": [
    "# Let's create seperate rows for each values in subgrp_id.\n",
    "data = data.withColumn(\"subgrp_id\", explode(split(data.subgrp_id, \",\")))"
   ]
  },
  {
   "cell_type": "code",
   "execution_count": 0,
   "metadata": {
    "application/vnd.databricks.v1+cell": {
     "cellMetadata": {
      "byteLimit": 2048000,
      "rowLimit": 10000
     },
     "inputWidgets": {},
     "nuid": "11be10ed-328d-4186-a5d3-b7b3f5e118e9",
     "showTitle": false,
     "title": ""
    }
   },
   "outputs": [
    {
     "output_type": "stream",
     "name": "stdout",
     "output_type": "stream",
     "text": [
      "+---------+-----------+---------------+---------+\n|subgrp_sk|subgrp_name|monthly_premium|subgrp_id|\n+---------+-----------+---------------+---------+\n|     S107|     Cancer|           3200|   GRP151|\n|     S107|     Cancer|           3200|   GRP131|\n|     S107|     Cancer|           3200|   GRP141|\n|     S107|     Cancer|           3200|   GRP121|\n|     S110|      Viral|           1000|   GRP143|\n|     S110|      Viral|           1000|   GRP147|\n|     S110|      Viral|           1000|   GRP126|\n+---------+-----------+---------------+---------+\n\n"
     ]
    }
   ],
   "source": [
    "data.select(\"*\").filter(col(\"subgrp_sk\").isin([\"S107\", \"S110\"])).show()"
   ]
  },
  {
   "cell_type": "code",
   "execution_count": 0,
   "metadata": {
    "application/vnd.databricks.v1+cell": {
     "cellMetadata": {
      "byteLimit": 2048000,
      "rowLimit": 10000
     },
     "inputWidgets": {},
     "nuid": "50fd5094-1c0f-46b9-8e8c-a73c76563e66",
     "showTitle": false,
     "title": ""
    }
   },
   "outputs": [],
   "source": [
    "# Explode --> transforms each value in a list into a separate row.\n",
    "# data.show(5, False)"
   ]
  },
  {
   "cell_type": "code",
   "execution_count": 0,
   "metadata": {
    "application/vnd.databricks.v1+cell": {
     "cellMetadata": {
      "byteLimit": 2048000,
      "rowLimit": 10000
     },
     "inputWidgets": {},
     "nuid": "e0c0efa2-ea46-4be3-967d-708270ba9f8e",
     "showTitle": false,
     "title": ""
    }
   },
   "outputs": [],
   "source": [
    "# data.count(), len(data.columns)"
   ]
  },
  {
   "cell_type": "code",
   "execution_count": 0,
   "metadata": {
    "application/vnd.databricks.v1+cell": {
     "cellMetadata": {
      "byteLimit": 2048000,
      "rowLimit": 10000
     },
     "inputWidgets": {},
     "nuid": "92434c65-1542-4e9b-8b24-ac37a581bef5",
     "showTitle": false,
     "title": ""
    }
   },
   "outputs": [],
   "source": [
    "# # Now we need to write this data into stagging area for the next step.\n",
    "# # boilerplate code (standard code for certain operation)\n",
    "\n",
    "# Define the output staging path\n",
    "output_stagging_path = \"abfss://stagginglayerhealthdata@healthcareprojectblob.dfs.core.windows.net\"\n",
    "\n",
    "# Write the data to the staging area\n",
    "data.coalesce(1).write.mode(\"append\").format(\"com.databricks.spark.csv\").option(\"header\", \"true\").option(\"format\", \"csv\").save(output_stagging_path)\n",
    "\n",
    "# List all files in the output staging path\n",
    "files = dbutils.fs.ls(output_stagging_path)\n",
    "\n",
    "# Identify part files and non-part files\n",
    "part_files = [x for x in files if x.name.startswith(\"part-\")]\n",
    "non_part_files = [x for x in files if x.name.startswith(\"_\")]\n",
    "\n",
    "# Move the part file to the desired location\n",
    "dbutils.fs.mv(part_files[0].path, f\"{output_stagging_path}/subgroupstagging.csv\")\n",
    "\n",
    "# Remove non-part files\n",
    "for file in non_part_files:\n",
    "    dbutils.fs.rm(file.path)"
   ]
  }
 ],
 "metadata": {
  "application/vnd.databricks.v1+notebook": {
   "dashboards": [],
   "environmentMetadata": {
    "base_environment": "",
    "client": "1"
   },
   "language": "python",
   "notebookMetadata": {
    "pythonIndentUnit": 4
   },
   "notebookName": "Subgroup_transformation",
   "widgets": {}
  }
 },
 "nbformat": 4,
 "nbformat_minor": 0
}
