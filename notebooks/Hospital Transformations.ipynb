{
 "cells": [
  {
   "cell_type": "code",
   "execution_count": 0,
   "metadata": {
    "application/vnd.databricks.v1+cell": {
     "cellMetadata": {
      "byteLimit": 2048000,
      "rowLimit": 10000
     },
     "inputWidgets": {},
     "nuid": "66948528-8df0-4bee-adfe-bb8e1f3498bb",
     "showTitle": false,
     "title": ""
    }
   },
   "outputs": [],
   "source": [
    "import pyspark\n",
    "from pyspark.sql.functions import *"
   ]
  },
  {
   "cell_type": "code",
   "execution_count": 0,
   "metadata": {
    "application/vnd.databricks.v1+cell": {
     "cellMetadata": {
      "byteLimit": 2048000,
      "rowLimit": 10000
     },
     "inputWidgets": {},
     "nuid": "b55223ef-58eb-418a-b0f0-65b55dea544e",
     "showTitle": false,
     "title": ""
    }
   },
   "outputs": [
    {
     "output_type": "execute_result",
     "data": {
      "text/plain": [
       "[SecretScope(name='healthcarescope')]"
      ]
     },
     "execution_count": 2,
     "metadata": {},
     "output_type": "execute_result"
    }
   ],
   "source": [
    "dbutils.secrets.listScopes()"
   ]
  },
  {
   "cell_type": "code",
   "execution_count": 0,
   "metadata": {
    "application/vnd.databricks.v1+cell": {
     "cellMetadata": {
      "byteLimit": 2048000,
      "rowLimit": 10000
     },
     "inputWidgets": {},
     "nuid": "1f3f57dd-1f82-4534-a4fa-7f4d015649c3",
     "showTitle": false,
     "title": ""
    }
   },
   "outputs": [
    {
     "output_type": "execute_result",
     "data": {
      "text/plain": [
       "[SecretMetadata(key='blobaccesskey')]"
      ]
     },
     "execution_count": 3,
     "metadata": {},
     "output_type": "execute_result"
    }
   ],
   "source": [
    "dbutils.secrets.list(scope = 'healthcarescope')"
   ]
  },
  {
   "cell_type": "code",
   "execution_count": 0,
   "metadata": {
    "application/vnd.databricks.v1+cell": {
     "cellMetadata": {
      "byteLimit": 2048000,
      "rowLimit": 10000
     },
     "inputWidgets": {},
     "nuid": "58ffffc4-7253-42f9-b41b-f8ec9cdb177a",
     "showTitle": false,
     "title": ""
    }
   },
   "outputs": [],
   "source": [
    "\n",
    "secret_name = dbutils.secrets.get(scope = \"healthcarescope\", key = \"blobaccesskey\")"
   ]
  },
  {
   "cell_type": "code",
   "execution_count": 0,
   "metadata": {
    "application/vnd.databricks.v1+cell": {
     "cellMetadata": {
      "byteLimit": 2048000,
      "rowLimit": 10000
     },
     "inputWidgets": {},
     "nuid": "d7f6339f-f577-40b9-90de-e4330085af73",
     "showTitle": false,
     "title": ""
    }
   },
   "outputs": [
    {
     "output_type": "stream",
     "name": "stdout",
     "output_type": "stream",
     "text": [
      "[REDACTED]\n"
     ]
    }
   ],
   "source": [
    "print(secret_name)"
   ]
  },
  {
   "cell_type": "code",
   "execution_count": 0,
   "metadata": {
    "application/vnd.databricks.v1+cell": {
     "cellMetadata": {
      "byteLimit": 2048000,
      "rowLimit": 10000
     },
     "inputWidgets": {},
     "nuid": "1a1d4f3b-af91-4cc4-92ce-2b2c30d3a6b7",
     "showTitle": false,
     "title": ""
    }
   },
   "outputs": [],
   "source": [
    "spark.conf.set(\n",
    "    \"fs.azure.account.key.healthcareprojectblob.dfs.core.windows.net\",\n",
    "    dbutils.secrets.get(scope = \"healthcarescope\", key = \"blobaccesskey\"))\n"
   ]
  },
  {
   "cell_type": "code",
   "execution_count": 0,
   "metadata": {
    "application/vnd.databricks.v1+cell": {
     "cellMetadata": {
      "byteLimit": 2048000,
      "rowLimit": 10000
     },
     "inputWidgets": {},
     "nuid": "9de0f959-9e6f-4106-97c0-a304d80cacdc",
     "showTitle": false,
     "title": ""
    }
   },
   "outputs": [
    {
     "output_type": "display_data",
     "data": {
      "text/html": [
       "<style scoped>\n",
       "  .table-result-container {\n",
       "    max-height: 300px;\n",
       "    overflow: auto;\n",
       "  }\n",
       "  table, th, td {\n",
       "    border: 1px solid black;\n",
       "    border-collapse: collapse;\n",
       "  }\n",
       "  th, td {\n",
       "    padding: 5px;\n",
       "  }\n",
       "  th {\n",
       "    text-align: left;\n",
       "  }\n",
       "</style><div class='table-result-container'><table class='table-result'><thead style='background-color: white'><tr><th>path</th><th>name</th><th>size</th><th>modificationTime</th></tr></thead><tbody><tr><td>abfss://rawhealthdata@healthcareprojectblob.dfs.core.windows.net/Patient_records.csv</td><td>Patient_records.csv</td><td>5110</td><td>1725312200000</td></tr><tr><td>abfss://rawhealthdata@healthcareprojectblob.dfs.core.windows.net/claims.csv</td><td>claims.csv</td><td>5766</td><td>1725461306000</td></tr><tr><td>abfss://rawhealthdata@healthcareprojectblob.dfs.core.windows.net/disease.csv</td><td>disease.csv</td><td>1489</td><td>1725312200000</td></tr><tr><td>abfss://rawhealthdata@healthcareprojectblob.dfs.core.windows.net/group.csv</td><td>group.csv</td><td>4390</td><td>1725312200000</td></tr><tr><td>abfss://rawhealthdata@healthcareprojectblob.dfs.core.windows.net/hospital.csv</td><td>hospital.csv</td><td>1328</td><td>1725312200000</td></tr><tr><td>abfss://rawhealthdata@healthcareprojectblob.dfs.core.windows.net/subgroup.csv</td><td>subgroup.csv</td><td>561</td><td>1725312200000</td></tr><tr><td>abfss://rawhealthdata@healthcareprojectblob.dfs.core.windows.net/subscriber.csv</td><td>subscriber.csv</td><td>12061</td><td>1725312201000</td></tr></tbody></table></div>"
      ]
     },
     "metadata": {
      "application/vnd.databricks.v1+output": {
       "addedWidgets": {},
       "aggData": [],
       "aggError": "",
       "aggOverflow": false,
       "aggSchema": [],
       "aggSeriesLimitReached": false,
       "aggType": "",
       "arguments": {},
       "columnCustomDisplayInfos": {},
       "data": [
        [
         "abfss://rawhealthdata@healthcareprojectblob.dfs.core.windows.net/Patient_records.csv",
         "Patient_records.csv",
         5110,
         1725312200000
        ],
        [
         "abfss://rawhealthdata@healthcareprojectblob.dfs.core.windows.net/claims.csv",
         "claims.csv",
         5766,
         1725461306000
        ],
        [
         "abfss://rawhealthdata@healthcareprojectblob.dfs.core.windows.net/disease.csv",
         "disease.csv",
         1489,
         1725312200000
        ],
        [
         "abfss://rawhealthdata@healthcareprojectblob.dfs.core.windows.net/group.csv",
         "group.csv",
         4390,
         1725312200000
        ],
        [
         "abfss://rawhealthdata@healthcareprojectblob.dfs.core.windows.net/hospital.csv",
         "hospital.csv",
         1328,
         1725312200000
        ],
        [
         "abfss://rawhealthdata@healthcareprojectblob.dfs.core.windows.net/subgroup.csv",
         "subgroup.csv",
         561,
         1725312200000
        ],
        [
         "abfss://rawhealthdata@healthcareprojectblob.dfs.core.windows.net/subscriber.csv",
         "subscriber.csv",
         12061,
         1725312201000
        ]
       ],
       "datasetInfos": [],
       "dbfsResultPath": null,
       "isJsonSchema": true,
       "metadata": {},
       "overflow": false,
       "plotOptions": {
        "customPlotOptions": {},
        "displayType": "table",
        "pivotAggregation": null,
        "pivotColumns": null,
        "xColumns": null,
        "yColumns": null
       },
       "removedWidgets": [],
       "schema": [
        {
         "metadata": "{}",
         "name": "path",
         "type": "\"string\""
        },
        {
         "metadata": "{}",
         "name": "name",
         "type": "\"string\""
        },
        {
         "metadata": "{}",
         "name": "size",
         "type": "\"long\""
        },
        {
         "metadata": "{}",
         "name": "modificationTime",
         "type": "\"long\""
        }
       ],
       "type": "table"
      }
     },
     "output_type": "display_data"
    }
   ],
   "source": [
    "display(dbutils.fs.ls(\"abfss://rawhealthdata@healthcareprojectblob.dfs.core.windows.net\"))"
   ]
  },
  {
   "cell_type": "code",
   "execution_count": 0,
   "metadata": {
    "application/vnd.databricks.v1+cell": {
     "cellMetadata": {
      "byteLimit": 2048000,
      "rowLimit": 10000
     },
     "inputWidgets": {},
     "nuid": "b9c45fdf-01ed-46e2-ae62-ac2a4f6b82c6",
     "showTitle": false,
     "title": ""
    }
   },
   "outputs": [],
   "source": [
    "# # Mount the Azure Blob Storage container as a DBFS path\n",
    "# dbutils.fs.mount(\n",
    "#   source=\"wasbs://rawhealthdata@healthcareprojectblob.blob.core.windows.net\",\n",
    "#   mount_point=\"/mnt/rawhealthdata\",\n",
    "#   extra_configs={\n",
    "#     \"fs.azure.account.key.healthcareprojectblob.blob.core.windows.net\": \"0izVsgjt8yavZcTHY3jKLiEiVe0Nu7jqnlYlYXCi3eAF/WsbNH1eY0Cvvd59kRgOIpunsgWDknLx+ASteulWxw==\"\n",
    "#   }\n",
    "# )\n",
    "\n",
    "# # List the files in the mounted DBFS path\n",
    "# dbutils.fs.ls(\"/mnt/rawhealthdata\")"
   ]
  },
  {
   "cell_type": "code",
   "execution_count": 0,
   "metadata": {
    "application/vnd.databricks.v1+cell": {
     "cellMetadata": {
      "byteLimit": 2048000,
      "rowLimit": 10000
     },
     "inputWidgets": {},
     "nuid": "022191f8-37bf-4aa2-bfab-8f930b45ee64",
     "showTitle": false,
     "title": ""
    }
   },
   "outputs": [],
   "source": [
    "# Unmount the Azure Blob Storage container\n",
    "# dbutils.fs.unmount(\"/mnt/rawhealthdata\")"
   ]
  },
  {
   "cell_type": "code",
   "execution_count": 0,
   "metadata": {
    "application/vnd.databricks.v1+cell": {
     "cellMetadata": {
      "byteLimit": 2048000,
      "rowLimit": 10000
     },
     "inputWidgets": {},
     "nuid": "af06c918-1501-4723-993d-96fbf6147c3f",
     "showTitle": false,
     "title": ""
    }
   },
   "outputs": [],
   "source": [
    "data = spark.read.csv(\"abfss://rawhealthdata@healthcareprojectblob.dfs.core.windows.net/hospital.csv\", header=True, inferSchema=True)"
   ]
  },
  {
   "cell_type": "code",
   "execution_count": 0,
   "metadata": {
    "application/vnd.databricks.v1+cell": {
     "cellMetadata": {
      "byteLimit": 2048000,
      "rowLimit": 10000
     },
     "inputWidgets": {},
     "nuid": "138d8930-6bb5-4ed5-ab0c-972e335d2269",
     "showTitle": false,
     "title": ""
    }
   },
   "outputs": [
    {
     "output_type": "display_data",
     "data": {
      "text/html": [
       "<style scoped>\n",
       "  .table-result-container {\n",
       "    max-height: 300px;\n",
       "    overflow: auto;\n",
       "  }\n",
       "  table, th, td {\n",
       "    border: 1px solid black;\n",
       "    border-collapse: collapse;\n",
       "  }\n",
       "  th, td {\n",
       "    padding: 5px;\n",
       "  }\n",
       "  th {\n",
       "    text-align: left;\n",
       "  }\n",
       "</style><div class='table-result-container'><table class='table-result'><thead style='background-color: white'><tr><th>Hospital_id</th><th>Hospital_name</th><th>city</th><th>state</th><th>country</th></tr></thead><tbody><tr><td>H1000</td><td>All India Institute of Medical Sciences</td><td>New Delhi</td><td>NaN</td><td>India</td></tr><tr><td>H1001</td><td>Medanta The Medicity</td><td>Gurgaon</td><td>Haryana</td><td>India</td></tr><tr><td>H1002</td><td>The Christian Medical College</td><td>Vellore</td><td>Tamil Nadu</td><td>India</td></tr><tr><td>H1003</td><td>PGIMER - Postgraduate Institute of Medical Education and Research</td><td>Chandigarh</td><td>Haryana</td><td>India</td></tr><tr><td>H1004</td><td>Apollo Hospital - Chennai</td><td>Chennai</td><td>Tamil Nadu</td><td>India</td></tr><tr><td>H1005</td><td>P. D. Hinduja National Hospital & Medical Research Centre</td><td>Mumbai</td><td>Maharashtra</td><td>India</td></tr><tr><td>H1006</td><td>Breach Candy Hospital</td><td>Mumbai</td><td>Maharashtra</td><td>India</td></tr><tr><td>H1007</td><td>Fortis Flt. Lt. Rajan Dhall Hospital</td><td>New Delhi</td><td>NaN</td><td>India</td></tr><tr><td>H1008</td><td>King Edward Memorial Hospital</td><td>Mumbai</td><td>Maharashtra</td><td>India</td></tr><tr><td>H1009</td><td>Indraprastha Apollo Hospital</td><td>Delhi</td><td>NaN</td><td>India</td></tr><tr><td>H1010</td><td>Lilavati Hospital And Research Centre</td><td>Mumbai</td><td>Maharashtra</td><td>India</td></tr><tr><td>H1011</td><td>Sir Ganga Ram Hospital</td><td>Delhi</td><td>NaN</td><td>India</td></tr><tr><td>H1012</td><td>Bombay Hospital & Medical Research Centre</td><td>Mumbai</td><td>Maharashtra</td><td>India</td></tr><tr><td>H1013</td><td>Apollo Health City - Jubilee Hills</td><td>Hyderabad</td><td>Telangana</td><td>India</td></tr><tr><td>H1014</td><td>Fortis Hiranandani Hospital</td><td>Mumbai</td><td>Maharashtra</td><td>India</td></tr><tr><td>H1015</td><td>Fortis Hospital Mulund</td><td>Mumbai</td><td>Maharashtra</td><td>India</td></tr><tr><td>H1016</td><td>Jaslok Hospital and Research Centre</td><td>Mumbai</td><td>Maharashtra</td><td>India</td></tr><tr><td>H1017</td><td>Manipal Hospitals</td><td>Bengaluru</td><td>Karnataka</td><td>India</td></tr><tr><td>H1018</td><td>Yashoda Hospital Secunderabad</td><td>Hyderabad</td><td>Telangana</td><td>India</td></tr><tr><td>H1019</td><td>Apollo Hospitals - Bannerghatta Road</td><td>Bengaluru</td><td>Karnataka</td><td>India</td></tr></tbody></table></div>"
      ]
     },
     "metadata": {
      "application/vnd.databricks.v1+output": {
       "addedWidgets": {},
       "aggData": [],
       "aggError": "",
       "aggOverflow": false,
       "aggSchema": [],
       "aggSeriesLimitReached": false,
       "aggType": "",
       "arguments": {},
       "columnCustomDisplayInfos": {},
       "data": [
        [
         "H1000",
         "All India Institute of Medical Sciences",
         "New Delhi",
         "NaN",
         "India"
        ],
        [
         "H1001",
         "Medanta The Medicity",
         "Gurgaon",
         "Haryana",
         "India"
        ],
        [
         "H1002",
         "The Christian Medical College",
         "Vellore",
         "Tamil Nadu",
         "India"
        ],
        [
         "H1003",
         "PGIMER - Postgraduate Institute of Medical Education and Research",
         "Chandigarh",
         "Haryana",
         "India"
        ],
        [
         "H1004",
         "Apollo Hospital - Chennai",
         "Chennai",
         "Tamil Nadu",
         "India"
        ],
        [
         "H1005",
         "P. D. Hinduja National Hospital & Medical Research Centre",
         "Mumbai",
         "Maharashtra",
         "India"
        ],
        [
         "H1006",
         "Breach Candy Hospital",
         "Mumbai",
         "Maharashtra",
         "India"
        ],
        [
         "H1007",
         "Fortis Flt. Lt. Rajan Dhall Hospital",
         "New Delhi",
         "NaN",
         "India"
        ],
        [
         "H1008",
         "King Edward Memorial Hospital",
         "Mumbai",
         "Maharashtra",
         "India"
        ],
        [
         "H1009",
         "Indraprastha Apollo Hospital",
         "Delhi",
         "NaN",
         "India"
        ],
        [
         "H1010",
         "Lilavati Hospital And Research Centre",
         "Mumbai",
         "Maharashtra",
         "India"
        ],
        [
         "H1011",
         "Sir Ganga Ram Hospital",
         "Delhi",
         "NaN",
         "India"
        ],
        [
         "H1012",
         "Bombay Hospital & Medical Research Centre",
         "Mumbai",
         "Maharashtra",
         "India"
        ],
        [
         "H1013",
         "Apollo Health City - Jubilee Hills",
         "Hyderabad",
         "Telangana",
         "India"
        ],
        [
         "H1014",
         "Fortis Hiranandani Hospital",
         "Mumbai",
         "Maharashtra",
         "India"
        ],
        [
         "H1015",
         "Fortis Hospital Mulund",
         "Mumbai",
         "Maharashtra",
         "India"
        ],
        [
         "H1016",
         "Jaslok Hospital and Research Centre",
         "Mumbai",
         "Maharashtra",
         "India"
        ],
        [
         "H1017",
         "Manipal Hospitals",
         "Bengaluru",
         "Karnataka",
         "India"
        ],
        [
         "H1018",
         "Yashoda Hospital Secunderabad",
         "Hyderabad",
         "Telangana",
         "India"
        ],
        [
         "H1019",
         "Apollo Hospitals - Bannerghatta Road",
         "Bengaluru",
         "Karnataka",
         "India"
        ]
       ],
       "datasetInfos": [],
       "dbfsResultPath": null,
       "isJsonSchema": true,
       "metadata": {},
       "overflow": false,
       "plotOptions": {
        "customPlotOptions": {},
        "displayType": "table",
        "pivotAggregation": null,
        "pivotColumns": null,
        "xColumns": null,
        "yColumns": null
       },
       "removedWidgets": [],
       "schema": [
        {
         "metadata": "{}",
         "name": "Hospital_id",
         "type": "\"string\""
        },
        {
         "metadata": "{}",
         "name": "Hospital_name",
         "type": "\"string\""
        },
        {
         "metadata": "{}",
         "name": "city",
         "type": "\"string\""
        },
        {
         "metadata": "{}",
         "name": "state",
         "type": "\"string\""
        },
        {
         "metadata": "{}",
         "name": "country",
         "type": "\"string\""
        }
       ],
       "type": "table"
      }
     },
     "output_type": "display_data"
    }
   ],
   "source": [
    "display(data)"
   ]
  },
  {
   "cell_type": "code",
   "execution_count": 0,
   "metadata": {
    "application/vnd.databricks.v1+cell": {
     "cellMetadata": {
      "byteLimit": 2048000,
      "rowLimit": 10000
     },
     "inputWidgets": {},
     "nuid": "2660377e-880f-4c19-8fa6-0741ebe2a2de",
     "showTitle": false,
     "title": ""
    }
   },
   "outputs": [],
   "source": [
    "# to do - clean state and city"
   ]
  },
  {
   "cell_type": "code",
   "execution_count": 0,
   "metadata": {
    "application/vnd.databricks.v1+cell": {
     "cellMetadata": {
      "byteLimit": 2048000,
      "rowLimit": 10000
     },
     "inputWidgets": {},
     "nuid": "fb50ff25-ed80-4794-8b9e-48d34f232d62",
     "showTitle": false,
     "title": ""
    }
   },
   "outputs": [
    {
     "output_type": "execute_result",
     "data": {
      "text/plain": [
       "['Hospital_id', 'Hospital_name', 'city', 'state', 'country']"
      ]
     },
     "execution_count": 13,
     "metadata": {},
     "output_type": "execute_result"
    }
   ],
   "source": [
    "data.columns"
   ]
  },
  {
   "cell_type": "code",
   "execution_count": 0,
   "metadata": {
    "application/vnd.databricks.v1+cell": {
     "cellMetadata": {
      "byteLimit": 2048000,
      "rowLimit": 10000
     },
     "inputWidgets": {},
     "nuid": "40e8e27e-77f5-4377-8916-53eb38667bba",
     "showTitle": false,
     "title": ""
    }
   },
   "outputs": [
    {
     "output_type": "stream",
     "name": "stdout",
     "output_type": "stream",
     "text": [
      "+-----------+-------------+----+-----+-------+-----+\n|Hospital_id|Hospital_name|city|state|country|count|\n+-----------+-------------+----+-----+-------+-----+\n+-----------+-------------+----+-----+-------+-----+\n\n"
     ]
    }
   ],
   "source": [
    "data.groupby(['Hospital_id', 'Hospital_name', 'city', 'state', 'country']).count().where(\"count > 1\").show(15, False)"
   ]
  },
  {
   "cell_type": "code",
   "execution_count": 0,
   "metadata": {
    "application/vnd.databricks.v1+cell": {
     "cellMetadata": {
      "byteLimit": 2048000,
      "rowLimit": 10000
     },
     "inputWidgets": {},
     "nuid": "888db731-c53c-403c-88a0-cf6d127c9fa6",
     "showTitle": false,
     "title": ""
    }
   },
   "outputs": [
    {
     "output_type": "stream",
     "name": "stdout",
     "output_type": "stream",
     "text": [
      "+-----------+-------------+----+-----+-------+\n|Hospital_id|Hospital_name|city|state|country|\n+-----------+-------------+----+-----+-------+\n|          0|            0|   0|    4|      0|\n+-----------+-------------+----+-----+-------+\n\n"
     ]
    }
   ],
   "source": [
    "# check null value for all the columns\n",
    "data.select([count(when(isnan(c) | col(c).isNull(), c)).alias(c) for c in data.columns]).show()"
   ]
  },
  {
   "cell_type": "code",
   "execution_count": 0,
   "metadata": {
    "application/vnd.databricks.v1+cell": {
     "cellMetadata": {
      "byteLimit": 2048000,
      "rowLimit": 10000
     },
     "inputWidgets": {},
     "nuid": "6f30f4e5-5cb6-4554-a346-50625418a551",
     "showTitle": false,
     "title": ""
    }
   },
   "outputs": [],
   "source": [
    "data = data.dropDuplicates()"
   ]
  },
  {
   "cell_type": "code",
   "execution_count": 0,
   "metadata": {
    "application/vnd.databricks.v1+cell": {
     "cellMetadata": {
      "byteLimit": 2048000,
      "rowLimit": 10000
     },
     "inputWidgets": {},
     "nuid": "b226b14d-6a32-43ce-be83-342f6768d45e",
     "showTitle": false,
     "title": ""
    }
   },
   "outputs": [],
   "source": [
    "data = data.fillna({\"state\" : \"Union Territory\"})"
   ]
  },
  {
   "cell_type": "code",
   "execution_count": 0,
   "metadata": {
    "application/vnd.databricks.v1+cell": {
     "cellMetadata": {
      "byteLimit": 2048000,
      "rowLimit": 10000
     },
     "inputWidgets": {},
     "nuid": "d25c178c-e92c-4854-8d22-f870d5f176e3",
     "showTitle": false,
     "title": ""
    }
   },
   "outputs": [
    {
     "output_type": "stream",
     "name": "stdout",
     "output_type": "stream",
     "text": [
      "+-----------+--------------------+----------+-----------+-------+\n|Hospital_id|       Hospital_name|      city|      state|country|\n+-----------+--------------------+----------+-----------+-------+\n|      H1010|Lilavati Hospital...|    Mumbai|Maharashtra|  India|\n|      H1017|   Manipal Hospitals| Bengaluru|  Karnataka|  India|\n|      H1006|Breach Candy Hosp...|    Mumbai|Maharashtra|  India|\n|      H1016|Jaslok Hospital a...|    Mumbai|Maharashtra|  India|\n|      H1012|Bombay Hospital &...|    Mumbai|Maharashtra|  India|\n|      H1018|Yashoda Hospital ...| Hyderabad|  Telangana|  India|\n|      H1015|Fortis Hospital M...|    Mumbai|Maharashtra|  India|\n|      H1009|Indraprastha Apol...|     Delhi|        NaN|  India|\n|      H1014|Fortis Hiranandan...|    Mumbai|Maharashtra|  India|\n|      H1004|Apollo Hospital -...|   Chennai| Tamil Nadu|  India|\n|      H1002|The Christian Med...|   Vellore| Tamil Nadu|  India|\n|      H1003|PGIMER - Postgrad...|Chandigarh|    Haryana|  India|\n|      H1000|All India Institu...| New Delhi|        NaN|  India|\n|      H1008|King Edward Memor...|    Mumbai|Maharashtra|  India|\n|      H1007|Fortis Flt. Lt. R...| New Delhi|        NaN|  India|\n|      H1001|Medanta The Medicity|   Gurgaon|    Haryana|  India|\n|      H1011|Sir Ganga Ram Hos...|     Delhi|        NaN|  India|\n|      H1005|P. D. Hinduja Nat...|    Mumbai|Maharashtra|  India|\n|      H1019|Apollo Hospitals ...| Bengaluru|  Karnataka|  India|\n|      H1013|Apollo Health Cit...| Hyderabad|  Telangana|  India|\n+-----------+--------------------+----------+-----------+-------+\n\n"
     ]
    }
   ],
   "source": [
    "data.show()"
   ]
  },
  {
   "cell_type": "code",
   "execution_count": 0,
   "metadata": {
    "application/vnd.databricks.v1+cell": {
     "cellMetadata": {
      "byteLimit": 2048000,
      "rowLimit": 10000
     },
     "inputWidgets": {},
     "nuid": "906fc0d5-a2b5-4733-b5df-7b73bc11ce00",
     "showTitle": false,
     "title": ""
    }
   },
   "outputs": [],
   "source": [
    "data = data.replace(\"NaN\", None)"
   ]
  },
  {
   "cell_type": "code",
   "execution_count": 0,
   "metadata": {
    "application/vnd.databricks.v1+cell": {
     "cellMetadata": {
      "byteLimit": 2048000,
      "rowLimit": 10000
     },
     "inputWidgets": {},
     "nuid": "9ebc25a7-5148-4883-b434-3adda2908111",
     "showTitle": false,
     "title": ""
    }
   },
   "outputs": [
    {
     "output_type": "stream",
     "name": "stdout",
     "output_type": "stream",
     "text": [
      "+-----------+--------------------+----------+-----------+-------+\n|Hospital_id|       Hospital_name|      city|      state|country|\n+-----------+--------------------+----------+-----------+-------+\n|      H1010|Lilavati Hospital...|    Mumbai|Maharashtra|  India|\n|      H1017|   Manipal Hospitals| Bengaluru|  Karnataka|  India|\n|      H1006|Breach Candy Hosp...|    Mumbai|Maharashtra|  India|\n|      H1016|Jaslok Hospital a...|    Mumbai|Maharashtra|  India|\n|      H1012|Bombay Hospital &...|    Mumbai|Maharashtra|  India|\n|      H1018|Yashoda Hospital ...| Hyderabad|  Telangana|  India|\n|      H1015|Fortis Hospital M...|    Mumbai|Maharashtra|  India|\n|      H1009|Indraprastha Apol...|     Delhi|       NULL|  India|\n|      H1014|Fortis Hiranandan...|    Mumbai|Maharashtra|  India|\n|      H1004|Apollo Hospital -...|   Chennai| Tamil Nadu|  India|\n|      H1002|The Christian Med...|   Vellore| Tamil Nadu|  India|\n|      H1003|PGIMER - Postgrad...|Chandigarh|    Haryana|  India|\n|      H1000|All India Institu...| New Delhi|       NULL|  India|\n|      H1008|King Edward Memor...|    Mumbai|Maharashtra|  India|\n|      H1007|Fortis Flt. Lt. R...| New Delhi|       NULL|  India|\n|      H1001|Medanta The Medicity|   Gurgaon|    Haryana|  India|\n|      H1011|Sir Ganga Ram Hos...|     Delhi|       NULL|  India|\n|      H1005|P. D. Hinduja Nat...|    Mumbai|Maharashtra|  India|\n|      H1019|Apollo Hospitals ...| Bengaluru|  Karnataka|  India|\n|      H1013|Apollo Health Cit...| Hyderabad|  Telangana|  India|\n+-----------+--------------------+----------+-----------+-------+\n\n"
     ]
    }
   ],
   "source": [
    "data.show()"
   ]
  },
  {
   "cell_type": "code",
   "execution_count": 0,
   "metadata": {
    "application/vnd.databricks.v1+cell": {
     "cellMetadata": {
      "byteLimit": 2048000,
      "rowLimit": 10000
     },
     "inputWidgets": {},
     "nuid": "1ee922a6-d571-4033-b8d3-4dcef4b080ba",
     "showTitle": false,
     "title": ""
    }
   },
   "outputs": [],
   "source": [
    "data = data.fillna({\"state\" : \"Union Territory\"})"
   ]
  },
  {
   "cell_type": "code",
   "execution_count": 0,
   "metadata": {
    "application/vnd.databricks.v1+cell": {
     "cellMetadata": {
      "byteLimit": 2048000,
      "rowLimit": 10000
     },
     "inputWidgets": {},
     "nuid": "64998545-134d-4782-a591-e64d59564b85",
     "showTitle": false,
     "title": ""
    }
   },
   "outputs": [
    {
     "output_type": "stream",
     "name": "stdout",
     "output_type": "stream",
     "text": [
      "+-----------+--------------------+----------+---------------+-------+\n|Hospital_id|       Hospital_name|      city|          state|country|\n+-----------+--------------------+----------+---------------+-------+\n|      H1010|Lilavati Hospital...|    Mumbai|    Maharashtra|  India|\n|      H1017|   Manipal Hospitals| Bengaluru|      Karnataka|  India|\n|      H1006|Breach Candy Hosp...|    Mumbai|    Maharashtra|  India|\n|      H1016|Jaslok Hospital a...|    Mumbai|    Maharashtra|  India|\n|      H1012|Bombay Hospital &...|    Mumbai|    Maharashtra|  India|\n|      H1018|Yashoda Hospital ...| Hyderabad|      Telangana|  India|\n|      H1015|Fortis Hospital M...|    Mumbai|    Maharashtra|  India|\n|      H1009|Indraprastha Apol...|     Delhi|Union Territory|  India|\n|      H1014|Fortis Hiranandan...|    Mumbai|    Maharashtra|  India|\n|      H1004|Apollo Hospital -...|   Chennai|     Tamil Nadu|  India|\n|      H1002|The Christian Med...|   Vellore|     Tamil Nadu|  India|\n|      H1003|PGIMER - Postgrad...|Chandigarh|        Haryana|  India|\n|      H1000|All India Institu...| New Delhi|Union Territory|  India|\n|      H1008|King Edward Memor...|    Mumbai|    Maharashtra|  India|\n|      H1007|Fortis Flt. Lt. R...| New Delhi|Union Territory|  India|\n|      H1001|Medanta The Medicity|   Gurgaon|        Haryana|  India|\n|      H1011|Sir Ganga Ram Hos...|     Delhi|Union Territory|  India|\n|      H1005|P. D. Hinduja Nat...|    Mumbai|    Maharashtra|  India|\n|      H1019|Apollo Hospitals ...| Bengaluru|      Karnataka|  India|\n|      H1013|Apollo Health Cit...| Hyderabad|      Telangana|  India|\n+-----------+--------------------+----------+---------------+-------+\n\n"
     ]
    }
   ],
   "source": [
    "data.show()"
   ]
  },
  {
   "cell_type": "code",
   "execution_count": 0,
   "metadata": {
    "application/vnd.databricks.v1+cell": {
     "cellMetadata": {
      "byteLimit": 2048000,
      "rowLimit": 10000
     },
     "inputWidgets": {},
     "nuid": "08941094-659d-4a84-b6a0-e7293d1ec9fb",
     "showTitle": false,
     "title": ""
    }
   },
   "outputs": [],
   "source": [
    "# Replace Delhi with New Delhi\n",
    "data = data.replace(\"Delhi\", \"New Delhi\")"
   ]
  },
  {
   "cell_type": "code",
   "execution_count": 0,
   "metadata": {
    "application/vnd.databricks.v1+cell": {
     "cellMetadata": {
      "byteLimit": 2048000,
      "rowLimit": 10000
     },
     "inputWidgets": {},
     "nuid": "ccf24808-6c33-4859-a3ee-2fa21d9816f5",
     "showTitle": false,
     "title": ""
    }
   },
   "outputs": [
    {
     "output_type": "stream",
     "name": "stdout",
     "output_type": "stream",
     "text": [
      "+-----------+--------------------+----------+---------------+-------+\n|Hospital_id|       Hospital_name|      city|          state|country|\n+-----------+--------------------+----------+---------------+-------+\n|      H1010|Lilavati Hospital...|    Mumbai|    Maharashtra|  India|\n|      H1017|   Manipal Hospitals| Bengaluru|      Karnataka|  India|\n|      H1006|Breach Candy Hosp...|    Mumbai|    Maharashtra|  India|\n|      H1016|Jaslok Hospital a...|    Mumbai|    Maharashtra|  India|\n|      H1012|Bombay Hospital &...|    Mumbai|    Maharashtra|  India|\n|      H1018|Yashoda Hospital ...| Hyderabad|      Telangana|  India|\n|      H1015|Fortis Hospital M...|    Mumbai|    Maharashtra|  India|\n|      H1009|Indraprastha Apol...| New Delhi|Union Territory|  India|\n|      H1014|Fortis Hiranandan...|    Mumbai|    Maharashtra|  India|\n|      H1004|Apollo Hospital -...|   Chennai|     Tamil Nadu|  India|\n|      H1002|The Christian Med...|   Vellore|     Tamil Nadu|  India|\n|      H1003|PGIMER - Postgrad...|Chandigarh|        Haryana|  India|\n|      H1000|All India Institu...| New Delhi|Union Territory|  India|\n|      H1008|King Edward Memor...|    Mumbai|    Maharashtra|  India|\n|      H1007|Fortis Flt. Lt. R...| New Delhi|Union Territory|  India|\n|      H1001|Medanta The Medicity|   Gurgaon|        Haryana|  India|\n|      H1011|Sir Ganga Ram Hos...| New Delhi|Union Territory|  India|\n|      H1005|P. D. Hinduja Nat...|    Mumbai|    Maharashtra|  India|\n|      H1019|Apollo Hospitals ...| Bengaluru|      Karnataka|  India|\n|      H1013|Apollo Health Cit...| Hyderabad|      Telangana|  India|\n+-----------+--------------------+----------+---------------+-------+\n\n"
     ]
    }
   ],
   "source": [
    "data.show()"
   ]
  },
  {
   "cell_type": "code",
   "execution_count": 0,
   "metadata": {
    "application/vnd.databricks.v1+cell": {
     "cellMetadata": {
      "byteLimit": 2048000,
      "rowLimit": 10000
     },
     "inputWidgets": {},
     "nuid": "6da1eef5-078a-4daa-b142-b9009e59a798",
     "showTitle": false,
     "title": ""
    }
   },
   "outputs": [],
   "source": [
    "# # Now we need to write this data into stagging area for the next step.\n",
    "# # boilerplate code (standard code for certain operation)\n",
    "\n",
    "# Define the output staging path\n",
    "output_stagging_path = \"abfss://stagginglayerhealthdata@healthcareprojectblob.dfs.core.windows.net\"\n",
    "\n",
    "# Write the data to the staging area\n",
    "data.coalesce(1).write.mode(\"append\").format(\"com.databricks.spark.csv\").option(\"header\", \"true\").option(\"format\", \"csv\").save(output_stagging_path)\n",
    "\n",
    "# List all files in the output staging path\n",
    "files = dbutils.fs.ls(output_stagging_path)\n",
    "\n",
    "# Identify part files and non-part files\n",
    "part_files = [x for x in files if x.name.startswith(\"part-\")]\n",
    "non_part_files = [x for x in files if x.name.startswith(\"_\")]\n",
    "\n",
    "# Move the part file to the desired location\n",
    "if part_files:\n",
    "    dbutils.fs.mv(part_files[0].path, f\"{output_stagging_path}/hospitalstagging.csv\")\n",
    "\n",
    "# Remove non-part files\n",
    "for file in non_part_files:\n",
    "    dbutils.fs.rm(file.path)"
   ]
  },
  {
   "cell_type": "code",
   "execution_count": 0,
   "metadata": {
    "application/vnd.databricks.v1+cell": {
     "cellMetadata": {
      "byteLimit": 2048000,
      "rowLimit": 10000
     },
     "inputWidgets": {},
     "nuid": "64db2ff5-21eb-441f-95fa-af125ef6c824",
     "showTitle": false,
     "title": ""
    }
   },
   "outputs": [],
   "source": []
  }
 ],
 "metadata": {
  "application/vnd.databricks.v1+notebook": {
   "dashboards": [],
   "environmentMetadata": {
    "base_environment": "",
    "client": "1"
   },
   "language": "python",
   "notebookMetadata": {
    "pythonIndentUnit": 4
   },
   "notebookName": "Hospital Transformations",
   "widgets": {}
  }
 },
 "nbformat": 4,
 "nbformat_minor": 0
}
