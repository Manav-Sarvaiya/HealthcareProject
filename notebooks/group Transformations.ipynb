{
 "cells": [
  {
   "cell_type": "code",
   "execution_count": 0,
   "metadata": {
    "application/vnd.databricks.v1+cell": {
     "cellMetadata": {
      "byteLimit": 2048000,
      "rowLimit": 10000
     },
     "inputWidgets": {},
     "nuid": "66948528-8df0-4bee-adfe-bb8e1f3498bb",
     "showTitle": false,
     "title": ""
    }
   },
   "outputs": [],
   "source": [
    "import pyspark\n",
    "from pyspark.sql.functions import *"
   ]
  },
  {
   "cell_type": "code",
   "execution_count": 0,
   "metadata": {
    "application/vnd.databricks.v1+cell": {
     "cellMetadata": {
      "byteLimit": 2048000,
      "rowLimit": 10000
     },
     "inputWidgets": {},
     "nuid": "b55223ef-58eb-418a-b0f0-65b55dea544e",
     "showTitle": false,
     "title": ""
    }
   },
   "outputs": [
    {
     "output_type": "execute_result",
     "data": {
      "text/plain": [
       "[SecretScope(name='healthcarescope')]"
      ]
     },
     "execution_count": 87,
     "metadata": {},
     "output_type": "execute_result"
    }
   ],
   "source": [
    "dbutils.secrets.listScopes()"
   ]
  },
  {
   "cell_type": "code",
   "execution_count": 0,
   "metadata": {
    "application/vnd.databricks.v1+cell": {
     "cellMetadata": {
      "byteLimit": 2048000,
      "rowLimit": 10000
     },
     "inputWidgets": {},
     "nuid": "1f3f57dd-1f82-4534-a4fa-7f4d015649c3",
     "showTitle": false,
     "title": ""
    }
   },
   "outputs": [
    {
     "output_type": "execute_result",
     "data": {
      "text/plain": [
       "[SecretMetadata(key='blobaccesskey')]"
      ]
     },
     "execution_count": 88,
     "metadata": {},
     "output_type": "execute_result"
    }
   ],
   "source": [
    "dbutils.secrets.list(scope = 'healthcarescope')"
   ]
  },
  {
   "cell_type": "code",
   "execution_count": 0,
   "metadata": {
    "application/vnd.databricks.v1+cell": {
     "cellMetadata": {
      "byteLimit": 2048000,
      "rowLimit": 10000
     },
     "inputWidgets": {},
     "nuid": "58ffffc4-7253-42f9-b41b-f8ec9cdb177a",
     "showTitle": false,
     "title": ""
    }
   },
   "outputs": [],
   "source": [
    "\n",
    "secret_name = dbutils.secrets.get(scope = \"healthcarescope\", key = \"blobaccesskey\")"
   ]
  },
  {
   "cell_type": "code",
   "execution_count": 0,
   "metadata": {
    "application/vnd.databricks.v1+cell": {
     "cellMetadata": {
      "byteLimit": 2048000,
      "rowLimit": 10000
     },
     "inputWidgets": {},
     "nuid": "d7f6339f-f577-40b9-90de-e4330085af73",
     "showTitle": false,
     "title": ""
    }
   },
   "outputs": [
    {
     "output_type": "stream",
     "name": "stdout",
     "output_type": "stream",
     "text": [
      "[REDACTED]\n"
     ]
    }
   ],
   "source": [
    "print(secret_name)"
   ]
  },
  {
   "cell_type": "code",
   "execution_count": 0,
   "metadata": {
    "application/vnd.databricks.v1+cell": {
     "cellMetadata": {
      "byteLimit": 2048000,
      "rowLimit": 10000
     },
     "inputWidgets": {},
     "nuid": "1a1d4f3b-af91-4cc4-92ce-2b2c30d3a6b7",
     "showTitle": false,
     "title": ""
    }
   },
   "outputs": [],
   "source": [
    "spark.conf.set(\n",
    "    \"fs.azure.account.key.healthcareprojectblob.dfs.core.windows.net\",\n",
    "    dbutils.secrets.get(scope = \"healthcarescope\", key = \"blobaccesskey\"))\n"
   ]
  },
  {
   "cell_type": "code",
   "execution_count": 0,
   "metadata": {
    "application/vnd.databricks.v1+cell": {
     "cellMetadata": {
      "byteLimit": 2048000,
      "rowLimit": 10000
     },
     "inputWidgets": {},
     "nuid": "9de0f959-9e6f-4106-97c0-a304d80cacdc",
     "showTitle": false,
     "title": ""
    }
   },
   "outputs": [
    {
     "output_type": "display_data",
     "data": {
      "text/html": [
       "<style scoped>\n",
       "  .table-result-container {\n",
       "    max-height: 300px;\n",
       "    overflow: auto;\n",
       "  }\n",
       "  table, th, td {\n",
       "    border: 1px solid black;\n",
       "    border-collapse: collapse;\n",
       "  }\n",
       "  th, td {\n",
       "    padding: 5px;\n",
       "  }\n",
       "  th {\n",
       "    text-align: left;\n",
       "  }\n",
       "</style><div class='table-result-container'><table class='table-result'><thead style='background-color: white'><tr><th>path</th><th>name</th><th>size</th><th>modificationTime</th></tr></thead><tbody><tr><td>abfss://rawhealthdata@healthcareprojectblob.dfs.core.windows.net/Patient_records.csv</td><td>Patient_records.csv</td><td>5110</td><td>1725312200000</td></tr><tr><td>abfss://rawhealthdata@healthcareprojectblob.dfs.core.windows.net/claims.csv</td><td>claims.csv</td><td>5766</td><td>1725461306000</td></tr><tr><td>abfss://rawhealthdata@healthcareprojectblob.dfs.core.windows.net/disease.csv</td><td>disease.csv</td><td>1489</td><td>1725312200000</td></tr><tr><td>abfss://rawhealthdata@healthcareprojectblob.dfs.core.windows.net/group.csv</td><td>group.csv</td><td>4390</td><td>1725312200000</td></tr><tr><td>abfss://rawhealthdata@healthcareprojectblob.dfs.core.windows.net/hospital.csv</td><td>hospital.csv</td><td>1328</td><td>1725312200000</td></tr><tr><td>abfss://rawhealthdata@healthcareprojectblob.dfs.core.windows.net/subgroup.csv</td><td>subgroup.csv</td><td>561</td><td>1725312200000</td></tr><tr><td>abfss://rawhealthdata@healthcareprojectblob.dfs.core.windows.net/subscriber.csv</td><td>subscriber.csv</td><td>12061</td><td>1725312201000</td></tr></tbody></table></div>"
      ]
     },
     "metadata": {
      "application/vnd.databricks.v1+output": {
       "addedWidgets": {},
       "aggData": [],
       "aggError": "",
       "aggOverflow": false,
       "aggSchema": [],
       "aggSeriesLimitReached": false,
       "aggType": "",
       "arguments": {},
       "columnCustomDisplayInfos": {},
       "data": [
        [
         "abfss://rawhealthdata@healthcareprojectblob.dfs.core.windows.net/Patient_records.csv",
         "Patient_records.csv",
         5110,
         1725312200000
        ],
        [
         "abfss://rawhealthdata@healthcareprojectblob.dfs.core.windows.net/claims.csv",
         "claims.csv",
         5766,
         1725461306000
        ],
        [
         "abfss://rawhealthdata@healthcareprojectblob.dfs.core.windows.net/disease.csv",
         "disease.csv",
         1489,
         1725312200000
        ],
        [
         "abfss://rawhealthdata@healthcareprojectblob.dfs.core.windows.net/group.csv",
         "group.csv",
         4390,
         1725312200000
        ],
        [
         "abfss://rawhealthdata@healthcareprojectblob.dfs.core.windows.net/hospital.csv",
         "hospital.csv",
         1328,
         1725312200000
        ],
        [
         "abfss://rawhealthdata@healthcareprojectblob.dfs.core.windows.net/subgroup.csv",
         "subgroup.csv",
         561,
         1725312200000
        ],
        [
         "abfss://rawhealthdata@healthcareprojectblob.dfs.core.windows.net/subscriber.csv",
         "subscriber.csv",
         12061,
         1725312201000
        ]
       ],
       "datasetInfos": [],
       "dbfsResultPath": null,
       "isJsonSchema": true,
       "metadata": {},
       "overflow": false,
       "plotOptions": {
        "customPlotOptions": {},
        "displayType": "table",
        "pivotAggregation": null,
        "pivotColumns": null,
        "xColumns": null,
        "yColumns": null
       },
       "removedWidgets": [],
       "schema": [
        {
         "metadata": "{}",
         "name": "path",
         "type": "\"string\""
        },
        {
         "metadata": "{}",
         "name": "name",
         "type": "\"string\""
        },
        {
         "metadata": "{}",
         "name": "size",
         "type": "\"long\""
        },
        {
         "metadata": "{}",
         "name": "modificationTime",
         "type": "\"long\""
        }
       ],
       "type": "table"
      }
     },
     "output_type": "display_data"
    }
   ],
   "source": [
    "display(dbutils.fs.ls(\"abfss://rawhealthdata@healthcareprojectblob.dfs.core.windows.net\"))"
   ]
  },
  {
   "cell_type": "code",
   "execution_count": 0,
   "metadata": {
    "application/vnd.databricks.v1+cell": {
     "cellMetadata": {
      "byteLimit": 2048000,
      "rowLimit": 10000
     },
     "inputWidgets": {},
     "nuid": "af06c918-1501-4723-993d-96fbf6147c3f",
     "showTitle": false,
     "title": ""
    }
   },
   "outputs": [],
   "source": [
    "data = spark.read.csv(\"abfss://rawhealthdata@healthcareprojectblob.dfs.core.windows.net/group.csv\", header=True)"
   ]
  },
  {
   "cell_type": "code",
   "execution_count": 0,
   "metadata": {
    "application/vnd.databricks.v1+cell": {
     "cellMetadata": {
      "byteLimit": 2048000,
      "rowLimit": 10000
     },
     "inputWidgets": {},
     "nuid": "138d8930-6bb5-4ed5-ab0c-972e335d2269",
     "showTitle": false,
     "title": ""
    }
   },
   "outputs": [
    {
     "output_type": "display_data",
     "data": {
      "text/html": [
       "<style scoped>\n",
       "  .table-result-container {\n",
       "    max-height: 300px;\n",
       "    overflow: auto;\n",
       "  }\n",
       "  table, th, td {\n",
       "    border: 1px solid black;\n",
       "    border-collapse: collapse;\n",
       "  }\n",
       "  th, td {\n",
       "    padding: 5px;\n",
       "  }\n",
       "  th {\n",
       "    text-align: left;\n",
       "  }\n",
       "</style><div class='table-result-container'><table class='table-result'><thead style='background-color: white'><tr><th>country</th><th>premium_written</th><th>zip_code</th><th>grp_id</th><th>grp_name</th><th>grp_type</th><th>city</th></tr></thead><tbody><tr><td>India</td><td>72000</td><td>482018</td><td>GRP101</td><td>Life Insurance Corporation of India</td><td>Govt.</td><td>Mumbai</td></tr><tr><td>India</td><td>45000</td><td>482049</td><td>GRP102</td><td>HDFC Standard Life Insurance Co. Ltd.</td><td>Private</td><td>Mumbai</td></tr><tr><td>India</td><td>64000</td><td>482030</td><td>GRP103</td><td>Max Life Insurance Co. Ltd.</td><td>Private</td><td>Delhi</td></tr><tr><td>India</td><td>59000</td><td>482028</td><td>GRP104</td><td>ICICI Prudential Life Insurance Co. Ltd.</td><td>Private</td><td>Mumbai</td></tr><tr><td>India</td><td>37000</td><td>482014</td><td>GRP105</td><td>Kotak Mahindra Life Insurance Co. Ltd.</td><td>Private</td><td>Mumbai</td></tr><tr><td>India</td><td>89000</td><td>482011</td><td>GRP106</td><td>Aditya Birla Sun Life Insurance Co. Ltd.</td><td>Private</td><td>Mumbai</td></tr><tr><td>India</td><td>70000</td><td>482006</td><td>GRP107</td><td>TATA AIG Life Insurance Co. Ltd.</td><td>Private</td><td>Mumbai</td></tr><tr><td>India</td><td>52000</td><td>482034</td><td>GRP108</td><td>SBI Life Insurance Co. Ltd.</td><td>Private</td><td>Mumbai</td></tr><tr><td>India</td><td>78000</td><td>482032</td><td>GRP109</td><td>Exide Life Insurance Co. Ltd.</td><td>Private</td><td>Bangalore</td></tr><tr><td>India</td><td>48000</td><td>482015</td><td>GRP110</td><td>Bajaj Allianz Life Insurance Co. Ltd.</td><td>Private</td><td>Pune</td></tr><tr><td>India</td><td>57000</td><td>482011</td><td>GRP111</td><td>PNB MetLife India Insurance Co. Ltd.</td><td>Private</td><td>Mumbai</td></tr><tr><td>India</td><td>57000</td><td>482022</td><td>GRP112</td><td>Reliance Nippon Life Insurance Company</td><td>Private</td><td>Mumbai</td></tr><tr><td>India</td><td>64000</td><td>482009</td><td>GRP113</td><td>Aviva Life Insurance Company India Ltd.</td><td>Private</td><td>Gurugram</td></tr><tr><td>India</td><td>33000</td><td>482043</td><td>GRP114</td><td>Sahara India Life Insurance Co. Ltd.</td><td>Private</td><td>Lucknow</td></tr><tr><td>India</td><td>79000</td><td>482036</td><td>GRP115</td><td>Shriram Life Insurance Co. Ltd.</td><td>Private</td><td>Hyderabad</td></tr><tr><td>India</td><td>32000</td><td>482002</td><td>GRP116</td><td>Bharti AXA Life Insurance Co. Ltd.</td><td>Private</td><td>Mumbai</td></tr><tr><td>India</td><td>59000</td><td>482017</td><td>GRP117</td><td>Future Generali India Life Insurance Co. Ltd.</td><td>Private</td><td>Mumbai</td></tr><tr><td>India</td><td>97000</td><td>482023</td><td>GRP118</td><td>IDBI Federal Life Insurance Co. Ltd.</td><td>Private</td><td>Mumbai</td></tr><tr><td>India</td><td>47000</td><td>482046</td><td>GRP119</td><td>Canara HSBC Oriental Bank of Commerce Life Insurance Co. Ltd.</td><td>Private</td><td>Gurugram</td></tr><tr><td>India</td><td>50000</td><td>482017</td><td>GRP120</td><td>Aegon Life Insurance Co. Ltd.</td><td>Private</td><td>Mumbai</td></tr><tr><td>India</td><td>78000</td><td>482039</td><td>GRP121</td><td>Pramerica Life Insurance Co. Ltd.</td><td>Private</td><td>Mumbai</td></tr><tr><td>India</td><td>79000</td><td>482027</td><td>GRP122</td><td>Star Union Dai-Ichi Life Insurance Co. Ltd.</td><td>Private</td><td>Mumbai</td></tr><tr><td>India</td><td>99000</td><td>482040</td><td>GRP123</td><td>IndiaFirst Life Insurance Co. Ltd.</td><td>Private</td><td>Mumbai</td></tr><tr><td>India</td><td>81000</td><td>482033</td><td>GRP124</td><td>Edelweiss Tokio Life Insurance Co. Ltd.</td><td>Private</td><td>Mumbai</td></tr><tr><td>India</td><td>60000</td><td>482006</td><td>GRP125</td><td>Acko General Insurance</td><td>Private</td><td>Mumbai</td></tr><tr><td>India</td><td>42000</td><td>482035</td><td>GRP126</td><td>Aditya Birla Health Insurance</td><td>Private</td><td>Mumbai</td></tr><tr><td>India</td><td>60000</td><td>482020</td><td>GRP127</td><td>Agriculture Insurance Company of India</td><td>Govt.</td><td>New Delhi</td></tr><tr><td>India</td><td>50000</td><td>482039</td><td>GRP128</td><td>Apollo Munich Health Insurance</td><td>Private</td><td>Gurgaon</td></tr><tr><td>India</td><td>88000</td><td>482003</td><td>GRP129</td><td>Bajaj Allianz General Insurance</td><td>Private</td><td>Pune</td></tr><tr><td>India</td><td>42000</td><td>482036</td><td>GRP130</td><td>Bharti AXA General Insurance</td><td>Private</td><td>Mumbai</td></tr><tr><td>India</td><td>99000</td><td>482005</td><td>GRP131</td><td>Cholamandalam MS General Insurance</td><td>Private</td><td>Chennai</td></tr><tr><td>India</td><td>57000</td><td>482048</td><td>GRP132</td><td>Cigna TTK</td><td>Private</td><td>Mumbai</td></tr><tr><td>India</td><td>93000</td><td>482046</td><td>GRP133</td><td>DHFL General Insurance</td><td>Private</td><td>Mumbai</td></tr><tr><td>India</td><td>90000</td><td>482019</td><td>GRP134</td><td>Digit Insurance</td><td>Private</td><td>Pune</td></tr><tr><td>India</td><td>39000</td><td>482024</td><td>GRP135</td><td>Edelweiss General Insurance</td><td>Private</td><td>Mumbai</td></tr><tr><td>India</td><td>34000</td><td>482005</td><td>GRP136</td><td>Export Credit Guarantee Corporation of India</td><td>Govt.</td><td>Mumbai</td></tr><tr><td>India</td><td>47000</td><td>482015</td><td>GRP137</td><td>Future Generali India Insurance</td><td>Private</td><td>Mumbai</td></tr><tr><td>India</td><td>32000</td><td>482029</td><td>GRP138</td><td>HDFC ERGO General Insurance Company</td><td>Private</td><td>Mumbai</td></tr><tr><td>India</td><td>71000</td><td>482009</td><td>GRP139</td><td>ICICI Lombard</td><td>Private</td><td>Mumbai</td></tr><tr><td>India</td><td>54000</td><td>482022</td><td>GRP140</td><td>IFFCO TOKIO General Insurance</td><td>Private</td><td>Gurugram</td></tr><tr><td>India</td><td>71000</td><td>482049</td><td>GRP141</td><td>Kotak Mahindra General Insurance</td><td>Private</td><td>Mumbai</td></tr><tr><td>India</td><td>60000</td><td>482012</td><td>GRP142</td><td>Liberty General Insurance</td><td>Private</td><td>Mumbai</td></tr><tr><td>India</td><td>90000</td><td>482009</td><td>GRP143</td><td>Magma HDI General Insurance</td><td>Private</td><td>Mumbai</td></tr><tr><td>India</td><td>44000</td><td>482046</td><td>GRP144</td><td>Max Bupa Health Insurance</td><td>Private</td><td>New Delhi</td></tr><tr><td>India</td><td>63000</td><td>482043</td><td>GRP145</td><td>National Insurance Company</td><td>Govt.</td><td>Kolkata</td></tr><tr><td>India</td><td>46000</td><td>482030</td><td>GRP146</td><td>New India Assurance</td><td>Govt.</td><td>Mumbai</td></tr><tr><td>India</td><td>99000</td><td>482040</td><td>GRP147</td><td>Raheja QBE General Insurance</td><td>Private</td><td>Mumbai</td></tr><tr><td>India</td><td>67000</td><td>482031</td><td>GRP148</td><td>Reliance General Insurance</td><td>Private</td><td>Mumbai</td></tr><tr><td>India</td><td>34000</td><td>482049</td><td>GRP149</td><td>Reliance Health Insurance</td><td>Private</td><td>Mumbai</td></tr><tr><td>India</td><td>84000</td><td>482038</td><td>GRP150</td><td>Religare Health Insurance Company Limited</td><td>Private</td><td>Gurgaon</td></tr><tr><td>India</td><td>31000</td><td>482044</td><td>GRP151</td><td>Royal Sundaram General Insurance</td><td>Private</td><td>Chennai</td></tr><tr><td>India</td><td>87000</td><td>482017</td><td>GRP152</td><td>SBI General Insurance</td><td>Private</td><td>Mumbai</td></tr><tr><td>India</td><td>86000</td><td>482004</td><td>GRP153</td><td>Shriram General Insurance</td><td>Private</td><td>Jaipur</td></tr><tr><td>India</td><td>95000</td><td>482003</td><td>GRP154</td><td>Star Health and Allied Insurance</td><td>Private</td><td>Chennai</td></tr><tr><td>India</td><td>41000</td><td>482043</td><td>GRP155</td><td>Tata AIG General Insurance</td><td>Private</td><td>Mumbai</td></tr><tr><td>India</td><td>67000</td><td>482048</td><td>GRP156</td><td>The Oriental Insurance Company</td><td>Govt.</td><td>New Delhi</td></tr><tr><td>India</td><td>92000</td><td>482019</td><td>GRP157</td><td>United India Insurance Company</td><td>Govt.</td><td>Chennai</td></tr><tr><td>India</td><td>47000</td><td>482042</td><td>GRP158</td><td>Universal Sompo General Insurance Company</td><td>Private</td><td>Mumbai</td></tr></tbody></table></div>"
      ]
     },
     "metadata": {
      "application/vnd.databricks.v1+output": {
       "addedWidgets": {},
       "aggData": [],
       "aggError": "",
       "aggOverflow": false,
       "aggSchema": [],
       "aggSeriesLimitReached": false,
       "aggType": "",
       "arguments": {},
       "columnCustomDisplayInfos": {},
       "data": [
        [
         "India",
         "72000",
         "482018",
         "GRP101",
         "Life Insurance Corporation of India",
         "Govt.",
         "Mumbai"
        ],
        [
         "India",
         "45000",
         "482049",
         "GRP102",
         "HDFC Standard Life Insurance Co. Ltd.",
         "Private",
         "Mumbai"
        ],
        [
         "India",
         "64000",
         "482030",
         "GRP103",
         "Max Life Insurance Co. Ltd.",
         "Private",
         "Delhi"
        ],
        [
         "India",
         "59000",
         "482028",
         "GRP104",
         "ICICI Prudential Life Insurance Co. Ltd.",
         "Private",
         "Mumbai"
        ],
        [
         "India",
         "37000",
         "482014",
         "GRP105",
         "Kotak Mahindra Life Insurance Co. Ltd.",
         "Private",
         "Mumbai"
        ],
        [
         "India",
         "89000",
         "482011",
         "GRP106",
         "Aditya Birla Sun Life Insurance Co. Ltd.",
         "Private",
         "Mumbai"
        ],
        [
         "India",
         "70000",
         "482006",
         "GRP107",
         "TATA AIG Life Insurance Co. Ltd.",
         "Private",
         "Mumbai"
        ],
        [
         "India",
         "52000",
         "482034",
         "GRP108",
         "SBI Life Insurance Co. Ltd.",
         "Private",
         "Mumbai"
        ],
        [
         "India",
         "78000",
         "482032",
         "GRP109",
         "Exide Life Insurance Co. Ltd.",
         "Private",
         "Bangalore"
        ],
        [
         "India",
         "48000",
         "482015",
         "GRP110",
         "Bajaj Allianz Life Insurance Co. Ltd.",
         "Private",
         "Pune"
        ],
        [
         "India",
         "57000",
         "482011",
         "GRP111",
         "PNB MetLife India Insurance Co. Ltd.",
         "Private",
         "Mumbai"
        ],
        [
         "India",
         "57000",
         "482022",
         "GRP112",
         "Reliance Nippon Life Insurance Company",
         "Private",
         "Mumbai"
        ],
        [
         "India",
         "64000",
         "482009",
         "GRP113",
         "Aviva Life Insurance Company India Ltd.",
         "Private",
         "Gurugram"
        ],
        [
         "India",
         "33000",
         "482043",
         "GRP114",
         "Sahara India Life Insurance Co. Ltd.",
         "Private",
         "Lucknow"
        ],
        [
         "India",
         "79000",
         "482036",
         "GRP115",
         "Shriram Life Insurance Co. Ltd.",
         "Private",
         "Hyderabad"
        ],
        [
         "India",
         "32000",
         "482002",
         "GRP116",
         "Bharti AXA Life Insurance Co. Ltd.",
         "Private",
         "Mumbai"
        ],
        [
         "India",
         "59000",
         "482017",
         "GRP117",
         "Future Generali India Life Insurance Co. Ltd.",
         "Private",
         "Mumbai"
        ],
        [
         "India",
         "97000",
         "482023",
         "GRP118",
         "IDBI Federal Life Insurance Co. Ltd.",
         "Private",
         "Mumbai"
        ],
        [
         "India",
         "47000",
         "482046",
         "GRP119",
         "Canara HSBC Oriental Bank of Commerce Life Insurance Co. Ltd.",
         "Private",
         "Gurugram"
        ],
        [
         "India",
         "50000",
         "482017",
         "GRP120",
         "Aegon Life Insurance Co. Ltd.",
         "Private",
         "Mumbai"
        ],
        [
         "India",
         "78000",
         "482039",
         "GRP121",
         "Pramerica Life Insurance Co. Ltd.",
         "Private",
         "Mumbai"
        ],
        [
         "India",
         "79000",
         "482027",
         "GRP122",
         "Star Union Dai-Ichi Life Insurance Co. Ltd.",
         "Private",
         "Mumbai"
        ],
        [
         "India",
         "99000",
         "482040",
         "GRP123",
         "IndiaFirst Life Insurance Co. Ltd.",
         "Private",
         "Mumbai"
        ],
        [
         "India",
         "81000",
         "482033",
         "GRP124",
         "Edelweiss Tokio Life Insurance Co. Ltd.",
         "Private",
         "Mumbai"
        ],
        [
         "India",
         "60000",
         "482006",
         "GRP125",
         "Acko General Insurance",
         "Private",
         "Mumbai"
        ],
        [
         "India",
         "42000",
         "482035",
         "GRP126",
         "Aditya Birla Health Insurance",
         "Private",
         "Mumbai"
        ],
        [
         "India",
         "60000",
         "482020",
         "GRP127",
         "Agriculture Insurance Company of India",
         "Govt.",
         "New Delhi"
        ],
        [
         "India",
         "50000",
         "482039",
         "GRP128",
         "Apollo Munich Health Insurance",
         "Private",
         "Gurgaon"
        ],
        [
         "India",
         "88000",
         "482003",
         "GRP129",
         "Bajaj Allianz General Insurance",
         "Private",
         "Pune"
        ],
        [
         "India",
         "42000",
         "482036",
         "GRP130",
         "Bharti AXA General Insurance",
         "Private",
         "Mumbai"
        ],
        [
         "India",
         "99000",
         "482005",
         "GRP131",
         "Cholamandalam MS General Insurance",
         "Private",
         "Chennai"
        ],
        [
         "India",
         "57000",
         "482048",
         "GRP132",
         "Cigna TTK",
         "Private",
         "Mumbai"
        ],
        [
         "India",
         "93000",
         "482046",
         "GRP133",
         "DHFL General Insurance",
         "Private",
         "Mumbai"
        ],
        [
         "India",
         "90000",
         "482019",
         "GRP134",
         "Digit Insurance",
         "Private",
         "Pune"
        ],
        [
         "India",
         "39000",
         "482024",
         "GRP135",
         "Edelweiss General Insurance",
         "Private",
         "Mumbai"
        ],
        [
         "India",
         "34000",
         "482005",
         "GRP136",
         "Export Credit Guarantee Corporation of India",
         "Govt.",
         "Mumbai"
        ],
        [
         "India",
         "47000",
         "482015",
         "GRP137",
         "Future Generali India Insurance",
         "Private",
         "Mumbai"
        ],
        [
         "India",
         "32000",
         "482029",
         "GRP138",
         "HDFC ERGO General Insurance Company",
         "Private",
         "Mumbai"
        ],
        [
         "India",
         "71000",
         "482009",
         "GRP139",
         "ICICI Lombard",
         "Private",
         "Mumbai"
        ],
        [
         "India",
         "54000",
         "482022",
         "GRP140",
         "IFFCO TOKIO General Insurance",
         "Private",
         "Gurugram"
        ],
        [
         "India",
         "71000",
         "482049",
         "GRP141",
         "Kotak Mahindra General Insurance",
         "Private",
         "Mumbai"
        ],
        [
         "India",
         "60000",
         "482012",
         "GRP142",
         "Liberty General Insurance",
         "Private",
         "Mumbai"
        ],
        [
         "India",
         "90000",
         "482009",
         "GRP143",
         "Magma HDI General Insurance",
         "Private",
         "Mumbai"
        ],
        [
         "India",
         "44000",
         "482046",
         "GRP144",
         "Max Bupa Health Insurance",
         "Private",
         "New Delhi"
        ],
        [
         "India",
         "63000",
         "482043",
         "GRP145",
         "National Insurance Company",
         "Govt.",
         "Kolkata"
        ],
        [
         "India",
         "46000",
         "482030",
         "GRP146",
         "New India Assurance",
         "Govt.",
         "Mumbai"
        ],
        [
         "India",
         "99000",
         "482040",
         "GRP147",
         "Raheja QBE General Insurance",
         "Private",
         "Mumbai"
        ],
        [
         "India",
         "67000",
         "482031",
         "GRP148",
         "Reliance General Insurance",
         "Private",
         "Mumbai"
        ],
        [
         "India",
         "34000",
         "482049",
         "GRP149",
         "Reliance Health Insurance",
         "Private",
         "Mumbai"
        ],
        [
         "India",
         "84000",
         "482038",
         "GRP150",
         "Religare Health Insurance Company Limited",
         "Private",
         "Gurgaon"
        ],
        [
         "India",
         "31000",
         "482044",
         "GRP151",
         "Royal Sundaram General Insurance",
         "Private",
         "Chennai"
        ],
        [
         "India",
         "87000",
         "482017",
         "GRP152",
         "SBI General Insurance",
         "Private",
         "Mumbai"
        ],
        [
         "India",
         "86000",
         "482004",
         "GRP153",
         "Shriram General Insurance",
         "Private",
         "Jaipur"
        ],
        [
         "India",
         "95000",
         "482003",
         "GRP154",
         "Star Health and Allied Insurance",
         "Private",
         "Chennai"
        ],
        [
         "India",
         "41000",
         "482043",
         "GRP155",
         "Tata AIG General Insurance",
         "Private",
         "Mumbai"
        ],
        [
         "India",
         "67000",
         "482048",
         "GRP156",
         "The Oriental Insurance Company",
         "Govt.",
         "New Delhi"
        ],
        [
         "India",
         "92000",
         "482019",
         "GRP157",
         "United India Insurance Company",
         "Govt.",
         "Chennai"
        ],
        [
         "India",
         "47000",
         "482042",
         "GRP158",
         "Universal Sompo General Insurance Company",
         "Private",
         "Mumbai"
        ]
       ],
       "datasetInfos": [],
       "dbfsResultPath": null,
       "isJsonSchema": true,
       "metadata": {},
       "overflow": false,
       "plotOptions": {
        "customPlotOptions": {},
        "displayType": "table",
        "pivotAggregation": null,
        "pivotColumns": null,
        "xColumns": null,
        "yColumns": null
       },
       "removedWidgets": [],
       "schema": [
        {
         "metadata": "{}",
         "name": "country",
         "type": "\"string\""
        },
        {
         "metadata": "{}",
         "name": "premium_written",
         "type": "\"string\""
        },
        {
         "metadata": "{}",
         "name": "zip_code",
         "type": "\"string\""
        },
        {
         "metadata": "{}",
         "name": "grp_id",
         "type": "\"string\""
        },
        {
         "metadata": "{}",
         "name": "grp_name",
         "type": "\"string\""
        },
        {
         "metadata": "{}",
         "name": "grp_type",
         "type": "\"string\""
        },
        {
         "metadata": "{}",
         "name": "city",
         "type": "\"string\""
        }
       ],
       "type": "table"
      }
     },
     "output_type": "display_data"
    }
   ],
   "source": [
    "display(data)"
   ]
  },
  {
   "cell_type": "code",
   "execution_count": 0,
   "metadata": {
    "application/vnd.databricks.v1+cell": {
     "cellMetadata": {
      "byteLimit": 2048000,
      "rowLimit": 10000
     },
     "inputWidgets": {},
     "nuid": "2660377e-880f-4c19-8fa6-0741ebe2a2de",
     "showTitle": false,
     "title": ""
    }
   },
   "outputs": [
    {
     "output_type": "execute_result",
     "data": {
      "text/plain": [
       "['country',\n",
       " 'premium_written',\n",
       " 'zip_code',\n",
       " 'grp_id',\n",
       " 'grp_name',\n",
       " 'grp_type',\n",
       " 'city']"
      ]
     },
     "execution_count": 95,
     "metadata": {},
     "output_type": "execute_result"
    }
   ],
   "source": [
    "# to do - patient name, null values/check for duplicates.\n",
    "data.columns"
   ]
  },
  {
   "cell_type": "code",
   "execution_count": 0,
   "metadata": {
    "application/vnd.databricks.v1+cell": {
     "cellMetadata": {
      "byteLimit": 2048000,
      "rowLimit": 10000
     },
     "inputWidgets": {},
     "nuid": "a3481ecd-58c8-41fe-80f8-772a29327376",
     "showTitle": false,
     "title": ""
    }
   },
   "outputs": [
    {
     "output_type": "stream",
     "name": "stdout",
     "output_type": "stream",
     "text": [
      "+-------+---------------+--------+------+--------+--------+----+-----+\n|country|premium_written|zip_code|grp_id|grp_name|grp_type|city|count|\n+-------+---------------+--------+------+--------+--------+----+-----+\n+-------+---------------+--------+------+--------+--------+----+-----+\n\n"
     ]
    }
   ],
   "source": [
    "data.groupby(['country', 'premium_written', 'zip_code', 'grp_id', 'grp_name', 'grp_type', 'city']).count().where(\"count > 1\").show(15, False)"
   ]
  },
  {
   "cell_type": "code",
   "execution_count": 0,
   "metadata": {
    "application/vnd.databricks.v1+cell": {
     "cellMetadata": {
      "byteLimit": 2048000,
      "rowLimit": 10000
     },
     "inputWidgets": {},
     "nuid": "4fb8e10a-2159-463e-b70a-c4512cc50b9b",
     "showTitle": false,
     "title": ""
    }
   },
   "outputs": [],
   "source": [
    "data = data.dropDuplicates()"
   ]
  },
  {
   "cell_type": "code",
   "execution_count": 0,
   "metadata": {
    "application/vnd.databricks.v1+cell": {
     "cellMetadata": {
      "byteLimit": 2048000,
      "rowLimit": 10000
     },
     "inputWidgets": {},
     "nuid": "52dc38d4-96fe-442e-a60e-e99092166975",
     "showTitle": false,
     "title": ""
    }
   },
   "outputs": [
    {
     "output_type": "stream",
     "name": "stdout",
     "output_type": "stream",
     "text": [
      "+-------+---------------+--------+------+--------+--------+----+\n|country|premium_written|zip_code|grp_id|grp_name|grp_type|city|\n+-------+---------------+--------+------+--------+--------+----+\n|      0|              0|       0|     0|       0|       0|   0|\n+-------+---------------+--------+------+--------+--------+----+\n\n"
     ]
    }
   ],
   "source": [
    "# check null value for all the columns\n",
    "data.select([count(when(isnan(c) | col(c).isNull(), c)).alias(c) for c in data.columns]).show()"
   ]
  },
  {
   "cell_type": "code",
   "execution_count": 0,
   "metadata": {
    "application/vnd.databricks.v1+cell": {
     "cellMetadata": {
      "byteLimit": 2048000,
      "rowLimit": 10000
     },
     "inputWidgets": {},
     "nuid": "9755d6a3-772b-4fca-b02e-9f39b6495a2c",
     "showTitle": false,
     "title": ""
    }
   },
   "outputs": [],
   "source": [
    "# # Now we need to write this data into stagging area for the next step.\n",
    "# # boilerplate code (standard code for certain operation)\n",
    "\n",
    "# Define the output staging path\n",
    "output_stagging_path = \"abfss://stagginglayerhealthdata@healthcareprojectblob.dfs.core.windows.net\"\n",
    "\n",
    "# Write the data to the staging area\n",
    "data.coalesce(1).write.mode(\"append\").format(\"com.databricks.spark.csv\").option(\"header\", \"true\").option(\"format\", \"csv\").save(output_stagging_path)\n",
    "\n",
    "# List all files in the output staging path\n",
    "files = dbutils.fs.ls(output_stagging_path)\n",
    "\n",
    "# Identify part files and non-part files\n",
    "part_files = [x for x in files if x.name.startswith(\"part-\")]\n",
    "non_part_files = [x for x in files if x.name.startswith(\"_\")]\n",
    "\n",
    "# Move the part file to the desired location\n",
    "if part_files:\n",
    "    dbutils.fs.mv(part_files[0].path, f\"{output_stagging_path}/groupstagging.csv\")\n",
    "\n",
    "# Remove non-part files\n",
    "for file in non_part_files:\n",
    "    dbutils.fs.rm(file.path)"
   ]
  },
  {
   "cell_type": "code",
   "execution_count": 0,
   "metadata": {
    "application/vnd.databricks.v1+cell": {
     "cellMetadata": {
      "byteLimit": 2048000,
      "rowLimit": 10000
     },
     "inputWidgets": {},
     "nuid": "aff2ea46-85d5-410d-a772-9c592f2aa0c0",
     "showTitle": false,
     "title": ""
    }
   },
   "outputs": [],
   "source": []
  }
 ],
 "metadata": {
  "application/vnd.databricks.v1+notebook": {
   "dashboards": [],
   "environmentMetadata": {
    "base_environment": "",
    "client": "1"
   },
   "language": "python",
   "notebookMetadata": {
    "pythonIndentUnit": 4
   },
   "notebookName": "group Transformations",
   "widgets": {}
  }
 },
 "nbformat": 4,
 "nbformat_minor": 0
}
