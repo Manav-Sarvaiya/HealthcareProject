{
 "cells": [
  {
   "cell_type": "code",
   "execution_count": 0,
   "metadata": {
    "application/vnd.databricks.v1+cell": {
     "cellMetadata": {
      "byteLimit": 2048000,
      "rowLimit": 10000
     },
     "inputWidgets": {},
     "nuid": "66948528-8df0-4bee-adfe-bb8e1f3498bb",
     "showTitle": false,
     "title": ""
    }
   },
   "outputs": [],
   "source": [
    "import pyspark\n",
    "from pyspark.sql.functions import *"
   ]
  },
  {
   "cell_type": "code",
   "execution_count": 0,
   "metadata": {
    "application/vnd.databricks.v1+cell": {
     "cellMetadata": {
      "byteLimit": 2048000,
      "rowLimit": 10000
     },
     "inputWidgets": {},
     "nuid": "b55223ef-58eb-418a-b0f0-65b55dea544e",
     "showTitle": false,
     "title": ""
    }
   },
   "outputs": [
    {
     "output_type": "execute_result",
     "data": {
      "text/plain": [
       "[SecretScope(name='healthcarescope')]"
      ]
     },
     "execution_count": 36,
     "metadata": {},
     "output_type": "execute_result"
    }
   ],
   "source": [
    "dbutils.secrets.listScopes()"
   ]
  },
  {
   "cell_type": "code",
   "execution_count": 0,
   "metadata": {
    "application/vnd.databricks.v1+cell": {
     "cellMetadata": {
      "byteLimit": 2048000,
      "rowLimit": 10000
     },
     "inputWidgets": {},
     "nuid": "1f3f57dd-1f82-4534-a4fa-7f4d015649c3",
     "showTitle": false,
     "title": ""
    }
   },
   "outputs": [
    {
     "output_type": "execute_result",
     "data": {
      "text/plain": [
       "[SecretMetadata(key='blobaccesskey')]"
      ]
     },
     "execution_count": 37,
     "metadata": {},
     "output_type": "execute_result"
    }
   ],
   "source": [
    "dbutils.secrets.list(scope = 'healthcarescope')"
   ]
  },
  {
   "cell_type": "code",
   "execution_count": 0,
   "metadata": {
    "application/vnd.databricks.v1+cell": {
     "cellMetadata": {
      "byteLimit": 2048000,
      "rowLimit": 10000
     },
     "inputWidgets": {},
     "nuid": "58ffffc4-7253-42f9-b41b-f8ec9cdb177a",
     "showTitle": false,
     "title": ""
    }
   },
   "outputs": [],
   "source": [
    "\n",
    "secret_name = dbutils.secrets.get(scope = \"healthcarescope\", key = \"blobaccesskey\")"
   ]
  },
  {
   "cell_type": "code",
   "execution_count": 0,
   "metadata": {
    "application/vnd.databricks.v1+cell": {
     "cellMetadata": {
      "byteLimit": 2048000,
      "rowLimit": 10000
     },
     "inputWidgets": {},
     "nuid": "d7f6339f-f577-40b9-90de-e4330085af73",
     "showTitle": false,
     "title": ""
    }
   },
   "outputs": [
    {
     "output_type": "stream",
     "name": "stdout",
     "output_type": "stream",
     "text": [
      "[REDACTED]\n"
     ]
    }
   ],
   "source": [
    "print(secret_name)"
   ]
  },
  {
   "cell_type": "code",
   "execution_count": 0,
   "metadata": {
    "application/vnd.databricks.v1+cell": {
     "cellMetadata": {
      "byteLimit": 2048000,
      "rowLimit": 10000
     },
     "inputWidgets": {},
     "nuid": "1a1d4f3b-af91-4cc4-92ce-2b2c30d3a6b7",
     "showTitle": false,
     "title": ""
    }
   },
   "outputs": [],
   "source": [
    "spark.conf.set(\n",
    "    \"fs.azure.account.key.healthcareprojectblob.dfs.core.windows.net\",\n",
    "    dbutils.secrets.get(scope = \"healthcarescope\", key = \"blobaccesskey\"))\n"
   ]
  },
  {
   "cell_type": "code",
   "execution_count": 0,
   "metadata": {
    "application/vnd.databricks.v1+cell": {
     "cellMetadata": {
      "byteLimit": 2048000,
      "rowLimit": 10000
     },
     "inputWidgets": {},
     "nuid": "9de0f959-9e6f-4106-97c0-a304d80cacdc",
     "showTitle": false,
     "title": ""
    }
   },
   "outputs": [
    {
     "output_type": "display_data",
     "data": {
      "text/html": [
       "<style scoped>\n",
       "  .table-result-container {\n",
       "    max-height: 300px;\n",
       "    overflow: auto;\n",
       "  }\n",
       "  table, th, td {\n",
       "    border: 1px solid black;\n",
       "    border-collapse: collapse;\n",
       "  }\n",
       "  th, td {\n",
       "    padding: 5px;\n",
       "  }\n",
       "  th {\n",
       "    text-align: left;\n",
       "  }\n",
       "</style><div class='table-result-container'><table class='table-result'><thead style='background-color: white'><tr><th>path</th><th>name</th><th>size</th><th>modificationTime</th></tr></thead><tbody><tr><td>abfss://rawhealthdata@healthcareprojectblob.dfs.core.windows.net/Patient_records.csv</td><td>Patient_records.csv</td><td>5110</td><td>1725312200000</td></tr><tr><td>abfss://rawhealthdata@healthcareprojectblob.dfs.core.windows.net/claims.csv</td><td>claims.csv</td><td>5766</td><td>1725461306000</td></tr><tr><td>abfss://rawhealthdata@healthcareprojectblob.dfs.core.windows.net/disease.csv</td><td>disease.csv</td><td>1489</td><td>1725312200000</td></tr><tr><td>abfss://rawhealthdata@healthcareprojectblob.dfs.core.windows.net/group.csv</td><td>group.csv</td><td>4390</td><td>1725312200000</td></tr><tr><td>abfss://rawhealthdata@healthcareprojectblob.dfs.core.windows.net/hospital.csv</td><td>hospital.csv</td><td>1328</td><td>1725312200000</td></tr><tr><td>abfss://rawhealthdata@healthcareprojectblob.dfs.core.windows.net/subgroup.csv</td><td>subgroup.csv</td><td>561</td><td>1725312200000</td></tr><tr><td>abfss://rawhealthdata@healthcareprojectblob.dfs.core.windows.net/subscriber.csv</td><td>subscriber.csv</td><td>12061</td><td>1725312201000</td></tr></tbody></table></div>"
      ]
     },
     "metadata": {
      "application/vnd.databricks.v1+output": {
       "addedWidgets": {},
       "aggData": [],
       "aggError": "",
       "aggOverflow": false,
       "aggSchema": [],
       "aggSeriesLimitReached": false,
       "aggType": "",
       "arguments": {},
       "columnCustomDisplayInfos": {},
       "data": [
        [
         "abfss://rawhealthdata@healthcareprojectblob.dfs.core.windows.net/Patient_records.csv",
         "Patient_records.csv",
         5110,
         1725312200000
        ],
        [
         "abfss://rawhealthdata@healthcareprojectblob.dfs.core.windows.net/claims.csv",
         "claims.csv",
         5766,
         1725461306000
        ],
        [
         "abfss://rawhealthdata@healthcareprojectblob.dfs.core.windows.net/disease.csv",
         "disease.csv",
         1489,
         1725312200000
        ],
        [
         "abfss://rawhealthdata@healthcareprojectblob.dfs.core.windows.net/group.csv",
         "group.csv",
         4390,
         1725312200000
        ],
        [
         "abfss://rawhealthdata@healthcareprojectblob.dfs.core.windows.net/hospital.csv",
         "hospital.csv",
         1328,
         1725312200000
        ],
        [
         "abfss://rawhealthdata@healthcareprojectblob.dfs.core.windows.net/subgroup.csv",
         "subgroup.csv",
         561,
         1725312200000
        ],
        [
         "abfss://rawhealthdata@healthcareprojectblob.dfs.core.windows.net/subscriber.csv",
         "subscriber.csv",
         12061,
         1725312201000
        ]
       ],
       "datasetInfos": [],
       "dbfsResultPath": null,
       "isJsonSchema": true,
       "metadata": {},
       "overflow": false,
       "plotOptions": {
        "customPlotOptions": {},
        "displayType": "table",
        "pivotAggregation": null,
        "pivotColumns": null,
        "xColumns": null,
        "yColumns": null
       },
       "removedWidgets": [],
       "schema": [
        {
         "metadata": "{}",
         "name": "path",
         "type": "\"string\""
        },
        {
         "metadata": "{}",
         "name": "name",
         "type": "\"string\""
        },
        {
         "metadata": "{}",
         "name": "size",
         "type": "\"long\""
        },
        {
         "metadata": "{}",
         "name": "modificationTime",
         "type": "\"long\""
        }
       ],
       "type": "table"
      }
     },
     "output_type": "display_data"
    }
   ],
   "source": [
    "display(dbutils.fs.ls(\"abfss://rawhealthdata@healthcareprojectblob.dfs.core.windows.net\"))"
   ]
  },
  {
   "cell_type": "code",
   "execution_count": 0,
   "metadata": {
    "application/vnd.databricks.v1+cell": {
     "cellMetadata": {
      "byteLimit": 2048000,
      "rowLimit": 10000
     },
     "inputWidgets": {},
     "nuid": "b9c45fdf-01ed-46e2-ae62-ac2a4f6b82c6",
     "showTitle": false,
     "title": ""
    }
   },
   "outputs": [],
   "source": [
    "# # Mount the Azure Blob Storage container as a DBFS path\n",
    "# dbutils.fs.mount(\n",
    "#   source=\"wasbs://rawhealthdata@healthcareprojectblob.blob.core.windows.net\",\n",
    "#   mount_point=\"/mnt/rawhealthdata\",\n",
    "#   extra_configs={\n",
    "#     \"fs.azure.account.key.healthcareprojectblob.blob.core.windows.net\": \"0izVsgjt8yavZcTHY3jKLiEiVe0Nu7jqnlYlYXCi3eAF/WsbNH1eY0Cvvd59kRgOIpunsgWDknLx+ASteulWxw==\"\n",
    "#   }\n",
    "# )\n",
    "\n",
    "# # List the files in the mounted DBFS path\n",
    "# dbutils.fs.ls(\"/mnt/rawhealthdata\")"
   ]
  },
  {
   "cell_type": "code",
   "execution_count": 0,
   "metadata": {
    "application/vnd.databricks.v1+cell": {
     "cellMetadata": {
      "byteLimit": 2048000,
      "rowLimit": 10000
     },
     "inputWidgets": {},
     "nuid": "022191f8-37bf-4aa2-bfab-8f930b45ee64",
     "showTitle": false,
     "title": ""
    }
   },
   "outputs": [],
   "source": [
    "# Unmount the Azure Blob Storage container\n",
    "# dbutils.fs.unmount(\"/mnt/rawhealthdata\")"
   ]
  },
  {
   "cell_type": "code",
   "execution_count": 0,
   "metadata": {
    "application/vnd.databricks.v1+cell": {
     "cellMetadata": {
      "byteLimit": 2048000,
      "rowLimit": 10000
     },
     "inputWidgets": {},
     "nuid": "af06c918-1501-4723-993d-96fbf6147c3f",
     "showTitle": false,
     "title": ""
    }
   },
   "outputs": [],
   "source": [
    "data = spark.read.csv(\"abfss://rawhealthdata@healthcareprojectblob.dfs.core.windows.net/claims.csv\", header=True, inferSchema=True)"
   ]
  },
  {
   "cell_type": "code",
   "execution_count": 0,
   "metadata": {
    "application/vnd.databricks.v1+cell": {
     "cellMetadata": {
      "byteLimit": 2048000,
      "rowLimit": 10000
     },
     "inputWidgets": {},
     "nuid": "138d8930-6bb5-4ed5-ab0c-972e335d2269",
     "showTitle": false,
     "title": ""
    }
   },
   "outputs": [
    {
     "output_type": "display_data",
     "data": {
      "text/html": [
       "<style scoped>\n",
       "  .table-result-container {\n",
       "    max-height: 300px;\n",
       "    overflow: auto;\n",
       "  }\n",
       "  table, th, td {\n",
       "    border: 1px solid black;\n",
       "    border-collapse: collapse;\n",
       "  }\n",
       "  th, td {\n",
       "    padding: 5px;\n",
       "  }\n",
       "  th {\n",
       "    text-align: left;\n",
       "  }\n",
       "</style><div class='table-result-container'><table class='table-result'><thead style='background-color: white'><tr><th>claim_id</th><th>patient_id</th><th>disease_name</th><th>SUB_ID</th><th>Claim_Or_Rejected</th><th>claim_type</th><th>claim_amount</th><th>claim_date</th></tr></thead><tbody><tr><td>0</td><td>187158</td><td>Galactosemia</td><td>SUBID1000</td><td>N</td><td>claims of value</td><td>79874</td><td>1949-03-14</td></tr><tr><td>1</td><td>112766</td><td>Bladder cancer</td><td>SUBID10001</td><td>NaN</td><td>claims of policy</td><td>151142</td><td>1970-03-16</td></tr><tr><td>2</td><td>199252</td><td>Kidney cancer</td><td>SUBID10002</td><td>NaN</td><td>claims of value</td><td>59924</td><td>2008-02-03</td></tr><tr><td>3</td><td>133424</td><td>Suicide</td><td>SUBID10003</td><td>NaN</td><td>claims of fact</td><td>143120</td><td>1995-02-08</td></tr><tr><td>4</td><td>172579</td><td>Food allergy</td><td>SUBID10004</td><td>Y</td><td>claims of value</td><td>168634</td><td>1967-05-23</td></tr><tr><td>5</td><td>171320</td><td>Whiplash</td><td>SUBID10005</td><td>NaN</td><td>claims of policy</td><td>64840</td><td>1991-10-04</td></tr><tr><td>6</td><td>107794</td><td>Sunbathing</td><td>SUBID1006</td><td>N</td><td>claims of fact</td><td>26800</td><td>1991-03-26</td></tr><tr><td>7</td><td>130339</td><td>Drug consumption</td><td>SUBID10007</td><td>NaN</td><td>claims of value</td><td>177186</td><td>1946-09-05</td></tr><tr><td>8</td><td>110377</td><td>Dengue</td><td>SUBID10008</td><td>N</td><td>claims of fact</td><td>141123</td><td>1966-06-20</td></tr><tr><td>9</td><td>149367</td><td>Head banging</td><td>SUBID10009</td><td>N</td><td>claims of value</td><td>88540</td><td>1945-12-29</td></tr><tr><td>10</td><td>156168</td><td>Fanconi anaemia</td><td>SUBID1010</td><td>N</td><td>claims of value</td><td>29150</td><td>1999-01-25</td></tr><tr><td>11</td><td>114241</td><td>Breast cancer</td><td>SUBID10011</td><td>Y</td><td>claims of value</td><td>40897</td><td>1975-02-08</td></tr><tr><td>12</td><td>146382</td><td>Anthrax</td><td>SUBID10012</td><td>NaN</td><td>claims of value</td><td>75983</td><td>1985-02-12</td></tr><tr><td>13</td><td>132748</td><td>Cystic fibrosis</td><td>SUBID10013</td><td>NaN</td><td>claims of fact</td><td>192340</td><td>2014-07-30</td></tr><tr><td>14</td><td>167340</td><td>Galactosemia</td><td>SUBID10014</td><td>N</td><td>claims of value</td><td>118628</td><td>2003-12-18</td></tr><tr><td>15</td><td>135184</td><td>Dengue</td><td>SUBID10015</td><td>Y</td><td>claims of value</td><td>100224</td><td>1986-08-02</td></tr><tr><td>16</td><td>179662</td><td>Smallpox</td><td>SUBID10016</td><td>N</td><td>claims of value</td><td>42860</td><td>1955-01-20</td></tr><tr><td>17</td><td>184479</td><td>Pollen allergy</td><td>SUBID10017</td><td>N</td><td>claims of policy</td><td>161786</td><td>2017-06-01</td></tr><tr><td>18</td><td>156988</td><td>Breast cancer</td><td>SUBID10018</td><td>NaN</td><td>claims of fact</td><td>66129</td><td>1956-01-04</td></tr><tr><td>19</td><td>132870</td><td>Glaucoma</td><td>SUBID10019</td><td>NaN</td><td>claims of value</td><td>182552</td><td>1948-07-26</td></tr><tr><td>20</td><td>148137</td><td>Pet allergy</td><td>SUBID1020</td><td>Y</td><td>claims of value</td><td>105982</td><td>1984-04-10</td></tr><tr><td>21</td><td>113280</td><td>Rett Syndrome</td><td>SUBID1021</td><td>NaN</td><td>claims of fact</td><td>55761</td><td>1953-06-24</td></tr><tr><td>22</td><td>134184</td><td>Flu</td><td>SUBID10022</td><td>Y</td><td>claims of value</td><td>34771</td><td>1948-05-23</td></tr><tr><td>23</td><td>122592</td><td>Cholera</td><td>SUBID10023</td><td>N</td><td>claims of value</td><td>83642</td><td>1945-03-15</td></tr><tr><td>24</td><td>154439</td><td>Scurvy</td><td>SUBID10024</td><td>NaN</td><td>claims of policy</td><td>49129</td><td>2013-08-04</td></tr><tr><td>25</td><td>117945</td><td>Glaucoma</td><td>SUBID10025</td><td>N</td><td>claims of fact</td><td>36524</td><td>1976-08-24</td></tr><tr><td>26</td><td>189996</td><td>Measles</td><td>SUBID10026</td><td>NaN</td><td>claims of value</td><td>192381</td><td>1966-08-30</td></tr><tr><td>27</td><td>146540</td><td>Scurvy</td><td>SUBID10027</td><td>N</td><td>claims of fact</td><td>188520</td><td>2008-08-26</td></tr><tr><td>28</td><td>156434</td><td>Flu</td><td>SUBID10028</td><td>N</td><td>claims of policy</td><td>122806</td><td>1958-08-05</td></tr><tr><td>29</td><td>197352</td><td>Pet allergy</td><td>SUBID10029</td><td>NaN</td><td>claims of fact</td><td>81651</td><td>2008-02-01</td></tr><tr><td>30</td><td>138778</td><td>Lymphedema</td><td>SUBID1030</td><td>NaN</td><td>claims of fact</td><td>19899</td><td>1976-09-08</td></tr><tr><td>31</td><td>162665</td><td>Alcohol consumption</td><td>SUBID10031</td><td>N</td><td>claims of fact</td><td>42968</td><td>1976-01-25</td></tr><tr><td>32</td><td>197503</td><td>Stroke</td><td>SUBID1032</td><td>N</td><td>claims of policy</td><td>191267</td><td>1988-12-18</td></tr><tr><td>33</td><td>113476</td><td>Galactosemia</td><td>SUBID10033</td><td>NaN</td><td>claims of value</td><td>161199</td><td>2019-11-17</td></tr><tr><td>34</td><td>195876</td><td>Vertigo</td><td>SUBID1034</td><td>N</td><td>claims of fact</td><td>26221</td><td>2008-08-10</td></tr><tr><td>35</td><td>150189</td><td>Measles</td><td>SUBID10035</td><td>Y</td><td>claims of value</td><td>28542</td><td>1973-03-25</td></tr><tr><td>36</td><td>138861</td><td>Heart Attack</td><td>SUBID1036</td><td>NaN</td><td>claims of policy</td><td>62985</td><td>1948-09-27</td></tr><tr><td>37</td><td>146555</td><td>Phenylketonuria</td><td>SUBID1037</td><td>NaN</td><td>claims of policy</td><td>19596</td><td>1972-10-11</td></tr><tr><td>38</td><td>199114</td><td>Phenylketonuria</td><td>SUBID1038</td><td>Y</td><td>claims of fact</td><td>25171</td><td>1979-03-11</td></tr><tr><td>39</td><td>105758</td><td>Head banging</td><td>SUBID10039</td><td>NaN</td><td>claims of fact</td><td>108526</td><td>1960-05-09</td></tr><tr><td>40</td><td>109251</td><td>Choking</td><td>SUBID10040</td><td>Y</td><td>claims of value</td><td>116937</td><td>1998-09-26</td></tr><tr><td>41</td><td>156223</td><td>Fanconi anaemia</td><td>SUBID1041</td><td>NaN</td><td>claims of fact</td><td>118452</td><td>1955-10-11</td></tr><tr><td>42</td><td>108576</td><td>Stroke</td><td>SUBID10042</td><td>NaN</td><td>claims of fact</td><td>188727</td><td>1989-10-28</td></tr><tr><td>43</td><td>132947</td><td>Anaemia</td><td>SUBID1043</td><td>N</td><td>claims of value</td><td>186502</td><td>1962-09-18</td></tr><tr><td>44</td><td>148674</td><td>Diabetes</td><td>SUBID1044</td><td>Y</td><td>claims of policy</td><td>173600</td><td>1959-10-19</td></tr><tr><td>45</td><td>133107</td><td>Lymphedema</td><td>SUBID1045</td><td>Y</td><td>claims of policy</td><td>160739</td><td>1952-07-29</td></tr><tr><td>46</td><td>193137</td><td>Phenylketonuria</td><td>SUBID10046</td><td>N</td><td>claims of fact</td><td>25957</td><td>2003-11-29</td></tr><tr><td>47</td><td>196369</td><td>Choking</td><td>SUBID1047</td><td>NaN</td><td>claims of value</td><td>164159</td><td>1953-06-07</td></tr><tr><td>48</td><td>109342</td><td>Asthma</td><td>SUBID10048</td><td>Y</td><td>claims of value</td><td>125727</td><td>1947-04-11</td></tr><tr><td>49</td><td>121783</td><td>Bladder cancer</td><td>SUBID10049</td><td>NaN</td><td>claims of fact</td><td>159815</td><td>1983-06-20</td></tr><tr><td>50</td><td>197441</td><td>Lung cancer</td><td>SUBID10050</td><td>NaN</td><td>claims of policy</td><td>156557</td><td>1972-06-19</td></tr><tr><td>51</td><td>194166</td><td>Colorectal cancer</td><td>SUBID10051</td><td>N</td><td>claims of value</td><td>193801</td><td>1969-02-01</td></tr><tr><td>52</td><td>110690</td><td>Food Poisoning</td><td>SUBID10052</td><td>N</td><td>claims of policy</td><td>130339</td><td>1959-07-22</td></tr><tr><td>53</td><td>180709</td><td>Anthrax</td><td>SUBID10053</td><td>Y</td><td>claims of fact</td><td>87588</td><td>2008-10-17</td></tr><tr><td>54</td><td>119268</td><td>Mold allergy</td><td>SUBID10054</td><td>NaN</td><td>claims of policy</td><td>27404</td><td>1965-01-09</td></tr><tr><td>55</td><td>163148</td><td>Beriberi</td><td>SUBID10055</td><td>Y</td><td>claims of policy</td><td>44986</td><td>2007-06-22</td></tr><tr><td>56</td><td>118913</td><td>Malaria</td><td>SUBID10056</td><td>NaN</td><td>claims of fact</td><td>124734</td><td>1974-12-21</td></tr><tr><td>57</td><td>167423</td><td>Asthma</td><td>SUBID10057</td><td>Y</td><td>claims of policy</td><td>161497</td><td>1974-12-28</td></tr><tr><td>58</td><td>141703</td><td>Fractures</td><td>SUBID1058</td><td>Y</td><td>claims of policy</td><td>20770</td><td>1967-08-28</td></tr><tr><td>59</td><td>173518</td><td>Malaria</td><td>SUBID10059</td><td>NaN</td><td>claims of policy</td><td>171729</td><td>1983-08-26</td></tr><tr><td>60</td><td>140394</td><td>Anthrax</td><td>SUBID10060</td><td>NaN</td><td>claims of policy</td><td>139755</td><td>2004-01-20</td></tr><tr><td>61</td><td>164524</td><td>Mold allergy</td><td>SUBID10061</td><td>NaN</td><td>claims of fact</td><td>74276</td><td>1991-03-16</td></tr><tr><td>62</td><td>198182</td><td>Head banging</td><td>SUBID1062</td><td>Y</td><td>claims of value</td><td>71703</td><td>1945-10-24</td></tr><tr><td>63</td><td>115143</td><td>Drug consumption</td><td>SUBID1063</td><td>Y</td><td>claims of policy</td><td>158255</td><td>2014-01-10</td></tr><tr><td>64</td><td>156364</td><td>Cholera</td><td>SUBID10064</td><td>N</td><td>claims of policy</td><td>154594</td><td>2015-07-08</td></tr><tr><td>65</td><td>191132</td><td>Glaucoma</td><td>SUBID1065</td><td>Y</td><td>claims of policy</td><td>81980</td><td>1969-05-31</td></tr><tr><td>66</td><td>105686</td><td>Hepatitis</td><td>SUBID10066</td><td>N</td><td>claims of fact</td><td>13667</td><td>1957-09-12</td></tr><tr><td>67</td><td>160140</td><td>Rett Syndrome</td><td>SUBID1067</td><td>N</td><td>claims of value</td><td>109433</td><td>1944-12-25</td></tr><tr><td>68</td><td>114252</td><td>Diabetes</td><td>SUBID10068</td><td>NaN</td><td>claims of policy</td><td>152901</td><td>1948-02-13</td></tr><tr><td>69</td><td>188365</td><td>Pet allergy</td><td>SUBID10069</td><td>NaN</td><td>claims of fact</td><td>99313</td><td>1994-08-25</td></tr></tbody></table></div>"
      ]
     },
     "metadata": {
      "application/vnd.databricks.v1+output": {
       "addedWidgets": {},
       "aggData": [],
       "aggError": "",
       "aggOverflow": false,
       "aggSchema": [],
       "aggSeriesLimitReached": false,
       "aggType": "",
       "arguments": {},
       "columnCustomDisplayInfos": {},
       "data": [
        [
         0,
         187158,
         "Galactosemia",
         "SUBID1000",
         "N",
         "claims of value",
         79874,
         "1949-03-14"
        ],
        [
         1,
         112766,
         "Bladder cancer",
         "SUBID10001",
         "NaN",
         "claims of policy",
         151142,
         "1970-03-16"
        ],
        [
         2,
         199252,
         "Kidney cancer",
         "SUBID10002",
         "NaN",
         "claims of value",
         59924,
         "2008-02-03"
        ],
        [
         3,
         133424,
         "Suicide",
         "SUBID10003",
         "NaN",
         "claims of fact",
         143120,
         "1995-02-08"
        ],
        [
         4,
         172579,
         "Food allergy",
         "SUBID10004",
         "Y",
         "claims of value",
         168634,
         "1967-05-23"
        ],
        [
         5,
         171320,
         "Whiplash",
         "SUBID10005",
         "NaN",
         "claims of policy",
         64840,
         "1991-10-04"
        ],
        [
         6,
         107794,
         "Sunbathing",
         "SUBID1006",
         "N",
         "claims of fact",
         26800,
         "1991-03-26"
        ],
        [
         7,
         130339,
         "Drug consumption",
         "SUBID10007",
         "NaN",
         "claims of value",
         177186,
         "1946-09-05"
        ],
        [
         8,
         110377,
         "Dengue",
         "SUBID10008",
         "N",
         "claims of fact",
         141123,
         "1966-06-20"
        ],
        [
         9,
         149367,
         "Head banging",
         "SUBID10009",
         "N",
         "claims of value",
         88540,
         "1945-12-29"
        ],
        [
         10,
         156168,
         "Fanconi anaemia",
         "SUBID1010",
         "N",
         "claims of value",
         29150,
         "1999-01-25"
        ],
        [
         11,
         114241,
         "Breast cancer",
         "SUBID10011",
         "Y",
         "claims of value",
         40897,
         "1975-02-08"
        ],
        [
         12,
         146382,
         "Anthrax",
         "SUBID10012",
         "NaN",
         "claims of value",
         75983,
         "1985-02-12"
        ],
        [
         13,
         132748,
         "Cystic fibrosis",
         "SUBID10013",
         "NaN",
         "claims of fact",
         192340,
         "2014-07-30"
        ],
        [
         14,
         167340,
         "Galactosemia",
         "SUBID10014",
         "N",
         "claims of value",
         118628,
         "2003-12-18"
        ],
        [
         15,
         135184,
         "Dengue",
         "SUBID10015",
         "Y",
         "claims of value",
         100224,
         "1986-08-02"
        ],
        [
         16,
         179662,
         "Smallpox",
         "SUBID10016",
         "N",
         "claims of value",
         42860,
         "1955-01-20"
        ],
        [
         17,
         184479,
         "Pollen allergy",
         "SUBID10017",
         "N",
         "claims of policy",
         161786,
         "2017-06-01"
        ],
        [
         18,
         156988,
         "Breast cancer",
         "SUBID10018",
         "NaN",
         "claims of fact",
         66129,
         "1956-01-04"
        ],
        [
         19,
         132870,
         "Glaucoma",
         "SUBID10019",
         "NaN",
         "claims of value",
         182552,
         "1948-07-26"
        ],
        [
         20,
         148137,
         "Pet allergy",
         "SUBID1020",
         "Y",
         "claims of value",
         105982,
         "1984-04-10"
        ],
        [
         21,
         113280,
         "Rett Syndrome",
         "SUBID1021",
         "NaN",
         "claims of fact",
         55761,
         "1953-06-24"
        ],
        [
         22,
         134184,
         "Flu",
         "SUBID10022",
         "Y",
         "claims of value",
         34771,
         "1948-05-23"
        ],
        [
         23,
         122592,
         "Cholera",
         "SUBID10023",
         "N",
         "claims of value",
         83642,
         "1945-03-15"
        ],
        [
         24,
         154439,
         "Scurvy",
         "SUBID10024",
         "NaN",
         "claims of policy",
         49129,
         "2013-08-04"
        ],
        [
         25,
         117945,
         "Glaucoma",
         "SUBID10025",
         "N",
         "claims of fact",
         36524,
         "1976-08-24"
        ],
        [
         26,
         189996,
         "Measles",
         "SUBID10026",
         "NaN",
         "claims of value",
         192381,
         "1966-08-30"
        ],
        [
         27,
         146540,
         "Scurvy",
         "SUBID10027",
         "N",
         "claims of fact",
         188520,
         "2008-08-26"
        ],
        [
         28,
         156434,
         "Flu",
         "SUBID10028",
         "N",
         "claims of policy",
         122806,
         "1958-08-05"
        ],
        [
         29,
         197352,
         "Pet allergy",
         "SUBID10029",
         "NaN",
         "claims of fact",
         81651,
         "2008-02-01"
        ],
        [
         30,
         138778,
         "Lymphedema",
         "SUBID1030",
         "NaN",
         "claims of fact",
         19899,
         "1976-09-08"
        ],
        [
         31,
         162665,
         "Alcohol consumption",
         "SUBID10031",
         "N",
         "claims of fact",
         42968,
         "1976-01-25"
        ],
        [
         32,
         197503,
         "Stroke",
         "SUBID1032",
         "N",
         "claims of policy",
         191267,
         "1988-12-18"
        ],
        [
         33,
         113476,
         "Galactosemia",
         "SUBID10033",
         "NaN",
         "claims of value",
         161199,
         "2019-11-17"
        ],
        [
         34,
         195876,
         "Vertigo",
         "SUBID1034",
         "N",
         "claims of fact",
         26221,
         "2008-08-10"
        ],
        [
         35,
         150189,
         "Measles",
         "SUBID10035",
         "Y",
         "claims of value",
         28542,
         "1973-03-25"
        ],
        [
         36,
         138861,
         "Heart Attack",
         "SUBID1036",
         "NaN",
         "claims of policy",
         62985,
         "1948-09-27"
        ],
        [
         37,
         146555,
         "Phenylketonuria",
         "SUBID1037",
         "NaN",
         "claims of policy",
         19596,
         "1972-10-11"
        ],
        [
         38,
         199114,
         "Phenylketonuria",
         "SUBID1038",
         "Y",
         "claims of fact",
         25171,
         "1979-03-11"
        ],
        [
         39,
         105758,
         "Head banging",
         "SUBID10039",
         "NaN",
         "claims of fact",
         108526,
         "1960-05-09"
        ],
        [
         40,
         109251,
         "Choking",
         "SUBID10040",
         "Y",
         "claims of value",
         116937,
         "1998-09-26"
        ],
        [
         41,
         156223,
         "Fanconi anaemia",
         "SUBID1041",
         "NaN",
         "claims of fact",
         118452,
         "1955-10-11"
        ],
        [
         42,
         108576,
         "Stroke",
         "SUBID10042",
         "NaN",
         "claims of fact",
         188727,
         "1989-10-28"
        ],
        [
         43,
         132947,
         "Anaemia",
         "SUBID1043",
         "N",
         "claims of value",
         186502,
         "1962-09-18"
        ],
        [
         44,
         148674,
         "Diabetes",
         "SUBID1044",
         "Y",
         "claims of policy",
         173600,
         "1959-10-19"
        ],
        [
         45,
         133107,
         "Lymphedema",
         "SUBID1045",
         "Y",
         "claims of policy",
         160739,
         "1952-07-29"
        ],
        [
         46,
         193137,
         "Phenylketonuria",
         "SUBID10046",
         "N",
         "claims of fact",
         25957,
         "2003-11-29"
        ],
        [
         47,
         196369,
         "Choking",
         "SUBID1047",
         "NaN",
         "claims of value",
         164159,
         "1953-06-07"
        ],
        [
         48,
         109342,
         "Asthma",
         "SUBID10048",
         "Y",
         "claims of value",
         125727,
         "1947-04-11"
        ],
        [
         49,
         121783,
         "Bladder cancer",
         "SUBID10049",
         "NaN",
         "claims of fact",
         159815,
         "1983-06-20"
        ],
        [
         50,
         197441,
         "Lung cancer",
         "SUBID10050",
         "NaN",
         "claims of policy",
         156557,
         "1972-06-19"
        ],
        [
         51,
         194166,
         "Colorectal cancer",
         "SUBID10051",
         "N",
         "claims of value",
         193801,
         "1969-02-01"
        ],
        [
         52,
         110690,
         "Food Poisoning",
         "SUBID10052",
         "N",
         "claims of policy",
         130339,
         "1959-07-22"
        ],
        [
         53,
         180709,
         "Anthrax",
         "SUBID10053",
         "Y",
         "claims of fact",
         87588,
         "2008-10-17"
        ],
        [
         54,
         119268,
         "Mold allergy",
         "SUBID10054",
         "NaN",
         "claims of policy",
         27404,
         "1965-01-09"
        ],
        [
         55,
         163148,
         "Beriberi",
         "SUBID10055",
         "Y",
         "claims of policy",
         44986,
         "2007-06-22"
        ],
        [
         56,
         118913,
         "Malaria",
         "SUBID10056",
         "NaN",
         "claims of fact",
         124734,
         "1974-12-21"
        ],
        [
         57,
         167423,
         "Asthma",
         "SUBID10057",
         "Y",
         "claims of policy",
         161497,
         "1974-12-28"
        ],
        [
         58,
         141703,
         "Fractures",
         "SUBID1058",
         "Y",
         "claims of policy",
         20770,
         "1967-08-28"
        ],
        [
         59,
         173518,
         "Malaria",
         "SUBID10059",
         "NaN",
         "claims of policy",
         171729,
         "1983-08-26"
        ],
        [
         60,
         140394,
         "Anthrax",
         "SUBID10060",
         "NaN",
         "claims of policy",
         139755,
         "2004-01-20"
        ],
        [
         61,
         164524,
         "Mold allergy",
         "SUBID10061",
         "NaN",
         "claims of fact",
         74276,
         "1991-03-16"
        ],
        [
         62,
         198182,
         "Head banging",
         "SUBID1062",
         "Y",
         "claims of value",
         71703,
         "1945-10-24"
        ],
        [
         63,
         115143,
         "Drug consumption",
         "SUBID1063",
         "Y",
         "claims of policy",
         158255,
         "2014-01-10"
        ],
        [
         64,
         156364,
         "Cholera",
         "SUBID10064",
         "N",
         "claims of policy",
         154594,
         "2015-07-08"
        ],
        [
         65,
         191132,
         "Glaucoma",
         "SUBID1065",
         "Y",
         "claims of policy",
         81980,
         "1969-05-31"
        ],
        [
         66,
         105686,
         "Hepatitis",
         "SUBID10066",
         "N",
         "claims of fact",
         13667,
         "1957-09-12"
        ],
        [
         67,
         160140,
         "Rett Syndrome",
         "SUBID1067",
         "N",
         "claims of value",
         109433,
         "1944-12-25"
        ],
        [
         68,
         114252,
         "Diabetes",
         "SUBID10068",
         "NaN",
         "claims of policy",
         152901,
         "1948-02-13"
        ],
        [
         69,
         188365,
         "Pet allergy",
         "SUBID10069",
         "NaN",
         "claims of fact",
         99313,
         "1994-08-25"
        ]
       ],
       "datasetInfos": [],
       "dbfsResultPath": null,
       "isJsonSchema": true,
       "metadata": {},
       "overflow": false,
       "plotOptions": {
        "customPlotOptions": {},
        "displayType": "table",
        "pivotAggregation": null,
        "pivotColumns": null,
        "xColumns": null,
        "yColumns": null
       },
       "removedWidgets": [],
       "schema": [
        {
         "metadata": "{}",
         "name": "claim_id",
         "type": "\"integer\""
        },
        {
         "metadata": "{}",
         "name": "patient_id",
         "type": "\"integer\""
        },
        {
         "metadata": "{}",
         "name": "disease_name",
         "type": "\"string\""
        },
        {
         "metadata": "{}",
         "name": "SUB_ID",
         "type": "\"string\""
        },
        {
         "metadata": "{}",
         "name": "Claim_Or_Rejected",
         "type": "\"string\""
        },
        {
         "metadata": "{}",
         "name": "claim_type",
         "type": "\"string\""
        },
        {
         "metadata": "{}",
         "name": "claim_amount",
         "type": "\"integer\""
        },
        {
         "metadata": "{\"__detected_date_formats\":\"yyyy-M-d\"}",
         "name": "claim_date",
         "type": "\"date\""
        }
       ],
       "type": "table"
      }
     },
     "output_type": "display_data"
    }
   ],
   "source": [
    "display(data)"
   ]
  },
  {
   "cell_type": "code",
   "execution_count": 0,
   "metadata": {
    "application/vnd.databricks.v1+cell": {
     "cellMetadata": {
      "byteLimit": 2048000,
      "rowLimit": 10000
     },
     "inputWidgets": {},
     "nuid": "2660377e-880f-4c19-8fa6-0741ebe2a2de",
     "showTitle": false,
     "title": ""
    }
   },
   "outputs": [],
   "source": [
    "# to do - patient name, null values/check for duplicates."
   ]
  },
  {
   "cell_type": "code",
   "execution_count": 0,
   "metadata": {
    "application/vnd.databricks.v1+cell": {
     "cellMetadata": {
      "byteLimit": 2048000,
      "rowLimit": 10000
     },
     "inputWidgets": {},
     "nuid": "5a8d0d87-e822-4875-89c1-7576a1de82a2",
     "showTitle": false,
     "title": ""
    }
   },
   "outputs": [
    {
     "output_type": "execute_result",
     "data": {
      "text/plain": [
       "['claim_id',\n",
       " 'patient_id',\n",
       " 'disease_name',\n",
       " 'SUB_ID',\n",
       " 'Claim_Or_Rejected',\n",
       " 'claim_type',\n",
       " 'claim_amount',\n",
       " 'claim_date']"
      ]
     },
     "execution_count": 47,
     "metadata": {},
     "output_type": "execute_result"
    }
   ],
   "source": [
    "data.columns"
   ]
  },
  {
   "cell_type": "code",
   "execution_count": 0,
   "metadata": {
    "application/vnd.databricks.v1+cell": {
     "cellMetadata": {
      "byteLimit": 2048000,
      "rowLimit": 10000
     },
     "inputWidgets": {},
     "nuid": "2d94e749-b33f-4416-9932-0bfa94e14879",
     "showTitle": false,
     "title": ""
    }
   },
   "outputs": [],
   "source": [
    "data = data.replace(\"NaN\", None)"
   ]
  },
  {
   "cell_type": "code",
   "execution_count": 0,
   "metadata": {
    "application/vnd.databricks.v1+cell": {
     "cellMetadata": {
      "byteLimit": 2048000,
      "rowLimit": 10000
     },
     "inputWidgets": {},
     "nuid": "c30c2f57-5e04-4094-863e-afb6470934e0",
     "showTitle": false,
     "title": ""
    }
   },
   "outputs": [
    {
     "output_type": "stream",
     "name": "stdout",
     "output_type": "stream",
     "text": [
      "+--------+----------+------------+------+-----------------+----------+------------+----------+-----+\n|claim_id|patient_id|disease_name|SUB_ID|Claim_Or_Rejected|claim_type|claim_amount|claim_date|count|\n+--------+----------+------------+------+-----------------+----------+------------+----------+-----+\n+--------+----------+------------+------+-----------------+----------+------------+----------+-----+\n\n"
     ]
    }
   ],
   "source": [
    "data.groupby(['claim_id', 'patient_id', 'disease_name', 'SUB_ID', 'Claim_Or_Rejected', 'claim_type', 'claim_amount', 'claim_date']).count().where(\"count > 1\").show(15, False)"
   ]
  },
  {
   "cell_type": "code",
   "execution_count": 0,
   "metadata": {
    "application/vnd.databricks.v1+cell": {
     "cellMetadata": {
      "byteLimit": 2048000,
      "rowLimit": 10000
     },
     "inputWidgets": {},
     "nuid": "d940527d-62f9-4e7d-a9c4-d8244f7ed763",
     "showTitle": false,
     "title": ""
    }
   },
   "outputs": [
    {
     "output_type": "display_data",
     "data": {
      "text/html": [
       "<style scoped>\n",
       "  .table-result-container {\n",
       "    max-height: 300px;\n",
       "    overflow: auto;\n",
       "  }\n",
       "  table, th, td {\n",
       "    border: 1px solid black;\n",
       "    border-collapse: collapse;\n",
       "  }\n",
       "  th, td {\n",
       "    padding: 5px;\n",
       "  }\n",
       "  th {\n",
       "    text-align: left;\n",
       "  }\n",
       "</style><div class='table-result-container'><table class='table-result'><thead style='background-color: white'><tr><th>claim_id</th><th>patient_id</th><th>disease_name</th><th>SUB_ID</th><th>Claim_Or_Rejected</th><th>claim_type</th><th>claim_amount</th><th>claim_date</th></tr></thead><tbody><tr><td>0</td><td>0</td><td>0</td><td>0</td><td>30</td><td>0</td><td>0</td><td>0</td></tr></tbody></table></div>"
      ]
     },
     "metadata": {
      "application/vnd.databricks.v1+output": {
       "addedWidgets": {},
       "aggData": [],
       "aggError": "",
       "aggOverflow": false,
       "aggSchema": [],
       "aggSeriesLimitReached": false,
       "aggType": "",
       "arguments": {},
       "columnCustomDisplayInfos": {},
       "data": [
        [
         0,
         0,
         0,
         0,
         30,
         0,
         0,
         0
        ]
       ],
       "datasetInfos": [],
       "dbfsResultPath": null,
       "isJsonSchema": true,
       "metadata": {},
       "overflow": false,
       "plotOptions": {
        "customPlotOptions": {},
        "displayType": "table",
        "pivotAggregation": null,
        "pivotColumns": null,
        "xColumns": null,
        "yColumns": null
       },
       "removedWidgets": [],
       "schema": [
        {
         "metadata": "{}",
         "name": "claim_id",
         "type": "\"long\""
        },
        {
         "metadata": "{}",
         "name": "patient_id",
         "type": "\"long\""
        },
        {
         "metadata": "{}",
         "name": "disease_name",
         "type": "\"long\""
        },
        {
         "metadata": "{}",
         "name": "SUB_ID",
         "type": "\"long\""
        },
        {
         "metadata": "{}",
         "name": "Claim_Or_Rejected",
         "type": "\"long\""
        },
        {
         "metadata": "{}",
         "name": "claim_type",
         "type": "\"long\""
        },
        {
         "metadata": "{}",
         "name": "claim_amount",
         "type": "\"long\""
        },
        {
         "metadata": "{}",
         "name": "claim_date",
         "type": "\"long\""
        }
       ],
       "type": "table"
      }
     },
     "output_type": "display_data"
    }
   ],
   "source": [
    "# check whether the null values are removed or not.\n",
    "null_counts = data.select(\n",
    "    [count(when(isnull(col(c)) | col(c).isNull(), c)).alias(c) for c in data.columns]\n",
    ")\n",
    "\n",
    "# Display the DataFrame\n",
    "display(null_counts)"
   ]
  },
  {
   "cell_type": "code",
   "execution_count": 0,
   "metadata": {
    "application/vnd.databricks.v1+cell": {
     "cellMetadata": {
      "byteLimit": 2048000,
      "rowLimit": 10000
     },
     "inputWidgets": {},
     "nuid": "02e9d3e3-3639-4e26-ba2f-997ea4004812",
     "showTitle": false,
     "title": ""
    }
   },
   "outputs": [],
   "source": [
    "data = data.fillna({\"Claim_Or_Rejected\" : \"N\"})"
   ]
  },
  {
   "cell_type": "code",
   "execution_count": 0,
   "metadata": {
    "application/vnd.databricks.v1+cell": {
     "cellMetadata": {
      "byteLimit": 2048000,
      "rowLimit": 10000
     },
     "inputWidgets": {},
     "nuid": "0b1c6cc3-24a9-4ee5-a562-fc2259703eac",
     "showTitle": false,
     "title": ""
    }
   },
   "outputs": [
    {
     "output_type": "display_data",
     "data": {
      "text/html": [
       "<style scoped>\n",
       "  .table-result-container {\n",
       "    max-height: 300px;\n",
       "    overflow: auto;\n",
       "  }\n",
       "  table, th, td {\n",
       "    border: 1px solid black;\n",
       "    border-collapse: collapse;\n",
       "  }\n",
       "  th, td {\n",
       "    padding: 5px;\n",
       "  }\n",
       "  th {\n",
       "    text-align: left;\n",
       "  }\n",
       "</style><div class='table-result-container'><table class='table-result'><thead style='background-color: white'><tr><th>claim_id</th><th>patient_id</th><th>disease_name</th><th>SUB_ID</th><th>Claim_Or_Rejected</th><th>claim_type</th><th>claim_amount</th><th>claim_date</th></tr></thead><tbody><tr><td>0</td><td>187158</td><td>Galactosemia</td><td>SUBID1000</td><td>N</td><td>claims of value</td><td>79874</td><td>1949-03-14</td></tr><tr><td>1</td><td>112766</td><td>Bladder cancer</td><td>SUBID10001</td><td>N</td><td>claims of policy</td><td>151142</td><td>1970-03-16</td></tr><tr><td>2</td><td>199252</td><td>Kidney cancer</td><td>SUBID10002</td><td>N</td><td>claims of value</td><td>59924</td><td>2008-02-03</td></tr><tr><td>3</td><td>133424</td><td>Suicide</td><td>SUBID10003</td><td>N</td><td>claims of fact</td><td>143120</td><td>1995-02-08</td></tr><tr><td>4</td><td>172579</td><td>Food allergy</td><td>SUBID10004</td><td>Y</td><td>claims of value</td><td>168634</td><td>1967-05-23</td></tr><tr><td>5</td><td>171320</td><td>Whiplash</td><td>SUBID10005</td><td>N</td><td>claims of policy</td><td>64840</td><td>1991-10-04</td></tr><tr><td>6</td><td>107794</td><td>Sunbathing</td><td>SUBID1006</td><td>N</td><td>claims of fact</td><td>26800</td><td>1991-03-26</td></tr><tr><td>7</td><td>130339</td><td>Drug consumption</td><td>SUBID10007</td><td>N</td><td>claims of value</td><td>177186</td><td>1946-09-05</td></tr><tr><td>8</td><td>110377</td><td>Dengue</td><td>SUBID10008</td><td>N</td><td>claims of fact</td><td>141123</td><td>1966-06-20</td></tr><tr><td>9</td><td>149367</td><td>Head banging</td><td>SUBID10009</td><td>N</td><td>claims of value</td><td>88540</td><td>1945-12-29</td></tr><tr><td>10</td><td>156168</td><td>Fanconi anaemia</td><td>SUBID1010</td><td>N</td><td>claims of value</td><td>29150</td><td>1999-01-25</td></tr><tr><td>11</td><td>114241</td><td>Breast cancer</td><td>SUBID10011</td><td>Y</td><td>claims of value</td><td>40897</td><td>1975-02-08</td></tr><tr><td>12</td><td>146382</td><td>Anthrax</td><td>SUBID10012</td><td>N</td><td>claims of value</td><td>75983</td><td>1985-02-12</td></tr><tr><td>13</td><td>132748</td><td>Cystic fibrosis</td><td>SUBID10013</td><td>N</td><td>claims of fact</td><td>192340</td><td>2014-07-30</td></tr><tr><td>14</td><td>167340</td><td>Galactosemia</td><td>SUBID10014</td><td>N</td><td>claims of value</td><td>118628</td><td>2003-12-18</td></tr><tr><td>15</td><td>135184</td><td>Dengue</td><td>SUBID10015</td><td>Y</td><td>claims of value</td><td>100224</td><td>1986-08-02</td></tr><tr><td>16</td><td>179662</td><td>Smallpox</td><td>SUBID10016</td><td>N</td><td>claims of value</td><td>42860</td><td>1955-01-20</td></tr><tr><td>17</td><td>184479</td><td>Pollen allergy</td><td>SUBID10017</td><td>N</td><td>claims of policy</td><td>161786</td><td>2017-06-01</td></tr><tr><td>18</td><td>156988</td><td>Breast cancer</td><td>SUBID10018</td><td>N</td><td>claims of fact</td><td>66129</td><td>1956-01-04</td></tr><tr><td>19</td><td>132870</td><td>Glaucoma</td><td>SUBID10019</td><td>N</td><td>claims of value</td><td>182552</td><td>1948-07-26</td></tr><tr><td>20</td><td>148137</td><td>Pet allergy</td><td>SUBID1020</td><td>Y</td><td>claims of value</td><td>105982</td><td>1984-04-10</td></tr><tr><td>21</td><td>113280</td><td>Rett Syndrome</td><td>SUBID1021</td><td>N</td><td>claims of fact</td><td>55761</td><td>1953-06-24</td></tr><tr><td>22</td><td>134184</td><td>Flu</td><td>SUBID10022</td><td>Y</td><td>claims of value</td><td>34771</td><td>1948-05-23</td></tr><tr><td>23</td><td>122592</td><td>Cholera</td><td>SUBID10023</td><td>N</td><td>claims of value</td><td>83642</td><td>1945-03-15</td></tr><tr><td>24</td><td>154439</td><td>Scurvy</td><td>SUBID10024</td><td>N</td><td>claims of policy</td><td>49129</td><td>2013-08-04</td></tr><tr><td>25</td><td>117945</td><td>Glaucoma</td><td>SUBID10025</td><td>N</td><td>claims of fact</td><td>36524</td><td>1976-08-24</td></tr><tr><td>26</td><td>189996</td><td>Measles</td><td>SUBID10026</td><td>N</td><td>claims of value</td><td>192381</td><td>1966-08-30</td></tr><tr><td>27</td><td>146540</td><td>Scurvy</td><td>SUBID10027</td><td>N</td><td>claims of fact</td><td>188520</td><td>2008-08-26</td></tr><tr><td>28</td><td>156434</td><td>Flu</td><td>SUBID10028</td><td>N</td><td>claims of policy</td><td>122806</td><td>1958-08-05</td></tr><tr><td>29</td><td>197352</td><td>Pet allergy</td><td>SUBID10029</td><td>N</td><td>claims of fact</td><td>81651</td><td>2008-02-01</td></tr><tr><td>30</td><td>138778</td><td>Lymphedema</td><td>SUBID1030</td><td>N</td><td>claims of fact</td><td>19899</td><td>1976-09-08</td></tr><tr><td>31</td><td>162665</td><td>Alcohol consumption</td><td>SUBID10031</td><td>N</td><td>claims of fact</td><td>42968</td><td>1976-01-25</td></tr><tr><td>32</td><td>197503</td><td>Stroke</td><td>SUBID1032</td><td>N</td><td>claims of policy</td><td>191267</td><td>1988-12-18</td></tr><tr><td>33</td><td>113476</td><td>Galactosemia</td><td>SUBID10033</td><td>N</td><td>claims of value</td><td>161199</td><td>2019-11-17</td></tr><tr><td>34</td><td>195876</td><td>Vertigo</td><td>SUBID1034</td><td>N</td><td>claims of fact</td><td>26221</td><td>2008-08-10</td></tr><tr><td>35</td><td>150189</td><td>Measles</td><td>SUBID10035</td><td>Y</td><td>claims of value</td><td>28542</td><td>1973-03-25</td></tr><tr><td>36</td><td>138861</td><td>Heart Attack</td><td>SUBID1036</td><td>N</td><td>claims of policy</td><td>62985</td><td>1948-09-27</td></tr><tr><td>37</td><td>146555</td><td>Phenylketonuria</td><td>SUBID1037</td><td>N</td><td>claims of policy</td><td>19596</td><td>1972-10-11</td></tr><tr><td>38</td><td>199114</td><td>Phenylketonuria</td><td>SUBID1038</td><td>Y</td><td>claims of fact</td><td>25171</td><td>1979-03-11</td></tr><tr><td>39</td><td>105758</td><td>Head banging</td><td>SUBID10039</td><td>N</td><td>claims of fact</td><td>108526</td><td>1960-05-09</td></tr><tr><td>40</td><td>109251</td><td>Choking</td><td>SUBID10040</td><td>Y</td><td>claims of value</td><td>116937</td><td>1998-09-26</td></tr><tr><td>41</td><td>156223</td><td>Fanconi anaemia</td><td>SUBID1041</td><td>N</td><td>claims of fact</td><td>118452</td><td>1955-10-11</td></tr><tr><td>42</td><td>108576</td><td>Stroke</td><td>SUBID10042</td><td>N</td><td>claims of fact</td><td>188727</td><td>1989-10-28</td></tr><tr><td>43</td><td>132947</td><td>Anaemia</td><td>SUBID1043</td><td>N</td><td>claims of value</td><td>186502</td><td>1962-09-18</td></tr><tr><td>44</td><td>148674</td><td>Diabetes</td><td>SUBID1044</td><td>Y</td><td>claims of policy</td><td>173600</td><td>1959-10-19</td></tr><tr><td>45</td><td>133107</td><td>Lymphedema</td><td>SUBID1045</td><td>Y</td><td>claims of policy</td><td>160739</td><td>1952-07-29</td></tr><tr><td>46</td><td>193137</td><td>Phenylketonuria</td><td>SUBID10046</td><td>N</td><td>claims of fact</td><td>25957</td><td>2003-11-29</td></tr><tr><td>47</td><td>196369</td><td>Choking</td><td>SUBID1047</td><td>N</td><td>claims of value</td><td>164159</td><td>1953-06-07</td></tr><tr><td>48</td><td>109342</td><td>Asthma</td><td>SUBID10048</td><td>Y</td><td>claims of value</td><td>125727</td><td>1947-04-11</td></tr><tr><td>49</td><td>121783</td><td>Bladder cancer</td><td>SUBID10049</td><td>N</td><td>claims of fact</td><td>159815</td><td>1983-06-20</td></tr><tr><td>50</td><td>197441</td><td>Lung cancer</td><td>SUBID10050</td><td>N</td><td>claims of policy</td><td>156557</td><td>1972-06-19</td></tr><tr><td>51</td><td>194166</td><td>Colorectal cancer</td><td>SUBID10051</td><td>N</td><td>claims of value</td><td>193801</td><td>1969-02-01</td></tr><tr><td>52</td><td>110690</td><td>Food Poisoning</td><td>SUBID10052</td><td>N</td><td>claims of policy</td><td>130339</td><td>1959-07-22</td></tr><tr><td>53</td><td>180709</td><td>Anthrax</td><td>SUBID10053</td><td>Y</td><td>claims of fact</td><td>87588</td><td>2008-10-17</td></tr><tr><td>54</td><td>119268</td><td>Mold allergy</td><td>SUBID10054</td><td>N</td><td>claims of policy</td><td>27404</td><td>1965-01-09</td></tr><tr><td>55</td><td>163148</td><td>Beriberi</td><td>SUBID10055</td><td>Y</td><td>claims of policy</td><td>44986</td><td>2007-06-22</td></tr><tr><td>56</td><td>118913</td><td>Malaria</td><td>SUBID10056</td><td>N</td><td>claims of fact</td><td>124734</td><td>1974-12-21</td></tr><tr><td>57</td><td>167423</td><td>Asthma</td><td>SUBID10057</td><td>Y</td><td>claims of policy</td><td>161497</td><td>1974-12-28</td></tr><tr><td>58</td><td>141703</td><td>Fractures</td><td>SUBID1058</td><td>Y</td><td>claims of policy</td><td>20770</td><td>1967-08-28</td></tr><tr><td>59</td><td>173518</td><td>Malaria</td><td>SUBID10059</td><td>N</td><td>claims of policy</td><td>171729</td><td>1983-08-26</td></tr><tr><td>60</td><td>140394</td><td>Anthrax</td><td>SUBID10060</td><td>N</td><td>claims of policy</td><td>139755</td><td>2004-01-20</td></tr><tr><td>61</td><td>164524</td><td>Mold allergy</td><td>SUBID10061</td><td>N</td><td>claims of fact</td><td>74276</td><td>1991-03-16</td></tr><tr><td>62</td><td>198182</td><td>Head banging</td><td>SUBID1062</td><td>Y</td><td>claims of value</td><td>71703</td><td>1945-10-24</td></tr><tr><td>63</td><td>115143</td><td>Drug consumption</td><td>SUBID1063</td><td>Y</td><td>claims of policy</td><td>158255</td><td>2014-01-10</td></tr><tr><td>64</td><td>156364</td><td>Cholera</td><td>SUBID10064</td><td>N</td><td>claims of policy</td><td>154594</td><td>2015-07-08</td></tr><tr><td>65</td><td>191132</td><td>Glaucoma</td><td>SUBID1065</td><td>Y</td><td>claims of policy</td><td>81980</td><td>1969-05-31</td></tr><tr><td>66</td><td>105686</td><td>Hepatitis</td><td>SUBID10066</td><td>N</td><td>claims of fact</td><td>13667</td><td>1957-09-12</td></tr><tr><td>67</td><td>160140</td><td>Rett Syndrome</td><td>SUBID1067</td><td>N</td><td>claims of value</td><td>109433</td><td>1944-12-25</td></tr><tr><td>68</td><td>114252</td><td>Diabetes</td><td>SUBID10068</td><td>N</td><td>claims of policy</td><td>152901</td><td>1948-02-13</td></tr><tr><td>69</td><td>188365</td><td>Pet allergy</td><td>SUBID10069</td><td>N</td><td>claims of fact</td><td>99313</td><td>1994-08-25</td></tr></tbody></table></div>"
      ]
     },
     "metadata": {
      "application/vnd.databricks.v1+output": {
       "addedWidgets": {},
       "aggData": [],
       "aggError": "",
       "aggOverflow": false,
       "aggSchema": [],
       "aggSeriesLimitReached": false,
       "aggType": "",
       "arguments": {},
       "columnCustomDisplayInfos": {},
       "data": [
        [
         0,
         187158,
         "Galactosemia",
         "SUBID1000",
         "N",
         "claims of value",
         79874,
         "1949-03-14"
        ],
        [
         1,
         112766,
         "Bladder cancer",
         "SUBID10001",
         "N",
         "claims of policy",
         151142,
         "1970-03-16"
        ],
        [
         2,
         199252,
         "Kidney cancer",
         "SUBID10002",
         "N",
         "claims of value",
         59924,
         "2008-02-03"
        ],
        [
         3,
         133424,
         "Suicide",
         "SUBID10003",
         "N",
         "claims of fact",
         143120,
         "1995-02-08"
        ],
        [
         4,
         172579,
         "Food allergy",
         "SUBID10004",
         "Y",
         "claims of value",
         168634,
         "1967-05-23"
        ],
        [
         5,
         171320,
         "Whiplash",
         "SUBID10005",
         "N",
         "claims of policy",
         64840,
         "1991-10-04"
        ],
        [
         6,
         107794,
         "Sunbathing",
         "SUBID1006",
         "N",
         "claims of fact",
         26800,
         "1991-03-26"
        ],
        [
         7,
         130339,
         "Drug consumption",
         "SUBID10007",
         "N",
         "claims of value",
         177186,
         "1946-09-05"
        ],
        [
         8,
         110377,
         "Dengue",
         "SUBID10008",
         "N",
         "claims of fact",
         141123,
         "1966-06-20"
        ],
        [
         9,
         149367,
         "Head banging",
         "SUBID10009",
         "N",
         "claims of value",
         88540,
         "1945-12-29"
        ],
        [
         10,
         156168,
         "Fanconi anaemia",
         "SUBID1010",
         "N",
         "claims of value",
         29150,
         "1999-01-25"
        ],
        [
         11,
         114241,
         "Breast cancer",
         "SUBID10011",
         "Y",
         "claims of value",
         40897,
         "1975-02-08"
        ],
        [
         12,
         146382,
         "Anthrax",
         "SUBID10012",
         "N",
         "claims of value",
         75983,
         "1985-02-12"
        ],
        [
         13,
         132748,
         "Cystic fibrosis",
         "SUBID10013",
         "N",
         "claims of fact",
         192340,
         "2014-07-30"
        ],
        [
         14,
         167340,
         "Galactosemia",
         "SUBID10014",
         "N",
         "claims of value",
         118628,
         "2003-12-18"
        ],
        [
         15,
         135184,
         "Dengue",
         "SUBID10015",
         "Y",
         "claims of value",
         100224,
         "1986-08-02"
        ],
        [
         16,
         179662,
         "Smallpox",
         "SUBID10016",
         "N",
         "claims of value",
         42860,
         "1955-01-20"
        ],
        [
         17,
         184479,
         "Pollen allergy",
         "SUBID10017",
         "N",
         "claims of policy",
         161786,
         "2017-06-01"
        ],
        [
         18,
         156988,
         "Breast cancer",
         "SUBID10018",
         "N",
         "claims of fact",
         66129,
         "1956-01-04"
        ],
        [
         19,
         132870,
         "Glaucoma",
         "SUBID10019",
         "N",
         "claims of value",
         182552,
         "1948-07-26"
        ],
        [
         20,
         148137,
         "Pet allergy",
         "SUBID1020",
         "Y",
         "claims of value",
         105982,
         "1984-04-10"
        ],
        [
         21,
         113280,
         "Rett Syndrome",
         "SUBID1021",
         "N",
         "claims of fact",
         55761,
         "1953-06-24"
        ],
        [
         22,
         134184,
         "Flu",
         "SUBID10022",
         "Y",
         "claims of value",
         34771,
         "1948-05-23"
        ],
        [
         23,
         122592,
         "Cholera",
         "SUBID10023",
         "N",
         "claims of value",
         83642,
         "1945-03-15"
        ],
        [
         24,
         154439,
         "Scurvy",
         "SUBID10024",
         "N",
         "claims of policy",
         49129,
         "2013-08-04"
        ],
        [
         25,
         117945,
         "Glaucoma",
         "SUBID10025",
         "N",
         "claims of fact",
         36524,
         "1976-08-24"
        ],
        [
         26,
         189996,
         "Measles",
         "SUBID10026",
         "N",
         "claims of value",
         192381,
         "1966-08-30"
        ],
        [
         27,
         146540,
         "Scurvy",
         "SUBID10027",
         "N",
         "claims of fact",
         188520,
         "2008-08-26"
        ],
        [
         28,
         156434,
         "Flu",
         "SUBID10028",
         "N",
         "claims of policy",
         122806,
         "1958-08-05"
        ],
        [
         29,
         197352,
         "Pet allergy",
         "SUBID10029",
         "N",
         "claims of fact",
         81651,
         "2008-02-01"
        ],
        [
         30,
         138778,
         "Lymphedema",
         "SUBID1030",
         "N",
         "claims of fact",
         19899,
         "1976-09-08"
        ],
        [
         31,
         162665,
         "Alcohol consumption",
         "SUBID10031",
         "N",
         "claims of fact",
         42968,
         "1976-01-25"
        ],
        [
         32,
         197503,
         "Stroke",
         "SUBID1032",
         "N",
         "claims of policy",
         191267,
         "1988-12-18"
        ],
        [
         33,
         113476,
         "Galactosemia",
         "SUBID10033",
         "N",
         "claims of value",
         161199,
         "2019-11-17"
        ],
        [
         34,
         195876,
         "Vertigo",
         "SUBID1034",
         "N",
         "claims of fact",
         26221,
         "2008-08-10"
        ],
        [
         35,
         150189,
         "Measles",
         "SUBID10035",
         "Y",
         "claims of value",
         28542,
         "1973-03-25"
        ],
        [
         36,
         138861,
         "Heart Attack",
         "SUBID1036",
         "N",
         "claims of policy",
         62985,
         "1948-09-27"
        ],
        [
         37,
         146555,
         "Phenylketonuria",
         "SUBID1037",
         "N",
         "claims of policy",
         19596,
         "1972-10-11"
        ],
        [
         38,
         199114,
         "Phenylketonuria",
         "SUBID1038",
         "Y",
         "claims of fact",
         25171,
         "1979-03-11"
        ],
        [
         39,
         105758,
         "Head banging",
         "SUBID10039",
         "N",
         "claims of fact",
         108526,
         "1960-05-09"
        ],
        [
         40,
         109251,
         "Choking",
         "SUBID10040",
         "Y",
         "claims of value",
         116937,
         "1998-09-26"
        ],
        [
         41,
         156223,
         "Fanconi anaemia",
         "SUBID1041",
         "N",
         "claims of fact",
         118452,
         "1955-10-11"
        ],
        [
         42,
         108576,
         "Stroke",
         "SUBID10042",
         "N",
         "claims of fact",
         188727,
         "1989-10-28"
        ],
        [
         43,
         132947,
         "Anaemia",
         "SUBID1043",
         "N",
         "claims of value",
         186502,
         "1962-09-18"
        ],
        [
         44,
         148674,
         "Diabetes",
         "SUBID1044",
         "Y",
         "claims of policy",
         173600,
         "1959-10-19"
        ],
        [
         45,
         133107,
         "Lymphedema",
         "SUBID1045",
         "Y",
         "claims of policy",
         160739,
         "1952-07-29"
        ],
        [
         46,
         193137,
         "Phenylketonuria",
         "SUBID10046",
         "N",
         "claims of fact",
         25957,
         "2003-11-29"
        ],
        [
         47,
         196369,
         "Choking",
         "SUBID1047",
         "N",
         "claims of value",
         164159,
         "1953-06-07"
        ],
        [
         48,
         109342,
         "Asthma",
         "SUBID10048",
         "Y",
         "claims of value",
         125727,
         "1947-04-11"
        ],
        [
         49,
         121783,
         "Bladder cancer",
         "SUBID10049",
         "N",
         "claims of fact",
         159815,
         "1983-06-20"
        ],
        [
         50,
         197441,
         "Lung cancer",
         "SUBID10050",
         "N",
         "claims of policy",
         156557,
         "1972-06-19"
        ],
        [
         51,
         194166,
         "Colorectal cancer",
         "SUBID10051",
         "N",
         "claims of value",
         193801,
         "1969-02-01"
        ],
        [
         52,
         110690,
         "Food Poisoning",
         "SUBID10052",
         "N",
         "claims of policy",
         130339,
         "1959-07-22"
        ],
        [
         53,
         180709,
         "Anthrax",
         "SUBID10053",
         "Y",
         "claims of fact",
         87588,
         "2008-10-17"
        ],
        [
         54,
         119268,
         "Mold allergy",
         "SUBID10054",
         "N",
         "claims of policy",
         27404,
         "1965-01-09"
        ],
        [
         55,
         163148,
         "Beriberi",
         "SUBID10055",
         "Y",
         "claims of policy",
         44986,
         "2007-06-22"
        ],
        [
         56,
         118913,
         "Malaria",
         "SUBID10056",
         "N",
         "claims of fact",
         124734,
         "1974-12-21"
        ],
        [
         57,
         167423,
         "Asthma",
         "SUBID10057",
         "Y",
         "claims of policy",
         161497,
         "1974-12-28"
        ],
        [
         58,
         141703,
         "Fractures",
         "SUBID1058",
         "Y",
         "claims of policy",
         20770,
         "1967-08-28"
        ],
        [
         59,
         173518,
         "Malaria",
         "SUBID10059",
         "N",
         "claims of policy",
         171729,
         "1983-08-26"
        ],
        [
         60,
         140394,
         "Anthrax",
         "SUBID10060",
         "N",
         "claims of policy",
         139755,
         "2004-01-20"
        ],
        [
         61,
         164524,
         "Mold allergy",
         "SUBID10061",
         "N",
         "claims of fact",
         74276,
         "1991-03-16"
        ],
        [
         62,
         198182,
         "Head banging",
         "SUBID1062",
         "Y",
         "claims of value",
         71703,
         "1945-10-24"
        ],
        [
         63,
         115143,
         "Drug consumption",
         "SUBID1063",
         "Y",
         "claims of policy",
         158255,
         "2014-01-10"
        ],
        [
         64,
         156364,
         "Cholera",
         "SUBID10064",
         "N",
         "claims of policy",
         154594,
         "2015-07-08"
        ],
        [
         65,
         191132,
         "Glaucoma",
         "SUBID1065",
         "Y",
         "claims of policy",
         81980,
         "1969-05-31"
        ],
        [
         66,
         105686,
         "Hepatitis",
         "SUBID10066",
         "N",
         "claims of fact",
         13667,
         "1957-09-12"
        ],
        [
         67,
         160140,
         "Rett Syndrome",
         "SUBID1067",
         "N",
         "claims of value",
         109433,
         "1944-12-25"
        ],
        [
         68,
         114252,
         "Diabetes",
         "SUBID10068",
         "N",
         "claims of policy",
         152901,
         "1948-02-13"
        ],
        [
         69,
         188365,
         "Pet allergy",
         "SUBID10069",
         "N",
         "claims of fact",
         99313,
         "1994-08-25"
        ]
       ],
       "datasetInfos": [],
       "dbfsResultPath": null,
       "isJsonSchema": true,
       "metadata": {},
       "overflow": false,
       "plotOptions": {
        "customPlotOptions": {},
        "displayType": "table",
        "pivotAggregation": null,
        "pivotColumns": null,
        "xColumns": null,
        "yColumns": null
       },
       "removedWidgets": [],
       "schema": [
        {
         "metadata": "{}",
         "name": "claim_id",
         "type": "\"integer\""
        },
        {
         "metadata": "{}",
         "name": "patient_id",
         "type": "\"integer\""
        },
        {
         "metadata": "{}",
         "name": "disease_name",
         "type": "\"string\""
        },
        {
         "metadata": "{}",
         "name": "SUB_ID",
         "type": "\"string\""
        },
        {
         "metadata": "{}",
         "name": "Claim_Or_Rejected",
         "type": "\"string\""
        },
        {
         "metadata": "{}",
         "name": "claim_type",
         "type": "\"string\""
        },
        {
         "metadata": "{}",
         "name": "claim_amount",
         "type": "\"integer\""
        },
        {
         "metadata": "{\"__detected_date_formats\":\"yyyy-M-d\"}",
         "name": "claim_date",
         "type": "\"date\""
        }
       ],
       "type": "table"
      }
     },
     "output_type": "display_data"
    }
   ],
   "source": [
    "display(data)"
   ]
  },
  {
   "cell_type": "code",
   "execution_count": 0,
   "metadata": {
    "application/vnd.databricks.v1+cell": {
     "cellMetadata": {
      "byteLimit": 2048000,
      "rowLimit": 10000
     },
     "inputWidgets": {},
     "nuid": "5569ef30-a880-4cf3-af41-44f24421387e",
     "showTitle": false,
     "title": ""
    }
   },
   "outputs": [
    {
     "output_type": "stream",
     "name": "stdout",
     "output_type": "stream",
     "text": [
      "+--------+----------+--------------+----------+-----------------+---------------+------------+----------+\n|claim_id|patient_id|  disease_name|    SUB_ID|Claim_Or_Rejected|     claim_type|claim_amount|claim_date|\n+--------+----------+--------------+----------+-----------------+---------------+------------+----------+\n|      22|    134184|           Flu|SUBID10022|                Y|claims of value|       34771|1948-05-23|\n|      49|    121783|Bladder cancer|SUBID10049|                N| claims of fact|      159815|1983-06-20|\n+--------+----------+--------------+----------+-----------------+---------------+------------+----------+\n\n"
     ]
    }
   ],
   "source": [
    "data.select(\"*\").filter(col(\"SUB_ID\").isin([\"SUBID10022\", \"SUBID10049\"])).show() "
   ]
  },
  {
   "cell_type": "code",
   "execution_count": 0,
   "metadata": {
    "application/vnd.databricks.v1+cell": {
     "cellMetadata": {
      "byteLimit": 2048000,
      "rowLimit": 10000
     },
     "inputWidgets": {},
     "nuid": "06f52eff-abfd-465a-869a-e3c6c6f0a594",
     "showTitle": false,
     "title": ""
    }
   },
   "outputs": [],
   "source": [
    "# # Now we need to write this data into stagging area for the next step.\n",
    "# # boilerplate code (standard code for certain operation)\n",
    "\n",
    "# Define the output staging path\n",
    "output_stagging_path = \"abfss://stagginglayerhealthdata@healthcareprojectblob.dfs.core.windows.net\"\n",
    "\n",
    "# Write the data to the staging area\n",
    "data.coalesce(1).write.mode(\"append\").format(\"com.databricks.spark.csv\").option(\"header\", \"true\").option(\"format\", \"csv\").save(output_stagging_path)\n",
    "\n",
    "# List all files in the output staging path\n",
    "files = dbutils.fs.ls(output_stagging_path)\n",
    "\n",
    "# Identify part files and non-part files\n",
    "part_files = [x for x in files if x.name.startswith(\"part-\")]\n",
    "non_part_files = [x for x in files if x.name.startswith(\"_\")]\n",
    "\n",
    "# Move the part file to the desired location\n",
    "if part_files:\n",
    "    dbutils.fs.mv(part_files[0].path, f\"{output_stagging_path}/claimsstagging.csv\")\n",
    "\n",
    "# Remove non-part files\n",
    "for file in non_part_files:\n",
    "    dbutils.fs.rm(file.path)"
   ]
  }
 ],
 "metadata": {
  "application/vnd.databricks.v1+notebook": {
   "dashboards": [],
   "environmentMetadata": {
    "base_environment": "",
    "client": "1"
   },
   "language": "python",
   "notebookMetadata": {
    "pythonIndentUnit": 4
   },
   "notebookName": "claims_Transformations",
   "widgets": {}
  }
 },
 "nbformat": 4,
 "nbformat_minor": 0
}
