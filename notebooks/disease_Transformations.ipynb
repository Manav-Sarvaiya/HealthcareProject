{
 "cells": [
  {
   "cell_type": "code",
   "execution_count": 0,
   "metadata": {
    "application/vnd.databricks.v1+cell": {
     "cellMetadata": {
      "byteLimit": 2048000,
      "rowLimit": 10000
     },
     "inputWidgets": {},
     "nuid": "66948528-8df0-4bee-adfe-bb8e1f3498bb",
     "showTitle": false,
     "title": ""
    }
   },
   "outputs": [],
   "source": [
    "import pyspark\n",
    "from pyspark.sql.functions import *"
   ]
  },
  {
   "cell_type": "code",
   "execution_count": 0,
   "metadata": {
    "application/vnd.databricks.v1+cell": {
     "cellMetadata": {
      "byteLimit": 2048000,
      "rowLimit": 10000
     },
     "inputWidgets": {},
     "nuid": "b55223ef-58eb-418a-b0f0-65b55dea544e",
     "showTitle": false,
     "title": ""
    }
   },
   "outputs": [
    {
     "output_type": "execute_result",
     "data": {
      "text/plain": [
       "[SecretScope(name='healthcarescope')]"
      ]
     },
     "execution_count": 3,
     "metadata": {},
     "output_type": "execute_result"
    }
   ],
   "source": [
    "dbutils.secrets.listScopes()"
   ]
  },
  {
   "cell_type": "code",
   "execution_count": 0,
   "metadata": {
    "application/vnd.databricks.v1+cell": {
     "cellMetadata": {
      "byteLimit": 2048000,
      "rowLimit": 10000
     },
     "inputWidgets": {},
     "nuid": "1f3f57dd-1f82-4534-a4fa-7f4d015649c3",
     "showTitle": false,
     "title": ""
    }
   },
   "outputs": [
    {
     "output_type": "execute_result",
     "data": {
      "text/plain": [
       "[SecretMetadata(key='blobaccesskey')]"
      ]
     },
     "execution_count": 4,
     "metadata": {},
     "output_type": "execute_result"
    }
   ],
   "source": [
    "dbutils.secrets.list(scope = 'healthcarescope')"
   ]
  },
  {
   "cell_type": "code",
   "execution_count": 0,
   "metadata": {
    "application/vnd.databricks.v1+cell": {
     "cellMetadata": {
      "byteLimit": 2048000,
      "rowLimit": 10000
     },
     "inputWidgets": {},
     "nuid": "58ffffc4-7253-42f9-b41b-f8ec9cdb177a",
     "showTitle": false,
     "title": ""
    }
   },
   "outputs": [],
   "source": [
    "\n",
    "secret_name = dbutils.secrets.get(scope = \"healthcarescope\", key = \"blobaccesskey\")"
   ]
  },
  {
   "cell_type": "code",
   "execution_count": 0,
   "metadata": {
    "application/vnd.databricks.v1+cell": {
     "cellMetadata": {
      "byteLimit": 2048000,
      "rowLimit": 10000
     },
     "inputWidgets": {},
     "nuid": "d7f6339f-f577-40b9-90de-e4330085af73",
     "showTitle": false,
     "title": ""
    }
   },
   "outputs": [
    {
     "output_type": "stream",
     "name": "stdout",
     "output_type": "stream",
     "text": [
      "[REDACTED]\n"
     ]
    }
   ],
   "source": [
    "print(secret_name)"
   ]
  },
  {
   "cell_type": "code",
   "execution_count": 0,
   "metadata": {
    "application/vnd.databricks.v1+cell": {
     "cellMetadata": {
      "byteLimit": 2048000,
      "rowLimit": 10000
     },
     "inputWidgets": {},
     "nuid": "1a1d4f3b-af91-4cc4-92ce-2b2c30d3a6b7",
     "showTitle": false,
     "title": ""
    }
   },
   "outputs": [],
   "source": [
    "spark.conf.set(\n",
    "    \"fs.azure.account.key.healthcareprojectblob.dfs.core.windows.net\",\n",
    "    dbutils.secrets.get(scope = \"healthcarescope\", key = \"blobaccesskey\"))\n"
   ]
  },
  {
   "cell_type": "code",
   "execution_count": 0,
   "metadata": {
    "application/vnd.databricks.v1+cell": {
     "cellMetadata": {
      "byteLimit": 2048000,
      "rowLimit": 10000
     },
     "inputWidgets": {},
     "nuid": "9de0f959-9e6f-4106-97c0-a304d80cacdc",
     "showTitle": false,
     "title": ""
    }
   },
   "outputs": [
    {
     "output_type": "display_data",
     "data": {
      "text/html": [
       "<style scoped>\n",
       "  .table-result-container {\n",
       "    max-height: 300px;\n",
       "    overflow: auto;\n",
       "  }\n",
       "  table, th, td {\n",
       "    border: 1px solid black;\n",
       "    border-collapse: collapse;\n",
       "  }\n",
       "  th, td {\n",
       "    padding: 5px;\n",
       "  }\n",
       "  th {\n",
       "    text-align: left;\n",
       "  }\n",
       "</style><div class='table-result-container'><table class='table-result'><thead style='background-color: white'><tr><th>path</th><th>name</th><th>size</th><th>modificationTime</th></tr></thead><tbody><tr><td>abfss://rawhealthdata@healthcareprojectblob.dfs.core.windows.net/Patient_records.csv</td><td>Patient_records.csv</td><td>5110</td><td>1725312200000</td></tr><tr><td>abfss://rawhealthdata@healthcareprojectblob.dfs.core.windows.net/claims.csv</td><td>claims.csv</td><td>5766</td><td>1725461306000</td></tr><tr><td>abfss://rawhealthdata@healthcareprojectblob.dfs.core.windows.net/disease.csv</td><td>disease.csv</td><td>1489</td><td>1725312200000</td></tr><tr><td>abfss://rawhealthdata@healthcareprojectblob.dfs.core.windows.net/group.csv</td><td>group.csv</td><td>4390</td><td>1725312200000</td></tr><tr><td>abfss://rawhealthdata@healthcareprojectblob.dfs.core.windows.net/hospital.csv</td><td>hospital.csv</td><td>1328</td><td>1725312200000</td></tr><tr><td>abfss://rawhealthdata@healthcareprojectblob.dfs.core.windows.net/subgroup.csv</td><td>subgroup.csv</td><td>561</td><td>1725312200000</td></tr><tr><td>abfss://rawhealthdata@healthcareprojectblob.dfs.core.windows.net/subscriber.csv</td><td>subscriber.csv</td><td>12061</td><td>1725312201000</td></tr></tbody></table></div>"
      ]
     },
     "metadata": {
      "application/vnd.databricks.v1+output": {
       "addedWidgets": {},
       "aggData": [],
       "aggError": "",
       "aggOverflow": false,
       "aggSchema": [],
       "aggSeriesLimitReached": false,
       "aggType": "",
       "arguments": {},
       "columnCustomDisplayInfos": {},
       "data": [
        [
         "abfss://rawhealthdata@healthcareprojectblob.dfs.core.windows.net/Patient_records.csv",
         "Patient_records.csv",
         5110,
         1725312200000
        ],
        [
         "abfss://rawhealthdata@healthcareprojectblob.dfs.core.windows.net/claims.csv",
         "claims.csv",
         5766,
         1725461306000
        ],
        [
         "abfss://rawhealthdata@healthcareprojectblob.dfs.core.windows.net/disease.csv",
         "disease.csv",
         1489,
         1725312200000
        ],
        [
         "abfss://rawhealthdata@healthcareprojectblob.dfs.core.windows.net/group.csv",
         "group.csv",
         4390,
         1725312200000
        ],
        [
         "abfss://rawhealthdata@healthcareprojectblob.dfs.core.windows.net/hospital.csv",
         "hospital.csv",
         1328,
         1725312200000
        ],
        [
         "abfss://rawhealthdata@healthcareprojectblob.dfs.core.windows.net/subgroup.csv",
         "subgroup.csv",
         561,
         1725312200000
        ],
        [
         "abfss://rawhealthdata@healthcareprojectblob.dfs.core.windows.net/subscriber.csv",
         "subscriber.csv",
         12061,
         1725312201000
        ]
       ],
       "datasetInfos": [],
       "dbfsResultPath": null,
       "isJsonSchema": true,
       "metadata": {},
       "overflow": false,
       "plotOptions": {
        "customPlotOptions": {},
        "displayType": "table",
        "pivotAggregation": null,
        "pivotColumns": null,
        "xColumns": null,
        "yColumns": null
       },
       "removedWidgets": [],
       "schema": [
        {
         "metadata": "{}",
         "name": "path",
         "type": "\"string\""
        },
        {
         "metadata": "{}",
         "name": "name",
         "type": "\"string\""
        },
        {
         "metadata": "{}",
         "name": "size",
         "type": "\"long\""
        },
        {
         "metadata": "{}",
         "name": "modificationTime",
         "type": "\"long\""
        }
       ],
       "type": "table"
      }
     },
     "output_type": "display_data"
    }
   ],
   "source": [
    "display(dbutils.fs.ls(\"abfss://rawhealthdata@healthcareprojectblob.dfs.core.windows.net\"))"
   ]
  },
  {
   "cell_type": "code",
   "execution_count": 0,
   "metadata": {
    "application/vnd.databricks.v1+cell": {
     "cellMetadata": {
      "byteLimit": 2048000,
      "rowLimit": 10000
     },
     "inputWidgets": {},
     "nuid": "b9c45fdf-01ed-46e2-ae62-ac2a4f6b82c6",
     "showTitle": false,
     "title": ""
    }
   },
   "outputs": [],
   "source": [
    "# # Mount the Azure Blob Storage container as a DBFS path\n",
    "# dbutils.fs.mount(\n",
    "#   source=\"wasbs://rawhealthdata@healthcareprojectblob.blob.core.windows.net\",\n",
    "#   mount_point=\"/mnt/rawhealthdata\",\n",
    "#   extra_configs={\n",
    "#     \"fs.azure.account.key.healthcareprojectblob.blob.core.windows.net\": \"0izVsgjt8yavZcTHY3jKLiEiVe0Nu7jqnlYlYXCi3eAF/WsbNH1eY0Cvvd59kRgOIpunsgWDknLx+ASteulWxw==\"\n",
    "#   }\n",
    "# )\n",
    "\n",
    "# # List the files in the mounted DBFS path\n",
    "# dbutils.fs.ls(\"/mnt/rawhealthdata\")"
   ]
  },
  {
   "cell_type": "code",
   "execution_count": 0,
   "metadata": {
    "application/vnd.databricks.v1+cell": {
     "cellMetadata": {
      "byteLimit": 2048000,
      "rowLimit": 10000
     },
     "inputWidgets": {},
     "nuid": "022191f8-37bf-4aa2-bfab-8f930b45ee64",
     "showTitle": false,
     "title": ""
    }
   },
   "outputs": [],
   "source": [
    "# Unmount the Azure Blob Storage container\n",
    "# dbutils.fs.unmount(\"/mnt/rawhealthdata\")"
   ]
  },
  {
   "cell_type": "code",
   "execution_count": 0,
   "metadata": {
    "application/vnd.databricks.v1+cell": {
     "cellMetadata": {
      "byteLimit": 2048000,
      "rowLimit": 10000
     },
     "inputWidgets": {},
     "nuid": "af06c918-1501-4723-993d-96fbf6147c3f",
     "showTitle": false,
     "title": ""
    }
   },
   "outputs": [],
   "source": [
    "data = spark.read.csv(\"abfss://rawhealthdata@healthcareprojectblob.dfs.core.windows.net/disease.csv\", header=True)"
   ]
  },
  {
   "cell_type": "code",
   "execution_count": 0,
   "metadata": {
    "application/vnd.databricks.v1+cell": {
     "cellMetadata": {
      "byteLimit": 2048000,
      "rowLimit": 10000
     },
     "inputWidgets": {},
     "nuid": "138d8930-6bb5-4ed5-ab0c-972e335d2269",
     "showTitle": false,
     "title": ""
    }
   },
   "outputs": [
    {
     "output_type": "display_data",
     "data": {
      "text/html": [
       "<style scoped>\n",
       "  .table-result-container {\n",
       "    max-height: 300px;\n",
       "    overflow: auto;\n",
       "  }\n",
       "  table, th, td {\n",
       "    border: 1px solid black;\n",
       "    border-collapse: collapse;\n",
       "  }\n",
       "  th, td {\n",
       "    padding: 5px;\n",
       "  }\n",
       "  th {\n",
       "    text-align: left;\n",
       "  }\n",
       "</style><div class='table-result-container'><table class='table-result'><thead style='background-color: white'><tr><th>subgrp_id</th><th>disease_id</th><th>disease_name</th></tr></thead><tbody><tr><td>S101</td><td>110001</td><td>Beriberi</td></tr><tr><td>S101</td><td>110002</td><td>Scurvy</td></tr><tr><td>S101</td><td>110003</td><td>Goitre</td></tr><tr><td>S101</td><td>110004</td><td>Osteoporosis</td></tr><tr><td>S101</td><td>110005</td><td>Rickets</td></tr><tr><td>S101</td><td>110006</td><td>Anaemia</td></tr><tr><td>S102</td><td>110007</td><td>Fractures</td></tr><tr><td>S102</td><td>110008</td><td>Heart Attack</td></tr><tr><td>S102</td><td>110009</td><td>Burns</td></tr><tr><td>S102</td><td>110010</td><td>Choking</td></tr><tr><td>S102</td><td>110011</td><td>Stroke</td></tr><tr><td>S102</td><td>110012</td><td>Food Poisoning</td></tr><tr><td>S103</td><td>110013</td><td>Asthma</td></tr><tr><td>S103</td><td>110014</td><td>Glaucoma</td></tr><tr><td>S103</td><td>110015</td><td>Diabetes</td></tr><tr><td>S103</td><td>110016</td><td>Amnesia</td></tr><tr><td>S103</td><td>110017</td><td>Parasomnias</td></tr><tr><td>S103</td><td>110018</td><td>Neurocognitive disorders</td></tr><tr><td>S104</td><td>110019</td><td>Vertigo</td></tr><tr><td>S104</td><td>110020</td><td>Lymphedema</td></tr><tr><td>S104</td><td>110021</td><td>Concussion</td></tr><tr><td>S104</td><td>110022</td><td>Arthritis</td></tr><tr><td>S104</td><td>110023</td><td>Whiplash</td></tr><tr><td>S104</td><td>110024</td><td>Parkinson's disease</td></tr><tr><td>S105</td><td>110025</td><td>Insecy allergy</td></tr><tr><td>S105</td><td>110026</td><td>Mold allergy</td></tr><tr><td>S105</td><td>110027</td><td>Pet allergy</td></tr><tr><td>S105</td><td>110028</td><td>Pollen allergy</td></tr><tr><td>S105</td><td>110029</td><td>Drug allergy</td></tr><tr><td>S105</td><td>110030</td><td>Food allergy</td></tr><tr><td>S106</td><td>110031</td><td>Suicide</td></tr><tr><td>S106</td><td>110032</td><td>Smoking</td></tr><tr><td>S106</td><td>110033</td><td>Sunbathing</td></tr><tr><td>S106</td><td>110034</td><td>Alcohol consumption</td></tr><tr><td>S106</td><td>110035</td><td>Head banging</td></tr><tr><td>S106</td><td>110036</td><td>Drug consumption</td></tr><tr><td>S107</td><td>110037</td><td>Kidney cancer</td></tr><tr><td>S107</td><td>110038</td><td>Colorectal cancer</td></tr><tr><td>S107</td><td>110039</td><td>Bladder cancer</td></tr><tr><td>S107</td><td>110040</td><td>Melanoma</td></tr><tr><td>S107</td><td>110041</td><td>Lung cancer</td></tr><tr><td>S107</td><td>110042</td><td>Breast cancer</td></tr><tr><td>S108</td><td>110043</td><td>Measles</td></tr><tr><td>S108</td><td>110044</td><td>Dengue</td></tr><tr><td>S108</td><td>110045</td><td>Smallpox</td></tr><tr><td>S108</td><td>110046</td><td>Anthrax</td></tr><tr><td>S108</td><td>110047</td><td>Cholera</td></tr><tr><td>S108</td><td>110048</td><td>Malaria</td></tr><tr><td>S109</td><td>110049</td><td>Cystic fibrosis</td></tr><tr><td>S109</td><td>110050</td><td>Fanconi anaemia</td></tr><tr><td>S109</td><td>110051</td><td>Phenylketonuria</td></tr><tr><td>S109</td><td>110052</td><td>Galactosemia</td></tr><tr><td>S109</td><td>110053</td><td>Rett Syndrome</td></tr><tr><td>S109</td><td>110054</td><td>Hemophilia</td></tr><tr><td>S110</td><td>110055</td><td>Hepatitis</td></tr><tr><td>S110</td><td>110056</td><td>Mumps</td></tr><tr><td>S110</td><td>110057</td><td>Pneumonia</td></tr><tr><td>S110</td><td>110058</td><td>Shingles</td></tr><tr><td>S110</td><td>110059</td><td>Flu</td></tr><tr><td>S110</td><td>110060</td><td>Chickenpox</td></tr></tbody></table></div>"
      ]
     },
     "metadata": {
      "application/vnd.databricks.v1+output": {
       "addedWidgets": {},
       "aggData": [],
       "aggError": "",
       "aggOverflow": false,
       "aggSchema": [],
       "aggSeriesLimitReached": false,
       "aggType": "",
       "arguments": {},
       "columnCustomDisplayInfos": {},
       "data": [
        [
         "S101",
         "110001",
         "Beriberi"
        ],
        [
         "S101",
         "110002",
         "Scurvy"
        ],
        [
         "S101",
         "110003",
         "Goitre"
        ],
        [
         "S101",
         "110004",
         "Osteoporosis"
        ],
        [
         "S101",
         "110005",
         "Rickets"
        ],
        [
         "S101",
         "110006",
         "Anaemia"
        ],
        [
         "S102",
         "110007",
         "Fractures"
        ],
        [
         "S102",
         "110008",
         "Heart Attack"
        ],
        [
         "S102",
         "110009",
         "Burns"
        ],
        [
         "S102",
         "110010",
         "Choking"
        ],
        [
         "S102",
         "110011",
         "Stroke"
        ],
        [
         "S102",
         "110012",
         "Food Poisoning"
        ],
        [
         "S103",
         "110013",
         "Asthma"
        ],
        [
         "S103",
         "110014",
         "Glaucoma"
        ],
        [
         "S103",
         "110015",
         "Diabetes"
        ],
        [
         "S103",
         "110016",
         "Amnesia"
        ],
        [
         "S103",
         "110017",
         "Parasomnias"
        ],
        [
         "S103",
         "110018",
         "Neurocognitive disorders"
        ],
        [
         "S104",
         "110019",
         "Vertigo"
        ],
        [
         "S104",
         "110020",
         "Lymphedema"
        ],
        [
         "S104",
         "110021",
         "Concussion"
        ],
        [
         "S104",
         "110022",
         "Arthritis"
        ],
        [
         "S104",
         "110023",
         "Whiplash"
        ],
        [
         "S104",
         "110024",
         "Parkinson's disease"
        ],
        [
         "S105",
         "110025",
         "Insecy allergy"
        ],
        [
         "S105",
         "110026",
         "Mold allergy"
        ],
        [
         "S105",
         "110027",
         "Pet allergy"
        ],
        [
         "S105",
         "110028",
         "Pollen allergy"
        ],
        [
         "S105",
         "110029",
         "Drug allergy"
        ],
        [
         "S105",
         "110030",
         "Food allergy"
        ],
        [
         "S106",
         "110031",
         "Suicide"
        ],
        [
         "S106",
         "110032",
         "Smoking"
        ],
        [
         "S106",
         "110033",
         "Sunbathing"
        ],
        [
         "S106",
         "110034",
         "Alcohol consumption"
        ],
        [
         "S106",
         "110035",
         "Head banging"
        ],
        [
         "S106",
         "110036",
         "Drug consumption"
        ],
        [
         "S107",
         "110037",
         "Kidney cancer"
        ],
        [
         "S107",
         "110038",
         "Colorectal cancer"
        ],
        [
         "S107",
         "110039",
         "Bladder cancer"
        ],
        [
         "S107",
         "110040",
         "Melanoma"
        ],
        [
         "S107",
         "110041",
         "Lung cancer"
        ],
        [
         "S107",
         "110042",
         "Breast cancer"
        ],
        [
         "S108",
         "110043",
         "Measles"
        ],
        [
         "S108",
         "110044",
         "Dengue"
        ],
        [
         "S108",
         "110045",
         "Smallpox"
        ],
        [
         "S108",
         "110046",
         "Anthrax"
        ],
        [
         "S108",
         "110047",
         "Cholera"
        ],
        [
         "S108",
         "110048",
         "Malaria"
        ],
        [
         "S109",
         "110049",
         "Cystic fibrosis"
        ],
        [
         "S109",
         "110050",
         "Fanconi anaemia"
        ],
        [
         "S109",
         "110051",
         "Phenylketonuria"
        ],
        [
         "S109",
         "110052",
         "Galactosemia"
        ],
        [
         "S109",
         "110053",
         "Rett Syndrome"
        ],
        [
         "S109",
         "110054",
         "Hemophilia"
        ],
        [
         "S110",
         "110055",
         "Hepatitis"
        ],
        [
         "S110",
         "110056",
         "Mumps"
        ],
        [
         "S110",
         "110057",
         "Pneumonia"
        ],
        [
         "S110",
         "110058",
         "Shingles"
        ],
        [
         "S110",
         "110059",
         "Flu"
        ],
        [
         "S110",
         "110060",
         "Chickenpox"
        ]
       ],
       "datasetInfos": [],
       "dbfsResultPath": null,
       "isJsonSchema": true,
       "metadata": {},
       "overflow": false,
       "plotOptions": {
        "customPlotOptions": {},
        "displayType": "table",
        "pivotAggregation": null,
        "pivotColumns": null,
        "xColumns": null,
        "yColumns": null
       },
       "removedWidgets": [],
       "schema": [
        {
         "metadata": "{}",
         "name": "subgrp_id",
         "type": "\"string\""
        },
        {
         "metadata": "{}",
         "name": "disease_id",
         "type": "\"string\""
        },
        {
         "metadata": "{}",
         "name": "disease_name",
         "type": "\"string\""
        }
       ],
       "type": "table"
      }
     },
     "output_type": "display_data"
    }
   ],
   "source": [
    "display(data)"
   ]
  },
  {
   "cell_type": "code",
   "execution_count": 0,
   "metadata": {
    "application/vnd.databricks.v1+cell": {
     "cellMetadata": {
      "byteLimit": 2048000,
      "rowLimit": 10000
     },
     "inputWidgets": {},
     "nuid": "2660377e-880f-4c19-8fa6-0741ebe2a2de",
     "showTitle": false,
     "title": ""
    }
   },
   "outputs": [],
   "source": [
    "# to do - patient name, null values/check for duplicates."
   ]
  },
  {
   "cell_type": "code",
   "execution_count": 0,
   "metadata": {
    "application/vnd.databricks.v1+cell": {
     "cellMetadata": {
      "byteLimit": 2048000,
      "rowLimit": 10000
     },
     "inputWidgets": {},
     "nuid": "5ede59fa-9750-418d-9579-d200a3a40fc6",
     "showTitle": false,
     "title": ""
    }
   },
   "outputs": [
    {
     "output_type": "execute_result",
     "data": {
      "text/plain": [
       "['subgrp_id', 'disease_id', 'disease_name']"
      ]
     },
     "execution_count": 14,
     "metadata": {},
     "output_type": "execute_result"
    }
   ],
   "source": [
    "data.columns"
   ]
  },
  {
   "cell_type": "code",
   "execution_count": 0,
   "metadata": {
    "application/vnd.databricks.v1+cell": {
     "cellMetadata": {
      "byteLimit": 2048000,
      "rowLimit": 10000
     },
     "inputWidgets": {},
     "nuid": "d979d720-f165-4b5c-8ece-6e35b3def0b9",
     "showTitle": false,
     "title": ""
    }
   },
   "outputs": [
    {
     "output_type": "stream",
     "name": "stdout",
     "output_type": "stream",
     "text": [
      "+---------+----------+------------+-----+\n|subgrp_id|disease_id|disease_name|count|\n+---------+----------+------------+-----+\n+---------+----------+------------+-----+\n\n"
     ]
    }
   ],
   "source": [
    "data.groupby(['subgrp_id', 'disease_id', 'disease_name']).count().where(\"count > 1\").show(15, False)"
   ]
  },
  {
   "cell_type": "code",
   "execution_count": 0,
   "metadata": {
    "application/vnd.databricks.v1+cell": {
     "cellMetadata": {
      "byteLimit": 2048000,
      "rowLimit": 10000
     },
     "inputWidgets": {},
     "nuid": "00a923e1-e68f-496b-ac64-8ef73a5b7492",
     "showTitle": false,
     "title": ""
    }
   },
   "outputs": [
    {
     "output_type": "stream",
     "name": "stdout",
     "output_type": "stream",
     "text": [
      "+---------+----------+------------+\n|subgrp_id|disease_id|disease_name|\n+---------+----------+------------+\n|        0|         0|           0|\n+---------+----------+------------+\n\n"
     ]
    }
   ],
   "source": [
    "# check null value for all the columns\n",
    "data.select([count(when(isnan(c) | col(c).isNull(), c)).alias(c) for c in data.columns]).show()"
   ]
  },
  {
   "cell_type": "code",
   "execution_count": 0,
   "metadata": {
    "application/vnd.databricks.v1+cell": {
     "cellMetadata": {
      "byteLimit": 2048000,
      "rowLimit": 10000
     },
     "inputWidgets": {},
     "nuid": "a92c2a1d-8b85-49fe-b46d-9ea25dcb5db1",
     "showTitle": false,
     "title": ""
    }
   },
   "outputs": [
    {
     "output_type": "stream",
     "name": "stdout",
     "output_type": "stream",
     "text": [
      "+---------+----------+--------------+\n|subgrp_id|disease_id|  disease_name|\n+---------+----------+--------------+\n|     S107|    110039|Bladder cancer|\n|     S110|    110059|           Flu|\n+---------+----------+--------------+\n\n"
     ]
    }
   ],
   "source": [
    "data.select(\"*\").filter(col(\"disease_name\").isin([\"Flu\", \"Bladder cancer\"])).show() "
   ]
  },
  {
   "cell_type": "code",
   "execution_count": 0,
   "metadata": {
    "application/vnd.databricks.v1+cell": {
     "cellMetadata": {
      "byteLimit": 2048000,
      "rowLimit": 10000
     },
     "inputWidgets": {},
     "nuid": "0e9d3528-87a8-4164-9ab9-5effc75d7f22",
     "showTitle": false,
     "title": ""
    }
   },
   "outputs": [],
   "source": [
    "# # Now we need to write this data into stagging area for the next step.\n",
    "# # boilerplate code (standard code for certain operation)\n",
    "\n",
    "# Define the output staging path\n",
    "output_stagging_path = \"abfss://stagginglayerhealthdata@healthcareprojectblob.dfs.core.windows.net\"\n",
    "\n",
    "# Write the data to the staging area\n",
    "data.coalesce(1).write.mode(\"append\").format(\"com.databricks.spark.csv\").option(\"header\", \"true\").option(\"format\", \"csv\").save(output_stagging_path)\n",
    "\n",
    "# List all files in the output staging path\n",
    "files = dbutils.fs.ls(output_stagging_path)\n",
    "\n",
    "# Identify part files and non-part files\n",
    "part_files = [x for x in files if x.name.startswith(\"part-\")]\n",
    "non_part_files = [x for x in files if x.name.startswith(\"_\")]\n",
    "\n",
    "# Move the part file to the desired location\n",
    "if part_files:\n",
    "    dbutils.fs.mv(part_files[0].path, f\"{output_stagging_path}/diseasestagging.csv\")\n",
    "\n",
    "# Remove non-part files\n",
    "for file in non_part_files:\n",
    "    dbutils.fs.rm(file.path)"
   ]
  }
 ],
 "metadata": {
  "application/vnd.databricks.v1+notebook": {
   "dashboards": [],
   "environmentMetadata": {
    "base_environment": "",
    "client": "1"
   },
   "language": "python",
   "notebookMetadata": {
    "pythonIndentUnit": 4
   },
   "notebookName": "disease_Transformations",
   "widgets": {}
  }
 },
 "nbformat": 4,
 "nbformat_minor": 0
}
