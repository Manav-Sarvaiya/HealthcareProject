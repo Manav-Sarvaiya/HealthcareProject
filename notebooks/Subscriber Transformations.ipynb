{
 "cells": [
  {
   "cell_type": "code",
   "execution_count": 0,
   "metadata": {
    "application/vnd.databricks.v1+cell": {
     "cellMetadata": {
      "byteLimit": 2048000,
      "rowLimit": 10000
     },
     "inputWidgets": {},
     "nuid": "66948528-8df0-4bee-adfe-bb8e1f3498bb",
     "showTitle": false,
     "title": ""
    }
   },
   "outputs": [],
   "source": [
    "import pyspark\n",
    "from pyspark.sql.functions import *"
   ]
  },
  {
   "cell_type": "code",
   "execution_count": 0,
   "metadata": {
    "application/vnd.databricks.v1+cell": {
     "cellMetadata": {
      "byteLimit": 2048000,
      "rowLimit": 10000
     },
     "inputWidgets": {},
     "nuid": "b55223ef-58eb-418a-b0f0-65b55dea544e",
     "showTitle": false,
     "title": ""
    }
   },
   "outputs": [
    {
     "output_type": "execute_result",
     "data": {
      "text/plain": [
       "[SecretScope(name='healthcarescope')]"
      ]
     },
     "execution_count": 2,
     "metadata": {},
     "output_type": "execute_result"
    }
   ],
   "source": [
    "dbutils.secrets.listScopes()"
   ]
  },
  {
   "cell_type": "code",
   "execution_count": 0,
   "metadata": {
    "application/vnd.databricks.v1+cell": {
     "cellMetadata": {
      "byteLimit": 2048000,
      "rowLimit": 10000
     },
     "inputWidgets": {},
     "nuid": "1f3f57dd-1f82-4534-a4fa-7f4d015649c3",
     "showTitle": false,
     "title": ""
    }
   },
   "outputs": [
    {
     "output_type": "execute_result",
     "data": {
      "text/plain": [
       "[SecretMetadata(key='blobaccesskey')]"
      ]
     },
     "execution_count": 3,
     "metadata": {},
     "output_type": "execute_result"
    }
   ],
   "source": [
    "dbutils.secrets.list(scope = 'healthcarescope')"
   ]
  },
  {
   "cell_type": "code",
   "execution_count": 0,
   "metadata": {
    "application/vnd.databricks.v1+cell": {
     "cellMetadata": {
      "byteLimit": 2048000,
      "rowLimit": 10000
     },
     "inputWidgets": {},
     "nuid": "58ffffc4-7253-42f9-b41b-f8ec9cdb177a",
     "showTitle": false,
     "title": ""
    }
   },
   "outputs": [],
   "source": [
    "\n",
    "secret_name = dbutils.secrets.get(scope = \"healthcarescope\", key = \"blobaccesskey\")"
   ]
  },
  {
   "cell_type": "code",
   "execution_count": 0,
   "metadata": {
    "application/vnd.databricks.v1+cell": {
     "cellMetadata": {
      "byteLimit": 2048000,
      "rowLimit": 10000
     },
     "inputWidgets": {},
     "nuid": "d7f6339f-f577-40b9-90de-e4330085af73",
     "showTitle": false,
     "title": ""
    }
   },
   "outputs": [
    {
     "output_type": "stream",
     "name": "stdout",
     "output_type": "stream",
     "text": [
      "[REDACTED]\n"
     ]
    }
   ],
   "source": [
    "print(secret_name)"
   ]
  },
  {
   "cell_type": "code",
   "execution_count": 0,
   "metadata": {
    "application/vnd.databricks.v1+cell": {
     "cellMetadata": {
      "byteLimit": 2048000,
      "rowLimit": 10000
     },
     "inputWidgets": {},
     "nuid": "1a1d4f3b-af91-4cc4-92ce-2b2c30d3a6b7",
     "showTitle": false,
     "title": ""
    }
   },
   "outputs": [],
   "source": [
    "spark.conf.set(\n",
    "    \"fs.azure.account.key.healthcareprojectblob.dfs.core.windows.net\",\n",
    "    dbutils.secrets.get(scope = \"healthcarescope\", key = \"blobaccesskey\"))\n"
   ]
  },
  {
   "cell_type": "code",
   "execution_count": 0,
   "metadata": {
    "application/vnd.databricks.v1+cell": {
     "cellMetadata": {
      "byteLimit": 2048000,
      "rowLimit": 10000
     },
     "inputWidgets": {},
     "nuid": "9de0f959-9e6f-4106-97c0-a304d80cacdc",
     "showTitle": false,
     "title": ""
    }
   },
   "outputs": [
    {
     "output_type": "display_data",
     "data": {
      "text/html": [
       "<style scoped>\n",
       "  .table-result-container {\n",
       "    max-height: 300px;\n",
       "    overflow: auto;\n",
       "  }\n",
       "  table, th, td {\n",
       "    border: 1px solid black;\n",
       "    border-collapse: collapse;\n",
       "  }\n",
       "  th, td {\n",
       "    padding: 5px;\n",
       "  }\n",
       "  th {\n",
       "    text-align: left;\n",
       "  }\n",
       "</style><div class='table-result-container'><table class='table-result'><thead style='background-color: white'><tr><th>path</th><th>name</th><th>size</th><th>modificationTime</th></tr></thead><tbody><tr><td>abfss://rawhealthdata@healthcareprojectblob.dfs.core.windows.net/Patient_records.csv</td><td>Patient_records.csv</td><td>5110</td><td>1725312200000</td></tr><tr><td>abfss://rawhealthdata@healthcareprojectblob.dfs.core.windows.net/claims.csv</td><td>claims.csv</td><td>5766</td><td>1725981443000</td></tr><tr><td>abfss://rawhealthdata@healthcareprojectblob.dfs.core.windows.net/disease.csv</td><td>disease.csv</td><td>1489</td><td>1725312200000</td></tr><tr><td>abfss://rawhealthdata@healthcareprojectblob.dfs.core.windows.net/group.csv</td><td>group.csv</td><td>4390</td><td>1725312200000</td></tr><tr><td>abfss://rawhealthdata@healthcareprojectblob.dfs.core.windows.net/hospital.csv</td><td>hospital.csv</td><td>1328</td><td>1725312200000</td></tr><tr><td>abfss://rawhealthdata@healthcareprojectblob.dfs.core.windows.net/subgroup.csv</td><td>subgroup.csv</td><td>561</td><td>1725312200000</td></tr><tr><td>abfss://rawhealthdata@healthcareprojectblob.dfs.core.windows.net/subscriber.csv</td><td>subscriber.csv</td><td>12061</td><td>1725312201000</td></tr></tbody></table></div>"
      ]
     },
     "metadata": {
      "application/vnd.databricks.v1+output": {
       "addedWidgets": {},
       "aggData": [],
       "aggError": "",
       "aggOverflow": false,
       "aggSchema": [],
       "aggSeriesLimitReached": false,
       "aggType": "",
       "arguments": {},
       "columnCustomDisplayInfos": {},
       "data": [
        [
         "abfss://rawhealthdata@healthcareprojectblob.dfs.core.windows.net/Patient_records.csv",
         "Patient_records.csv",
         5110,
         1725312200000
        ],
        [
         "abfss://rawhealthdata@healthcareprojectblob.dfs.core.windows.net/claims.csv",
         "claims.csv",
         5766,
         1725981443000
        ],
        [
         "abfss://rawhealthdata@healthcareprojectblob.dfs.core.windows.net/disease.csv",
         "disease.csv",
         1489,
         1725312200000
        ],
        [
         "abfss://rawhealthdata@healthcareprojectblob.dfs.core.windows.net/group.csv",
         "group.csv",
         4390,
         1725312200000
        ],
        [
         "abfss://rawhealthdata@healthcareprojectblob.dfs.core.windows.net/hospital.csv",
         "hospital.csv",
         1328,
         1725312200000
        ],
        [
         "abfss://rawhealthdata@healthcareprojectblob.dfs.core.windows.net/subgroup.csv",
         "subgroup.csv",
         561,
         1725312200000
        ],
        [
         "abfss://rawhealthdata@healthcareprojectblob.dfs.core.windows.net/subscriber.csv",
         "subscriber.csv",
         12061,
         1725312201000
        ]
       ],
       "datasetInfos": [],
       "dbfsResultPath": null,
       "isJsonSchema": true,
       "metadata": {},
       "overflow": false,
       "plotOptions": {
        "customPlotOptions": {},
        "displayType": "table",
        "pivotAggregation": null,
        "pivotColumns": null,
        "xColumns": null,
        "yColumns": null
       },
       "removedWidgets": [],
       "schema": [
        {
         "metadata": "{}",
         "name": "path",
         "type": "\"string\""
        },
        {
         "metadata": "{}",
         "name": "name",
         "type": "\"string\""
        },
        {
         "metadata": "{}",
         "name": "size",
         "type": "\"long\""
        },
        {
         "metadata": "{}",
         "name": "modificationTime",
         "type": "\"long\""
        }
       ],
       "type": "table"
      }
     },
     "output_type": "display_data"
    }
   ],
   "source": [
    "display(dbutils.fs.ls(\"abfss://rawhealthdata@healthcareprojectblob.dfs.core.windows.net\"))"
   ]
  },
  {
   "cell_type": "code",
   "execution_count": 0,
   "metadata": {
    "application/vnd.databricks.v1+cell": {
     "cellMetadata": {
      "byteLimit": 2048000,
      "rowLimit": 10000
     },
     "inputWidgets": {},
     "nuid": "b9c45fdf-01ed-46e2-ae62-ac2a4f6b82c6",
     "showTitle": false,
     "title": ""
    }
   },
   "outputs": [],
   "source": [
    "# # Mount the Azure Blob Storage container as a DBFS path\n",
    "# dbutils.fs.mount(\n",
    "#   source=\"wasbs://rawhealthdata@healthcareprojectblob.blob.core.windows.net\",\n",
    "#   mount_point=\"/mnt/rawhealthdata\",\n",
    "#   extra_configs={\n",
    "#     \"fs.azure.account.key.healthcareprojectblob.blob.core.windows.net\": \"0izVsgjt8yavZcTHY3jKLiEiVe0Nu7jqnlYlYXCi3eAF/WsbNH1eY0Cvvd59kRgOIpunsgWDknLx+ASteulWxw==\"\n",
    "#   }\n",
    "# )\n",
    "\n",
    "# # List the files in the mounted DBFS path\n",
    "# dbutils.fs.ls(\"/mnt/rawhealthdata\")"
   ]
  },
  {
   "cell_type": "code",
   "execution_count": 0,
   "metadata": {
    "application/vnd.databricks.v1+cell": {
     "cellMetadata": {
      "byteLimit": 2048000,
      "rowLimit": 10000
     },
     "inputWidgets": {},
     "nuid": "022191f8-37bf-4aa2-bfab-8f930b45ee64",
     "showTitle": false,
     "title": ""
    }
   },
   "outputs": [],
   "source": [
    "# Unmount the Azure Blob Storage container\n",
    "# dbutils.fs.unmount(\"/mnt/rawhealthdata\")"
   ]
  },
  {
   "cell_type": "code",
   "execution_count": 0,
   "metadata": {
    "application/vnd.databricks.v1+cell": {
     "cellMetadata": {
      "byteLimit": 2048000,
      "rowLimit": 10000
     },
     "inputWidgets": {},
     "nuid": "af06c918-1501-4723-993d-96fbf6147c3f",
     "showTitle": false,
     "title": ""
    }
   },
   "outputs": [],
   "source": [
    "data = spark.read.csv(\"abfss://rawhealthdata@healthcareprojectblob.dfs.core.windows.net/subscriber.csv\", header=True, inferSchema=True)"
   ]
  },
  {
   "cell_type": "code",
   "execution_count": 0,
   "metadata": {
    "application/vnd.databricks.v1+cell": {
     "cellMetadata": {
      "byteLimit": 2048000,
      "rowLimit": 10000
     },
     "inputWidgets": {},
     "nuid": "138d8930-6bb5-4ed5-ab0c-972e335d2269",
     "showTitle": false,
     "title": ""
    }
   },
   "outputs": [
    {
     "output_type": "display_data",
     "data": {
      "text/html": [
       "<style scoped>\n",
       "  .table-result-container {\n",
       "    max-height: 300px;\n",
       "    overflow: auto;\n",
       "  }\n",
       "  table, th, td {\n",
       "    border: 1px solid black;\n",
       "    border-collapse: collapse;\n",
       "  }\n",
       "  th, td {\n",
       "    padding: 5px;\n",
       "  }\n",
       "  th {\n",
       "    text-align: left;\n",
       "  }\n",
       "</style><div class='table-result-container'><table class='table-result'><thead style='background-color: white'><tr><th>sub_id</th><th>first_name</th><th>last_name</th><th>Street</th><th>Birth_date</th><th>Gender</th><th>Phone</th><th>Country</th><th>City</th><th>Zip Code</th><th>Subgrp_id</th><th>Elig_ind</th><th>eff_date</th><th>term_date</th></tr></thead><tbody><tr><td>SUBID10000</td><td>Harbir</td><td>Vishwakarma</td><td>Baria Marg</td><td>1924-06-30</td><td>Female</td><td>+91 0112009318</td><td>India</td><td>Rourkela</td><td>767058</td><td>S107</td><td>Y</td><td>1944-06-30</td><td>1954-01-14</td></tr><tr><td>SUBID10001</td><td>Brahmdev</td><td>Sonkar</td><td>Lala Marg</td><td>1948-12-20</td><td>Female</td><td>+91 1727749552</td><td>India</td><td>Tiruvottiyur</td><td>34639</td><td>S105</td><td>Y</td><td>1968-12-20</td><td>1970-05-16</td></tr><tr><td>SUBID10002</td><td>Ujjawal</td><td>Devi</td><td>Mammen Zila</td><td>1980-04-16</td><td>Male</td><td>+91 8547451606</td><td>India</td><td>Berhampur</td><td>914455</td><td>S106</td><td>N</td><td>2000-04-16</td><td>2008-05-04</td></tr><tr><td>SUBID10003</td><td>Ballari</td><td>Mishra</td><td>Sahni Zila</td><td>1969-09-25</td><td>Female</td><td>+91 0106026841</td><td>India</td><td>Bihar Sharif</td><td>91481</td><td>S104</td><td>N</td><td>1989-09-25</td><td>1995-06-05</td></tr><tr><td>SUBID10004</td><td>Devnath</td><td>Srivastav</td><td>Magar Zila</td><td>1946-05-01</td><td>Female</td><td>+91 1868774631</td><td>India</td><td>Bidhannagar</td><td>531742</td><td>S110</td><td>N</td><td>1966-05-01</td><td>1970-12-09</td></tr><tr><td>SUBID10005</td><td>Atasi</td><td>Seth</td><td>Khatri Nagar</td><td>1967-10-02</td><td>Male</td><td>+91 9747336855</td><td>India</td><td>Amravati</td><td>229062</td><td>S104</td><td>Y</td><td>1987-10-02</td><td>1995-02-13</td></tr><tr><td>SUBID1006</td><td>Manish</td><td>Maurya</td><td>Swaminathan Chowk</td><td>1967-06-06</td><td>Male</td><td>+91 4354294043</td><td>India</td><td>Panvel</td><td>438733</td><td>S109</td><td>null</td><td>1987-06-06</td><td>1995-03-21</td></tr><tr><td>SUBID10007</td><td>Aakar</td><td>Yadav</td><td>Swamy</td><td>1925-03-05</td><td>Female</td><td>+91 2777633911</td><td>India</td><td>Bihar Sharif</td><td>535907</td><td>S104</td><td>N</td><td>1945-03-05</td><td>1946-11-07</td></tr><tr><td>SUBID10008</td><td>Gurudas</td><td>Gupta</td><td>Sarin Nagar</td><td>1945-05-06</td><td>Male</td><td>+91 1232859381</td><td>India</td><td>Kamarhati</td><td>933226</td><td>S103</td><td>Y</td><td>1965-05-06</td><td>1970-09-16</td></tr><tr><td>SUBID10009</td><td>null</td><td>Gupta</td><td>Thakur Circle</td><td>1925-06-12</td><td>Male</td><td>+91 1780763280</td><td>India</td><td>Bangalore</td><td>957469</td><td>S105</td><td>Y</td><td>1945-06-12</td><td>1953-08-30</td></tr><tr><td>SUBID1010</td><td>null</td><td>Divedi</td><td>Dhillon</td><td>1976-02-03</td><td>Male</td><td>+91 5586075345</td><td>India</td><td>Rajkot</td><td>911319</td><td>S102</td><td>Y</td><td>1996-02-03</td><td>2002-01-27</td></tr><tr><td>SUBID10011</td><td>null</td><td>Vishwakarma</td><td>Rajagopalan</td><td>1955-01-22</td><td>Female</td><td>+91 4146391938</td><td>India</td><td>Ghaziabad</td><td>337042</td><td>S106</td><td>N</td><td>1975-01-22</td><td>1978-11-02</td></tr><tr><td>SUBID10012</td><td>Dharmadaas</td><td>Tiwari</td><td>Rama</td><td>1964-04-29</td><td>Male</td><td>+91 6345482027</td><td>India</td><td>Bhalswa Jahangir Pur</td><td>430793</td><td>S103</td><td>N</td><td>1984-04-29</td><td>1988-02-07</td></tr><tr><td>SUBID10013</td><td>Brahmvir</td><td>Rai</td><td>Shah Path</td><td>1991-11-11</td><td>Male</td><td>+91 7316972612</td><td>India</td><td>Ambala</td><td>249898</td><td>S106</td><td>N</td><td>2011-11-11</td><td>2020-05-23</td></tr><tr><td>SUBID10014</td><td>null</td><td>Srivastav</td><td>Chandra Path</td><td>1981-01-25</td><td>Female</td><td>+91 2960004518</td><td>India</td><td>Surendranagar Dudhrej</td><td>111966</td><td>S102</td><td>N</td><td>2001-01-25</td><td>2005-07-13</td></tr><tr><td>SUBID10015</td><td>Bhagvan</td><td>Srivastav</td><td>Edwin</td><td>1966-07-24</td><td>Female</td><td>+91 0297693485</td><td>India</td><td>Bhimavaram</td><td>436513</td><td>S105</td><td>Y</td><td>1986-07-24</td><td>1988-02-04</td></tr><tr><td>SUBID10016</td><td>Amritkala</td><td>Srivastav</td><td>Guha Path</td><td>1933-11-20</td><td>Female</td><td>+91 0537157280</td><td>India</td><td>Meerut</td><td>863467</td><td>S106</td><td>Y</td><td>1953-11-20</td><td>1955-07-29</td></tr><tr><td>SUBID10017</td><td>Bandhu</td><td>Seth</td><td>Varughese</td><td>1996-10-15</td><td>Male</td><td>+91 0695289163</td><td>India</td><td>Chinsurah</td><td>136713</td><td>S108</td><td>N</td><td>2016-10-15</td><td>2018-06-08</td></tr><tr><td>SUBID10018</td><td>Bhagavaana</td><td>Kumar</td><td>Kulkarni Zila</td><td>1935-09-16</td><td>Female</td><td>+91 6071745855</td><td>India</td><td>Shahjahanpur</td><td>597276</td><td>S101</td><td>N</td><td>1955-09-16</td><td>1958-05-31</td></tr><tr><td>SUBID10019</td><td>null</td><td>Maurya</td><td>Sharaf Nagar</td><td>1924-11-09</td><td>Female</td><td>+91 8906694405</td><td>India</td><td>Jabalpur</td><td>958538</td><td>S104</td><td>N</td><td>1944-11-09</td><td>1951-10-14</td></tr><tr><td>SUBID1020</td><td>Umang</td><td>Srivastav</td><td>Balay Chowk</td><td>1963-07-14</td><td>Female</td><td>+91 9485838770</td><td>India</td><td>Haridwar</td><td>181692</td><td>S109</td><td>Y</td><td>1983-07-14</td><td>1986-01-15</td></tr><tr><td>SUBID1021</td><td>Darsana</td><td>Yadav</td><td>Upadhyay Zila</td><td>1932-05-29</td><td>Male</td><td>+91 7676311811</td><td>India</td><td>Dibrugarh</td><td>187414</td><td>S109</td><td>Y</td><td>1952-05-29</td><td>1953-10-14</td></tr><tr><td>SUBID10022</td><td>Prakash</td><td>Rao</td><td>Sachar</td><td>1923-09-15</td><td>Female</td><td>+91 9268324471</td><td>India</td><td>Kottayam</td><td>180680</td><td>null</td><td>N</td><td>1943-09-15</td><td>1948-10-19</td></tr><tr><td>SUBID10023</td><td>Vaijayanti</td><td>Pratap</td><td>Khalsa Nagar</td><td>1920-11-13</td><td>Male</td><td>+91 9358851649</td><td>India</td><td>Mira-Bhayandar</td><td>419190</td><td>S102</td><td>Y</td><td>1940-11-13</td><td>1946-03-10</td></tr><tr><td>SUBID10024</td><td>Menakshi</td><td>Seth</td><td>Wable Street</td><td>1987-03-06</td><td>Male</td><td>+91 0531676556</td><td>India</td><td>Kamarhati</td><td>882577</td><td>S107</td><td>N</td><td>2007-03-06</td><td>2014-02-25</td></tr><tr><td>SUBID10025</td><td>null</td><td>Tiwari</td><td>Sha Chowk</td><td>1955-12-24</td><td>Male</td><td>+91 2416747182</td><td>India</td><td>Karimnagar</td><td>567762</td><td>S106</td><td>N</td><td>1975-12-24</td><td>1983-02-03</td></tr><tr><td>SUBID10026</td><td>Ekant</td><td>Sonkar</td><td>Walla Road</td><td>1943-08-13</td><td>Male</td><td>+91 7686951174</td><td>India</td><td>Berhampore</td><td>948589</td><td>S110</td><td>Y</td><td>1963-08-13</td><td>1967-05-29</td></tr><tr><td>SUBID10027</td><td>Chancharik</td><td>Pandey</td><td>Karan Ganj</td><td>1983-09-05</td><td>Male</td><td>+91 5309364825</td><td>India</td><td>Chapra</td><td>154667</td><td>S109</td><td>N</td><td>2003-09-05</td><td>2011-06-12</td></tr><tr><td>SUBID10028</td><td>Pushti</td><td>Pandit</td><td>Deol Path</td><td>1935-10-15</td><td>Female</td><td>+91 7093722203</td><td>India</td><td>Morbi</td><td>284168</td><td>S106</td><td>N</td><td>1955-10-15</td><td>1959-06-04</td></tr><tr><td>SUBID10029</td><td>Swati</td><td>Seth</td><td>Kant Marg</td><td>1987-12-11</td><td>Female</td><td>+91 1028477510</td><td>India</td><td>Amravati</td><td>932221</td><td>S102</td><td>N</td><td>2007-12-11</td><td>2011-10-17</td></tr><tr><td>SUBID1030</td><td>Upasana</td><td>Pandey</td><td>Seth Chowk</td><td>1956-06-01</td><td>Male</td><td>+91 0548234943</td><td>India</td><td>Hyderabad</td><td>234823</td><td>S102</td><td>N</td><td>1976-06-01</td><td>1981-02-14</td></tr><tr><td>SUBID10031</td><td>Kanhaiya</td><td>Lal</td><td>Savant Nagar</td><td>1954-10-19</td><td>Female</td><td>+91 0788738026</td><td>India</td><td>Mysore</td><td>638433</td><td>S104</td><td>Y</td><td>1974-10-19</td><td>1977-01-03</td></tr><tr><td>SUBID1032</td><td>null</td><td>Seth</td><td>Sandhu Chowk</td><td>1968-07-02</td><td>Female</td><td>+91 2599794460</td><td>India</td><td>Gwalior</td><td>611826</td><td>S110</td><td>N</td><td>1988-07-02</td><td>1991-03-14</td></tr><tr><td>SUBID10033</td><td>Gensho</td><td>Srivastav</td><td>Korpal Ganj</td><td>1992-06-06</td><td>Male</td><td>+91 4834040556</td><td>India</td><td>Ludhiana</td><td>835018</td><td>S101</td><td>N</td><td>2012-06-06</td><td>2022-01-09</td></tr><tr><td>SUBID1034</td><td>Gopal</td><td>Das</td><td>Saini</td><td>1986-05-14</td><td>Male</td><td>+91 1181471524</td><td>India</td><td>Raebareli</td><td>176221</td><td>S101</td><td>N</td><td>2006-05-14</td><td>2011-04-08</td></tr><tr><td>SUBID10035</td><td>Dheeman</td><td>Tiwari</td><td>Dube Marg</td><td>1945-05-04</td><td>Male</td><td>+91 8239321466</td><td>India</td><td>Mysore</td><td>811970</td><td>S101</td><td>Y</td><td>1965-05-04</td><td>1973-11-13</td></tr><tr><td>SUBID1036</td><td>Upasana</td><td>Thakur</td><td>Vasa Ganj</td><td>1927-10-03</td><td>Female</td><td>null</td><td>India</td><td>Ratlam</td><td>326733</td><td>S108</td><td>N</td><td>1947-10-03</td><td>1951-02-20</td></tr><tr><td>SUBID1037</td><td>null</td><td>Rajput</td><td>Shere Chowk</td><td>1948-11-10</td><td>Male</td><td>+91 8390195092</td><td>India</td><td>Vadodara</td><td>877443</td><td>S101</td><td>Y</td><td>1968-11-10</td><td>1973-12-25</td></tr><tr><td>SUBID1038</td><td>null</td><td>Thakur</td><td>Rastogi Street</td><td>1955-04-07</td><td>Female</td><td>+91 7434031446</td><td>India</td><td>Vijayawada</td><td>438940</td><td>S104</td><td>null</td><td>1975-04-07</td><td>1982-01-25</td></tr><tr><td>SUBID10039</td><td>Madhubala</td><td>Yadav</td><td>Sangha Marg</td><td>1937-01-11</td><td>Male</td><td>+91 8498685882</td><td>India</td><td>Jaunpur</td><td>624102</td><td>S104</td><td>Y</td><td>1957-01-11</td><td>1965-10-09</td></tr><tr><td>SUBID10040</td><td>Anjushree</td><td>Pandey</td><td>Vora Ganj</td><td>1976-07-04</td><td>Male</td><td>+91 5322869455</td><td>India</td><td>Ghaziabad</td><td>782221</td><td>S105</td><td>N</td><td>1996-07-04</td><td>1999-02-17</td></tr><tr><td>SUBID1041</td><td>null</td><td>Rajput</td><td>Sinha Path</td><td>1930-11-25</td><td>Female</td><td>null</td><td>India</td><td>Agartala</td><td>303503</td><td>S110</td><td>Y</td><td>1950-11-25</td><td>1957-09-14</td></tr><tr><td>SUBID10042</td><td>Chakrika</td><td>Sonkar</td><td>Bansal Circle</td><td>1964-08-05</td><td>Male</td><td>+91 8185162879</td><td>India</td><td>Ranchi</td><td>503290</td><td>S108</td><td>Y</td><td>1984-08-05</td><td>1992-09-09</td></tr><tr><td>SUBID1043</td><td>Saroj</td><td>Pandit</td><td>Sathe Zila</td><td>1942-08-26</td><td>Female</td><td>+91 5690408243</td><td>India</td><td>Muzaffarpur</td><td>130486</td><td>S103</td><td>Y</td><td>1962-08-26</td><td>1964-08-29</td></tr><tr><td>SUBID1044</td><td>Ayushmati</td><td>Vishwakarma</td><td>Balakrishnan Street</td><td>1932-09-20</td><td>Male</td><td>+91 3683223970</td><td>India</td><td>Satna</td><td>131247</td><td>S108</td><td>N</td><td>1952-09-20</td><td>1961-01-24</td></tr><tr><td>SUBID1045</td><td>Drashti</td><td>Divedi</td><td>Wadhwa</td><td>1926-07-03</td><td>Male</td><td>+91 9447269993</td><td>India</td><td>Saharsa</td><td>581568</td><td>S104</td><td>Y</td><td>1946-07-03</td><td>1952-11-27</td></tr><tr><td>SUBID10046</td><td>Aayushmaan</td><td>Maurya</td><td>Johal Nagar</td><td>1983-11-14</td><td>Female</td><td>+91 4464709769</td><td>India</td><td>Mehsana</td><td>987281</td><td>S104</td><td>Y</td><td>2003-11-14</td><td>2012-10-22</td></tr><tr><td>SUBID1047</td><td>null</td><td>Rai</td><td>Sagar Chowk</td><td>1931-02-04</td><td>Male</td><td>+91 2973105946</td><td>India</td><td>Shivpuri</td><td>794170</td><td>S109</td><td>Y</td><td>1951-02-04</td><td>1955-07-14</td></tr><tr><td>SUBID10048</td><td>Chitranjan</td><td>Mishra</td><td>Madan Nagar</td><td>1925-09-09</td><td>Female</td><td>+91 5176024720</td><td>India</td><td>Morbi</td><td>945697</td><td>S108</td><td>N</td><td>1945-09-09</td><td>1952-06-21</td></tr><tr><td>SUBID10049</td><td>Paridhi</td><td>Yadav</td><td>Sant Path</td><td>1959-03-27</td><td>Female</td><td>+91 2139280879</td><td>India</td><td>Jabalpur</td><td>883754</td><td>null</td><td>N</td><td>1979-03-27</td><td>1985-06-01</td></tr><tr><td>SUBID10050</td><td>Deependu</td><td>Gupta</td><td>Banik Ganj</td><td>1952-02-13</td><td>Female</td><td>+91 5674176644</td><td>India</td><td>Bareilly</td><td>417855</td><td>S102</td><td>Y</td><td>1972-02-13</td><td>1976-08-23</td></tr><tr><td>SUBID10051</td><td>null</td><td>Rajput</td><td>Chauhan Chowk</td><td>1946-10-17</td><td>Male</td><td>+91 9887324437</td><td>India</td><td>Baranagar</td><td>765234</td><td>S103</td><td>Y</td><td>1966-10-17</td><td>1969-06-26</td></tr><tr><td>SUBID10052</td><td>Laksman</td><td>Rao</td><td>Sood Marg</td><td>1939-05-26</td><td>Female</td><td>+91 4504120828</td><td>India</td><td>Ahmednagar</td><td>117923</td><td>S101</td><td>Y</td><td>1959-05-26</td><td>1960-11-07</td></tr><tr><td>SUBID10053</td><td>null</td><td>Sonkar</td><td>Shetty Marg</td><td>1988-06-27</td><td>Male</td><td>+91 6877897646</td><td>India</td><td>Pali</td><td>383290</td><td>S102</td><td>Y</td><td>2008-06-27</td><td>2016-10-30</td></tr><tr><td>SUBID10054</td><td>Shivakari</td><td>Pratap</td><td>Dugar Road</td><td>1944-11-02</td><td>Female</td><td>+91 3740484063</td><td>India</td><td>Hapur</td><td>28202</td><td>S104</td><td>N</td><td>1964-11-02</td><td>1967-06-15</td></tr><tr><td>SUBID10055</td><td>Madhu</td><td>Thakur</td><td>Sule Marg</td><td>1984-10-23</td><td>Male</td><td>+91 8367885507</td><td>India</td><td>Udaipur</td><td>565423</td><td>S107</td><td>N</td><td>2004-10-23</td><td>2008-07-10</td></tr><tr><td>SUBID10056</td><td>Chanak</td><td>Gupta</td><td>Shetty Nagar</td><td>1954-08-27</td><td>Male</td><td>+91 5093121123</td><td>India</td><td>Jalandhar</td><td>602989</td><td>S105</td><td>N</td><td>1974-08-27</td><td>1982-06-15</td></tr><tr><td>SUBID10057</td><td>Chittesh</td><td>Pandey</td><td>Mangal Chowk</td><td>1949-10-17</td><td>Male</td><td>+91 1378163498</td><td>India</td><td>Thoothukudi</td><td>666415</td><td>S109</td><td>Y</td><td>1969-10-17</td><td>1975-10-08</td></tr><tr><td>SUBID1058</td><td>Nawal</td><td>Rajput</td><td>Deol Nagar</td><td>1940-01-22</td><td>Male</td><td>+91 1885105576</td><td>India</td><td>Bhopal</td><td>791168</td><td>S106</td><td>N</td><td>1960-01-22</td><td>1969-04-18</td></tr><tr><td>SUBID10059</td><td>Gajabahu</td><td>Singh</td><td>Kara</td><td>1959-03-15</td><td>Male</td><td>+91 1207869436</td><td>India</td><td>Udupi</td><td>637221</td><td>S101</td><td>Y</td><td>1979-03-15</td><td>1986-07-05</td></tr><tr><td>SUBID10060</td><td>Jitesh</td><td>Vishwakarma</td><td>Gopal Path</td><td>1983-02-03</td><td>Male</td><td>+91 6515468035</td><td>India</td><td>Karimnagar</td><td>124564</td><td>S110</td><td>Y</td><td>2003-02-03</td><td>2008-04-30</td></tr><tr><td>SUBID10061</td><td>null</td><td>Rajput</td><td>Anand Path</td><td>1966-09-25</td><td>Female</td><td>+91 6477918745</td><td>India</td><td>Kharagpur</td><td>934938</td><td>S103</td><td>null</td><td>1986-09-25</td><td>1991-06-03</td></tr><tr><td>SUBID1062</td><td>Lalit</td><td>Mishra</td><td>Comar Street</td><td>1924-02-15</td><td>Female</td><td>+91 4647833992</td><td>India</td><td>Tinsukia</td><td>963770</td><td>S103</td><td>N</td><td>1944-02-15</td><td>1947-09-28</td></tr><tr><td>SUBID1063</td><td>Anshuk</td><td>Srivastav</td><td>Sridhar Path</td><td>1991-06-17</td><td>Male</td><td>+91 9764690642</td><td>India</td><td>Uluberia</td><td>270985</td><td>S105</td><td>N</td><td>2011-06-17</td><td>2014-07-11</td></tr><tr><td>SUBID10064</td><td>null</td><td>Pandey</td><td>Mangat Path</td><td>1994-01-13</td><td>Male</td><td>+91 8444537013</td><td>India</td><td>Panihati</td><td>643791</td><td>S110</td><td>N</td><td>2014-01-13</td><td>2019-02-24</td></tr><tr><td>SUBID1065</td><td>Dipesh</td><td>Mishra</td><td>Char Path</td><td>1949-04-01</td><td>Female</td><td>+91 5851958964</td><td>India</td><td>Kochi</td><td>31269</td><td>S103</td><td>Y</td><td>1969-04-01</td><td>1970-06-02</td></tr><tr><td>SUBID10066</td><td>null</td><td>Seth</td><td>Chaudhuri Marg</td><td>1930-09-01</td><td>Male</td><td>+91 7061843400</td><td>India</td><td>Kolhapur</td><td>597470</td><td>S102</td><td>N</td><td>1950-09-01</td><td>1957-12-01</td></tr><tr><td>SUBID1067</td><td>Kishan</td><td>Rao</td><td>Badal Nagar</td><td>1923-05-12</td><td>Male</td><td>+91 9067652693</td><td>India</td><td>Srikakulam</td><td>703899</td><td>S110</td><td>Y</td><td>1943-05-12</td><td>1946-09-20</td></tr><tr><td>SUBID10068</td><td>null</td><td>Mishra</td><td>Bath Nagar</td><td>1927-02-26</td><td>Female</td><td>+91 4984346995</td><td>India</td><td>Ambarnath</td><td>766224</td><td>S110</td><td>N</td><td>1947-02-26</td><td>1948-03-30</td></tr><tr><td>SUBID10069</td><td>Bhageeratha</td><td>Srivastav</td><td>Das Ganj</td><td>1973-03-21</td><td>Male</td><td>+91 0590662722</td><td>India</td><td>Sonipat</td><td>695316</td><td>S103</td><td>Y</td><td>1993-03-21</td><td>1997-08-01</td></tr><tr><td>SUBID10070</td><td>Balaaditya</td><td>Gupta</td><td>Varty Road</td><td>1923-11-02</td><td>Male</td><td>+91 3871269153</td><td>India</td><td>Hajipur</td><td>3526</td><td>S109</td><td>N</td><td>1943-11-02</td><td>1952-09-24</td></tr><tr><td>SUBID10071</td><td>null</td><td>Rai</td><td>Choudhury Chowk</td><td>1941-12-26</td><td>Female</td><td>+91 9287216619</td><td>India</td><td>Vellore</td><td>239532</td><td>S101</td><td>N</td><td>1961-12-26</td><td>1969-02-23</td></tr><tr><td>SUBID10072</td><td>Gopal</td><td>Srivastav</td><td>Desai Street</td><td>1936-03-11</td><td>Female</td><td>+91 3791210190</td><td>India</td><td>Bidhannagar</td><td>761800</td><td>S103</td><td>Y</td><td>1956-03-11</td><td>1964-07-28</td></tr><tr><td>SUBID1073</td><td>Virender</td><td>Maurrya</td><td>Chakrabarti</td><td>1936-10-27</td><td>Male</td><td>+91 7734026802</td><td>India</td><td>Bhusawal</td><td>374302</td><td>S104</td><td>N</td><td>1956-10-27</td><td>1961-04-27</td></tr><tr><td>SUBID10074</td><td>null</td><td>Singh</td><td>Kalla Path</td><td>1963-11-21</td><td>Male</td><td>+91 7881749363</td><td>India</td><td>Bokaro</td><td>866319</td><td>S105</td><td>Y</td><td>1983-11-21</td><td>1985-09-29</td></tr><tr><td>SUBID10075</td><td>null</td><td>Singh</td><td>Iyengar Nagar</td><td>1956-01-29</td><td>Male</td><td>+91 6891482136</td><td>India</td><td>Navi Mumbai</td><td>836175</td><td>S107</td><td>N</td><td>1976-01-29</td><td>1979-05-25</td></tr><tr><td>SUBID10076</td><td>Mamta</td><td>Tiwari</td><td>Batra</td><td>1964-12-21</td><td>Female</td><td>+91 5559521919</td><td>India</td><td>Secunderabad</td><td>123181</td><td>S104</td><td>N</td><td>1984-12-21</td><td>1987-01-08</td></tr><tr><td>SUBID10077</td><td>Girija</td><td>Maurrya</td><td>Iyengar Road</td><td>1933-04-25</td><td>Male</td><td>+91 1811765039</td><td>India</td><td>Jaipur</td><td>204379</td><td>S105</td><td>N</td><td>1953-04-25</td><td>1963-04-18</td></tr><tr><td>SUBID10078</td><td>Aaraadhana</td><td>Rao</td><td>Raval Nagar</td><td>1980-02-07</td><td>Male</td><td>+91 2432610572</td><td>India</td><td>Jhansi</td><td>429941</td><td>S108</td><td>N</td><td>2000-02-07</td><td>2005-02-06</td></tr><tr><td>SUBID10079</td><td>Shahnawaz</td><td>Mishra</td><td>Agate Path</td><td>1971-06-24</td><td>Female</td><td>+91 4117017589</td><td>India</td><td>Rampur</td><td>528893</td><td>S102</td><td>Y</td><td>1991-06-24</td><td>2000-09-13</td></tr><tr><td>SUBID10080</td><td>Tej</td><td>Sonkar</td><td>Sarraf Chowk</td><td>1942-06-11</td><td>Male</td><td>+91 3450311029</td><td>India</td><td>Haridwar</td><td>506221</td><td>S105</td><td>Y</td><td>1962-06-11</td><td>1964-10-14</td></tr><tr><td>SUBID10081</td><td>Mansi</td><td>Divedi</td><td>Bhattacharyya Road</td><td>1947-03-20</td><td>Female</td><td>+91 1135113927</td><td>India</td><td>Hosur</td><td>995152</td><td>S105</td><td>Y</td><td>1967-03-20</td><td>1971-07-25</td></tr><tr><td>SUBID10082</td><td>Girika</td><td>Thakur</td><td>Sinha Zila</td><td>1968-11-03</td><td>Female</td><td>+91 5601148700</td><td>India</td><td>Hospet</td><td>683614</td><td>S102</td><td>N</td><td>1988-11-03</td><td>1992-01-21</td></tr><tr><td>SUBID10083</td><td>Bhilangana</td><td>Pandit</td><td>Ramachandran Path</td><td>1995-01-04</td><td>Female</td><td>+91 6653069630</td><td>India</td><td>Fatehpur</td><td>359466</td><td>S109</td><td>Y</td><td>2015-01-04</td><td>2017-10-05</td></tr><tr><td>SUBID10084</td><td>null</td><td>Thakur</td><td>Raval Zila</td><td>1924-06-07</td><td>Female</td><td>+91 7367059254</td><td>India</td><td>Bhavnagar</td><td>464111</td><td>S107</td><td>Y</td><td>1944-06-07</td><td>1952-05-22</td></tr><tr><td>SUBID10085</td><td>Sukanya</td><td>Sonkar</td><td>Sangha Street</td><td>1942-01-16</td><td>Female</td><td>+91 5689645499</td><td>India</td><td>Vijayanagaram</td><td>226215</td><td>S101</td><td>N</td><td>1962-01-16</td><td>1967-04-10</td></tr><tr><td>SUBID1086</td><td>Banita</td><td>Rao</td><td>Thakur</td><td>1979-01-28</td><td>Male</td><td>+91 4743834161</td><td>India</td><td>Ghaziabad</td><td>907613</td><td>S109</td><td>N</td><td>1999-01-28</td><td>2000-09-05</td></tr><tr><td>SUBID1087</td><td>null</td><td>Pandit</td><td>Srivastava Path</td><td>1924-12-10</td><td>Female</td><td>+91 9158965227</td><td>India</td><td>Sambhal</td><td>279219</td><td>S103</td><td>N</td><td>1944-12-10</td><td>1951-07-16</td></tr><tr><td>SUBID10088</td><td>null</td><td>Rajput</td><td>Dua Zila</td><td>1922-07-30</td><td>Female</td><td>+91 9523946101</td><td>India</td><td>Tadipatri</td><td>743449</td><td>S110</td><td>N</td><td>1942-07-30</td><td>1949-06-07</td></tr><tr><td>SUBID10089</td><td>Dhuha</td><td>Tiwari</td><td>Aggarwal Street</td><td>1952-08-21</td><td>Male</td><td>+91 3188519840</td><td>India</td><td>Rampur</td><td>492137</td><td>S104</td><td>null</td><td>1972-08-21</td><td>1981-05-13</td></tr><tr><td>SUBID10090</td><td>null</td><td>Mishra</td><td>Chandran Nagar</td><td>1938-06-07</td><td>Female</td><td>+91 6869721169</td><td>India</td><td>Sikar</td><td>564747</td><td>S101</td><td>Y</td><td>1958-06-07</td><td>1967-08-23</td></tr><tr><td>SUBID1091</td><td>null</td><td>Thakur</td><td>Bala</td><td>1930-12-31</td><td>Male</td><td>+91 9664169480</td><td>India</td><td>Kamarhati</td><td>682652</td><td>S110</td><td>Y</td><td>1950-12-31</td><td>1958-06-21</td></tr><tr><td>SUBID10092</td><td>null</td><td>Rai</td><td>Karan Street</td><td>1940-08-22</td><td>Others</td><td>+91 7498206646</td><td>India</td><td>Ghaziabad</td><td>79586</td><td>S108</td><td>N</td><td>1960-08-22</td><td>1966-10-06</td></tr><tr><td>SUBID10093</td><td>Chandavarman</td><td>Singh</td><td>Sarkar Circle</td><td>1997-05-10</td><td>Others</td><td>+91 6559031791</td><td>India</td><td>Navi Mumbai</td><td>83240</td><td>S110</td><td>N</td><td>2017-05-10</td><td>2022-08-27</td></tr><tr><td>SUBID10094</td><td>Charanpal</td><td>Yadav</td><td>Sehgal Circle</td><td>1986-10-12</td><td>Male</td><td>+91 2196055115</td><td>India</td><td>Gurgaon</td><td>640326</td><td>S109</td><td>Y</td><td>2006-10-12</td><td>2016-05-13</td></tr><tr><td>SUBID10095</td><td>Ekaaksh</td><td>Rai</td><td>Bansal Ganj</td><td>1933-12-02</td><td>Others</td><td>null</td><td>India</td><td>Pimpri-Chinchwad</td><td>158186</td><td>S107</td><td>N</td><td>1953-12-02</td><td>1960-07-29</td></tr><tr><td>SUBID10096</td><td>Chanak</td><td>Sonkar</td><td>Kaur</td><td>1959-04-07</td><td>Others</td><td>+91 7284540687</td><td>India</td><td>Raurkela Industrial Township</td><td>899590</td><td>S101</td><td>Y</td><td>1979-04-07</td><td>1986-03-07</td></tr><tr><td>SUBID10097</td><td>null</td><td>Sonkar</td><td>Rana Ganj</td><td>1940-02-04</td><td>Others</td><td>+91 8908240160</td><td>India</td><td>Mira-Bhayandar</td><td>896586</td><td>S107</td><td>Y</td><td>1960-02-04</td><td>1965-01-12</td></tr><tr><td>SUBID1098</td><td>Pushkar</td><td>Kumar</td><td>Sodhi Zila</td><td>1934-10-05</td><td>Others</td><td>+91 8956368286</td><td>India</td><td>Korba</td><td>910732</td><td>S107</td><td>Y</td><td>1954-10-05</td><td>1961-04-05</td></tr><tr><td>SUBID10099</td><td>Shikha</td><td>Srivastav</td><td>Ahuja Road</td><td>1970-09-06</td><td>Others</td><td>+91 3042509956</td><td>India</td><td>Nanded</td><td>101500</td><td>S109</td><td>Y</td><td>1990-09-06</td><td>1997-11-27</td></tr></tbody></table></div>"
      ]
     },
     "metadata": {
      "application/vnd.databricks.v1+output": {
       "addedWidgets": {},
       "aggData": [],
       "aggError": "",
       "aggOverflow": false,
       "aggSchema": [],
       "aggSeriesLimitReached": false,
       "aggType": "",
       "arguments": {},
       "columnCustomDisplayInfos": {},
       "data": [
        [
         "SUBID10000",
         "Harbir",
         "Vishwakarma",
         "Baria Marg",
         "1924-06-30",
         "Female",
         "+91 0112009318",
         "India",
         "Rourkela",
         767058,
         "S107",
         "Y",
         "1944-06-30",
         "1954-01-14"
        ],
        [
         "SUBID10001",
         "Brahmdev",
         "Sonkar",
         "Lala Marg",
         "1948-12-20",
         "Female",
         "+91 1727749552",
         "India",
         "Tiruvottiyur",
         34639,
         "S105",
         "Y",
         "1968-12-20",
         "1970-05-16"
        ],
        [
         "SUBID10002",
         "Ujjawal",
         "Devi",
         "Mammen Zila",
         "1980-04-16",
         "Male",
         "+91 8547451606",
         "India",
         "Berhampur",
         914455,
         "S106",
         "N",
         "2000-04-16",
         "2008-05-04"
        ],
        [
         "SUBID10003",
         "Ballari",
         "Mishra",
         "Sahni Zila",
         "1969-09-25",
         "Female",
         "+91 0106026841",
         "India",
         "Bihar Sharif",
         91481,
         "S104",
         "N",
         "1989-09-25",
         "1995-06-05"
        ],
        [
         "SUBID10004",
         "Devnath",
         "Srivastav",
         "Magar Zila",
         "1946-05-01",
         "Female",
         "+91 1868774631",
         "India",
         "Bidhannagar",
         531742,
         "S110",
         "N",
         "1966-05-01",
         "1970-12-09"
        ],
        [
         "SUBID10005",
         "Atasi",
         "Seth",
         "Khatri Nagar",
         "1967-10-02",
         "Male",
         "+91 9747336855",
         "India",
         "Amravati",
         229062,
         "S104",
         "Y",
         "1987-10-02",
         "1995-02-13"
        ],
        [
         "SUBID1006",
         "Manish",
         "Maurya",
         "Swaminathan Chowk",
         "1967-06-06",
         "Male",
         "+91 4354294043",
         "India",
         "Panvel",
         438733,
         "S109",
         null,
         "1987-06-06",
         "1995-03-21"
        ],
        [
         "SUBID10007",
         "Aakar",
         "Yadav",
         "Swamy",
         "1925-03-05",
         "Female",
         "+91 2777633911",
         "India",
         "Bihar Sharif",
         535907,
         "S104",
         "N",
         "1945-03-05",
         "1946-11-07"
        ],
        [
         "SUBID10008",
         "Gurudas",
         "Gupta",
         "Sarin Nagar",
         "1945-05-06",
         "Male",
         "+91 1232859381",
         "India",
         "Kamarhati",
         933226,
         "S103",
         "Y",
         "1965-05-06",
         "1970-09-16"
        ],
        [
         "SUBID10009",
         null,
         "Gupta",
         "Thakur Circle",
         "1925-06-12",
         "Male",
         "+91 1780763280",
         "India",
         "Bangalore",
         957469,
         "S105",
         "Y",
         "1945-06-12",
         "1953-08-30"
        ],
        [
         "SUBID1010",
         null,
         "Divedi",
         "Dhillon",
         "1976-02-03",
         "Male",
         "+91 5586075345",
         "India",
         "Rajkot",
         911319,
         "S102",
         "Y",
         "1996-02-03",
         "2002-01-27"
        ],
        [
         "SUBID10011",
         null,
         "Vishwakarma",
         "Rajagopalan",
         "1955-01-22",
         "Female",
         "+91 4146391938",
         "India",
         "Ghaziabad",
         337042,
         "S106",
         "N",
         "1975-01-22",
         "1978-11-02"
        ],
        [
         "SUBID10012",
         "Dharmadaas",
         "Tiwari",
         "Rama",
         "1964-04-29",
         "Male",
         "+91 6345482027",
         "India",
         "Bhalswa Jahangir Pur",
         430793,
         "S103",
         "N",
         "1984-04-29",
         "1988-02-07"
        ],
        [
         "SUBID10013",
         "Brahmvir",
         "Rai",
         "Shah Path",
         "1991-11-11",
         "Male",
         "+91 7316972612",
         "India",
         "Ambala",
         249898,
         "S106",
         "N",
         "2011-11-11",
         "2020-05-23"
        ],
        [
         "SUBID10014",
         null,
         "Srivastav",
         "Chandra Path",
         "1981-01-25",
         "Female",
         "+91 2960004518",
         "India",
         "Surendranagar Dudhrej",
         111966,
         "S102",
         "N",
         "2001-01-25",
         "2005-07-13"
        ],
        [
         "SUBID10015",
         "Bhagvan",
         "Srivastav",
         "Edwin",
         "1966-07-24",
         "Female",
         "+91 0297693485",
         "India",
         "Bhimavaram",
         436513,
         "S105",
         "Y",
         "1986-07-24",
         "1988-02-04"
        ],
        [
         "SUBID10016",
         "Amritkala",
         "Srivastav",
         "Guha Path",
         "1933-11-20",
         "Female",
         "+91 0537157280",
         "India",
         "Meerut",
         863467,
         "S106",
         "Y",
         "1953-11-20",
         "1955-07-29"
        ],
        [
         "SUBID10017",
         "Bandhu",
         "Seth",
         "Varughese",
         "1996-10-15",
         "Male",
         "+91 0695289163",
         "India",
         "Chinsurah",
         136713,
         "S108",
         "N",
         "2016-10-15",
         "2018-06-08"
        ],
        [
         "SUBID10018",
         "Bhagavaana",
         "Kumar",
         "Kulkarni Zila",
         "1935-09-16",
         "Female",
         "+91 6071745855",
         "India",
         "Shahjahanpur",
         597276,
         "S101",
         "N",
         "1955-09-16",
         "1958-05-31"
        ],
        [
         "SUBID10019",
         null,
         "Maurya",
         "Sharaf Nagar",
         "1924-11-09",
         "Female",
         "+91 8906694405",
         "India",
         "Jabalpur",
         958538,
         "S104",
         "N",
         "1944-11-09",
         "1951-10-14"
        ],
        [
         "SUBID1020",
         "Umang",
         "Srivastav",
         "Balay Chowk",
         "1963-07-14",
         "Female",
         "+91 9485838770",
         "India",
         "Haridwar",
         181692,
         "S109",
         "Y",
         "1983-07-14",
         "1986-01-15"
        ],
        [
         "SUBID1021",
         "Darsana",
         "Yadav",
         "Upadhyay Zila",
         "1932-05-29",
         "Male",
         "+91 7676311811",
         "India",
         "Dibrugarh",
         187414,
         "S109",
         "Y",
         "1952-05-29",
         "1953-10-14"
        ],
        [
         "SUBID10022",
         "Prakash",
         "Rao",
         "Sachar",
         "1923-09-15",
         "Female",
         "+91 9268324471",
         "India",
         "Kottayam",
         180680,
         null,
         "N",
         "1943-09-15",
         "1948-10-19"
        ],
        [
         "SUBID10023",
         "Vaijayanti",
         "Pratap",
         "Khalsa Nagar",
         "1920-11-13",
         "Male",
         "+91 9358851649",
         "India",
         "Mira-Bhayandar",
         419190,
         "S102",
         "Y",
         "1940-11-13",
         "1946-03-10"
        ],
        [
         "SUBID10024",
         "Menakshi",
         "Seth",
         "Wable Street",
         "1987-03-06",
         "Male",
         "+91 0531676556",
         "India",
         "Kamarhati",
         882577,
         "S107",
         "N",
         "2007-03-06",
         "2014-02-25"
        ],
        [
         "SUBID10025",
         null,
         "Tiwari",
         "Sha Chowk",
         "1955-12-24",
         "Male",
         "+91 2416747182",
         "India",
         "Karimnagar",
         567762,
         "S106",
         "N",
         "1975-12-24",
         "1983-02-03"
        ],
        [
         "SUBID10026",
         "Ekant",
         "Sonkar",
         "Walla Road",
         "1943-08-13",
         "Male",
         "+91 7686951174",
         "India",
         "Berhampore",
         948589,
         "S110",
         "Y",
         "1963-08-13",
         "1967-05-29"
        ],
        [
         "SUBID10027",
         "Chancharik",
         "Pandey",
         "Karan Ganj",
         "1983-09-05",
         "Male",
         "+91 5309364825",
         "India",
         "Chapra",
         154667,
         "S109",
         "N",
         "2003-09-05",
         "2011-06-12"
        ],
        [
         "SUBID10028",
         "Pushti",
         "Pandit",
         "Deol Path",
         "1935-10-15",
         "Female",
         "+91 7093722203",
         "India",
         "Morbi",
         284168,
         "S106",
         "N",
         "1955-10-15",
         "1959-06-04"
        ],
        [
         "SUBID10029",
         "Swati",
         "Seth",
         "Kant Marg",
         "1987-12-11",
         "Female",
         "+91 1028477510",
         "India",
         "Amravati",
         932221,
         "S102",
         "N",
         "2007-12-11",
         "2011-10-17"
        ],
        [
         "SUBID1030",
         "Upasana",
         "Pandey",
         "Seth Chowk",
         "1956-06-01",
         "Male",
         "+91 0548234943",
         "India",
         "Hyderabad",
         234823,
         "S102",
         "N",
         "1976-06-01",
         "1981-02-14"
        ],
        [
         "SUBID10031",
         "Kanhaiya",
         "Lal",
         "Savant Nagar",
         "1954-10-19",
         "Female",
         "+91 0788738026",
         "India",
         "Mysore",
         638433,
         "S104",
         "Y",
         "1974-10-19",
         "1977-01-03"
        ],
        [
         "SUBID1032",
         null,
         "Seth",
         "Sandhu Chowk",
         "1968-07-02",
         "Female",
         "+91 2599794460",
         "India",
         "Gwalior",
         611826,
         "S110",
         "N",
         "1988-07-02",
         "1991-03-14"
        ],
        [
         "SUBID10033",
         "Gensho",
         "Srivastav",
         "Korpal Ganj",
         "1992-06-06",
         "Male",
         "+91 4834040556",
         "India",
         "Ludhiana",
         835018,
         "S101",
         "N",
         "2012-06-06",
         "2022-01-09"
        ],
        [
         "SUBID1034",
         "Gopal",
         "Das",
         "Saini",
         "1986-05-14",
         "Male",
         "+91 1181471524",
         "India",
         "Raebareli",
         176221,
         "S101",
         "N",
         "2006-05-14",
         "2011-04-08"
        ],
        [
         "SUBID10035",
         "Dheeman",
         "Tiwari",
         "Dube Marg",
         "1945-05-04",
         "Male",
         "+91 8239321466",
         "India",
         "Mysore",
         811970,
         "S101",
         "Y",
         "1965-05-04",
         "1973-11-13"
        ],
        [
         "SUBID1036",
         "Upasana",
         "Thakur",
         "Vasa Ganj",
         "1927-10-03",
         "Female",
         null,
         "India",
         "Ratlam",
         326733,
         "S108",
         "N",
         "1947-10-03",
         "1951-02-20"
        ],
        [
         "SUBID1037",
         null,
         "Rajput",
         "Shere Chowk",
         "1948-11-10",
         "Male",
         "+91 8390195092",
         "India",
         "Vadodara",
         877443,
         "S101",
         "Y",
         "1968-11-10",
         "1973-12-25"
        ],
        [
         "SUBID1038",
         null,
         "Thakur",
         "Rastogi Street",
         "1955-04-07",
         "Female",
         "+91 7434031446",
         "India",
         "Vijayawada",
         438940,
         "S104",
         null,
         "1975-04-07",
         "1982-01-25"
        ],
        [
         "SUBID10039",
         "Madhubala",
         "Yadav",
         "Sangha Marg",
         "1937-01-11",
         "Male",
         "+91 8498685882",
         "India",
         "Jaunpur",
         624102,
         "S104",
         "Y",
         "1957-01-11",
         "1965-10-09"
        ],
        [
         "SUBID10040",
         "Anjushree",
         "Pandey",
         "Vora Ganj",
         "1976-07-04",
         "Male",
         "+91 5322869455",
         "India",
         "Ghaziabad",
         782221,
         "S105",
         "N",
         "1996-07-04",
         "1999-02-17"
        ],
        [
         "SUBID1041",
         null,
         "Rajput",
         "Sinha Path",
         "1930-11-25",
         "Female",
         null,
         "India",
         "Agartala",
         303503,
         "S110",
         "Y",
         "1950-11-25",
         "1957-09-14"
        ],
        [
         "SUBID10042",
         "Chakrika",
         "Sonkar",
         "Bansal Circle",
         "1964-08-05",
         "Male",
         "+91 8185162879",
         "India",
         "Ranchi",
         503290,
         "S108",
         "Y",
         "1984-08-05",
         "1992-09-09"
        ],
        [
         "SUBID1043",
         "Saroj",
         "Pandit",
         "Sathe Zila",
         "1942-08-26",
         "Female",
         "+91 5690408243",
         "India",
         "Muzaffarpur",
         130486,
         "S103",
         "Y",
         "1962-08-26",
         "1964-08-29"
        ],
        [
         "SUBID1044",
         "Ayushmati",
         "Vishwakarma",
         "Balakrishnan Street",
         "1932-09-20",
         "Male",
         "+91 3683223970",
         "India",
         "Satna",
         131247,
         "S108",
         "N",
         "1952-09-20",
         "1961-01-24"
        ],
        [
         "SUBID1045",
         "Drashti",
         "Divedi",
         "Wadhwa",
         "1926-07-03",
         "Male",
         "+91 9447269993",
         "India",
         "Saharsa",
         581568,
         "S104",
         "Y",
         "1946-07-03",
         "1952-11-27"
        ],
        [
         "SUBID10046",
         "Aayushmaan",
         "Maurya",
         "Johal Nagar",
         "1983-11-14",
         "Female",
         "+91 4464709769",
         "India",
         "Mehsana",
         987281,
         "S104",
         "Y",
         "2003-11-14",
         "2012-10-22"
        ],
        [
         "SUBID1047",
         null,
         "Rai",
         "Sagar Chowk",
         "1931-02-04",
         "Male",
         "+91 2973105946",
         "India",
         "Shivpuri",
         794170,
         "S109",
         "Y",
         "1951-02-04",
         "1955-07-14"
        ],
        [
         "SUBID10048",
         "Chitranjan",
         "Mishra",
         "Madan Nagar",
         "1925-09-09",
         "Female",
         "+91 5176024720",
         "India",
         "Morbi",
         945697,
         "S108",
         "N",
         "1945-09-09",
         "1952-06-21"
        ],
        [
         "SUBID10049",
         "Paridhi",
         "Yadav",
         "Sant Path",
         "1959-03-27",
         "Female",
         "+91 2139280879",
         "India",
         "Jabalpur",
         883754,
         null,
         "N",
         "1979-03-27",
         "1985-06-01"
        ],
        [
         "SUBID10050",
         "Deependu",
         "Gupta",
         "Banik Ganj",
         "1952-02-13",
         "Female",
         "+91 5674176644",
         "India",
         "Bareilly",
         417855,
         "S102",
         "Y",
         "1972-02-13",
         "1976-08-23"
        ],
        [
         "SUBID10051",
         null,
         "Rajput",
         "Chauhan Chowk",
         "1946-10-17",
         "Male",
         "+91 9887324437",
         "India",
         "Baranagar",
         765234,
         "S103",
         "Y",
         "1966-10-17",
         "1969-06-26"
        ],
        [
         "SUBID10052",
         "Laksman",
         "Rao",
         "Sood Marg",
         "1939-05-26",
         "Female",
         "+91 4504120828",
         "India",
         "Ahmednagar",
         117923,
         "S101",
         "Y",
         "1959-05-26",
         "1960-11-07"
        ],
        [
         "SUBID10053",
         null,
         "Sonkar",
         "Shetty Marg",
         "1988-06-27",
         "Male",
         "+91 6877897646",
         "India",
         "Pali",
         383290,
         "S102",
         "Y",
         "2008-06-27",
         "2016-10-30"
        ],
        [
         "SUBID10054",
         "Shivakari",
         "Pratap",
         "Dugar Road",
         "1944-11-02",
         "Female",
         "+91 3740484063",
         "India",
         "Hapur",
         28202,
         "S104",
         "N",
         "1964-11-02",
         "1967-06-15"
        ],
        [
         "SUBID10055",
         "Madhu",
         "Thakur",
         "Sule Marg",
         "1984-10-23",
         "Male",
         "+91 8367885507",
         "India",
         "Udaipur",
         565423,
         "S107",
         "N",
         "2004-10-23",
         "2008-07-10"
        ],
        [
         "SUBID10056",
         "Chanak",
         "Gupta",
         "Shetty Nagar",
         "1954-08-27",
         "Male",
         "+91 5093121123",
         "India",
         "Jalandhar",
         602989,
         "S105",
         "N",
         "1974-08-27",
         "1982-06-15"
        ],
        [
         "SUBID10057",
         "Chittesh",
         "Pandey",
         "Mangal Chowk",
         "1949-10-17",
         "Male",
         "+91 1378163498",
         "India",
         "Thoothukudi",
         666415,
         "S109",
         "Y",
         "1969-10-17",
         "1975-10-08"
        ],
        [
         "SUBID1058",
         "Nawal",
         "Rajput",
         "Deol Nagar",
         "1940-01-22",
         "Male",
         "+91 1885105576",
         "India",
         "Bhopal",
         791168,
         "S106",
         "N",
         "1960-01-22",
         "1969-04-18"
        ],
        [
         "SUBID10059",
         "Gajabahu",
         "Singh",
         "Kara",
         "1959-03-15",
         "Male",
         "+91 1207869436",
         "India",
         "Udupi",
         637221,
         "S101",
         "Y",
         "1979-03-15",
         "1986-07-05"
        ],
        [
         "SUBID10060",
         "Jitesh",
         "Vishwakarma",
         "Gopal Path",
         "1983-02-03",
         "Male",
         "+91 6515468035",
         "India",
         "Karimnagar",
         124564,
         "S110",
         "Y",
         "2003-02-03",
         "2008-04-30"
        ],
        [
         "SUBID10061",
         null,
         "Rajput",
         "Anand Path",
         "1966-09-25",
         "Female",
         "+91 6477918745",
         "India",
         "Kharagpur",
         934938,
         "S103",
         null,
         "1986-09-25",
         "1991-06-03"
        ],
        [
         "SUBID1062",
         "Lalit",
         "Mishra",
         "Comar Street",
         "1924-02-15",
         "Female",
         "+91 4647833992",
         "India",
         "Tinsukia",
         963770,
         "S103",
         "N",
         "1944-02-15",
         "1947-09-28"
        ],
        [
         "SUBID1063",
         "Anshuk",
         "Srivastav",
         "Sridhar Path",
         "1991-06-17",
         "Male",
         "+91 9764690642",
         "India",
         "Uluberia",
         270985,
         "S105",
         "N",
         "2011-06-17",
         "2014-07-11"
        ],
        [
         "SUBID10064",
         null,
         "Pandey",
         "Mangat Path",
         "1994-01-13",
         "Male",
         "+91 8444537013",
         "India",
         "Panihati",
         643791,
         "S110",
         "N",
         "2014-01-13",
         "2019-02-24"
        ],
        [
         "SUBID1065",
         "Dipesh",
         "Mishra",
         "Char Path",
         "1949-04-01",
         "Female",
         "+91 5851958964",
         "India",
         "Kochi",
         31269,
         "S103",
         "Y",
         "1969-04-01",
         "1970-06-02"
        ],
        [
         "SUBID10066",
         null,
         "Seth",
         "Chaudhuri Marg",
         "1930-09-01",
         "Male",
         "+91 7061843400",
         "India",
         "Kolhapur",
         597470,
         "S102",
         "N",
         "1950-09-01",
         "1957-12-01"
        ],
        [
         "SUBID1067",
         "Kishan",
         "Rao",
         "Badal Nagar",
         "1923-05-12",
         "Male",
         "+91 9067652693",
         "India",
         "Srikakulam",
         703899,
         "S110",
         "Y",
         "1943-05-12",
         "1946-09-20"
        ],
        [
         "SUBID10068",
         null,
         "Mishra",
         "Bath Nagar",
         "1927-02-26",
         "Female",
         "+91 4984346995",
         "India",
         "Ambarnath",
         766224,
         "S110",
         "N",
         "1947-02-26",
         "1948-03-30"
        ],
        [
         "SUBID10069",
         "Bhageeratha",
         "Srivastav",
         "Das Ganj",
         "1973-03-21",
         "Male",
         "+91 0590662722",
         "India",
         "Sonipat",
         695316,
         "S103",
         "Y",
         "1993-03-21",
         "1997-08-01"
        ],
        [
         "SUBID10070",
         "Balaaditya",
         "Gupta",
         "Varty Road",
         "1923-11-02",
         "Male",
         "+91 3871269153",
         "India",
         "Hajipur",
         3526,
         "S109",
         "N",
         "1943-11-02",
         "1952-09-24"
        ],
        [
         "SUBID10071",
         null,
         "Rai",
         "Choudhury Chowk",
         "1941-12-26",
         "Female",
         "+91 9287216619",
         "India",
         "Vellore",
         239532,
         "S101",
         "N",
         "1961-12-26",
         "1969-02-23"
        ],
        [
         "SUBID10072",
         "Gopal",
         "Srivastav",
         "Desai Street",
         "1936-03-11",
         "Female",
         "+91 3791210190",
         "India",
         "Bidhannagar",
         761800,
         "S103",
         "Y",
         "1956-03-11",
         "1964-07-28"
        ],
        [
         "SUBID1073",
         "Virender",
         "Maurrya",
         "Chakrabarti",
         "1936-10-27",
         "Male",
         "+91 7734026802",
         "India",
         "Bhusawal",
         374302,
         "S104",
         "N",
         "1956-10-27",
         "1961-04-27"
        ],
        [
         "SUBID10074",
         null,
         "Singh",
         "Kalla Path",
         "1963-11-21",
         "Male",
         "+91 7881749363",
         "India",
         "Bokaro",
         866319,
         "S105",
         "Y",
         "1983-11-21",
         "1985-09-29"
        ],
        [
         "SUBID10075",
         null,
         "Singh",
         "Iyengar Nagar",
         "1956-01-29",
         "Male",
         "+91 6891482136",
         "India",
         "Navi Mumbai",
         836175,
         "S107",
         "N",
         "1976-01-29",
         "1979-05-25"
        ],
        [
         "SUBID10076",
         "Mamta",
         "Tiwari",
         "Batra",
         "1964-12-21",
         "Female",
         "+91 5559521919",
         "India",
         "Secunderabad",
         123181,
         "S104",
         "N",
         "1984-12-21",
         "1987-01-08"
        ],
        [
         "SUBID10077",
         "Girija",
         "Maurrya",
         "Iyengar Road",
         "1933-04-25",
         "Male",
         "+91 1811765039",
         "India",
         "Jaipur",
         204379,
         "S105",
         "N",
         "1953-04-25",
         "1963-04-18"
        ],
        [
         "SUBID10078",
         "Aaraadhana",
         "Rao",
         "Raval Nagar",
         "1980-02-07",
         "Male",
         "+91 2432610572",
         "India",
         "Jhansi",
         429941,
         "S108",
         "N",
         "2000-02-07",
         "2005-02-06"
        ],
        [
         "SUBID10079",
         "Shahnawaz",
         "Mishra",
         "Agate Path",
         "1971-06-24",
         "Female",
         "+91 4117017589",
         "India",
         "Rampur",
         528893,
         "S102",
         "Y",
         "1991-06-24",
         "2000-09-13"
        ],
        [
         "SUBID10080",
         "Tej",
         "Sonkar",
         "Sarraf Chowk",
         "1942-06-11",
         "Male",
         "+91 3450311029",
         "India",
         "Haridwar",
         506221,
         "S105",
         "Y",
         "1962-06-11",
         "1964-10-14"
        ],
        [
         "SUBID10081",
         "Mansi",
         "Divedi",
         "Bhattacharyya Road",
         "1947-03-20",
         "Female",
         "+91 1135113927",
         "India",
         "Hosur",
         995152,
         "S105",
         "Y",
         "1967-03-20",
         "1971-07-25"
        ],
        [
         "SUBID10082",
         "Girika",
         "Thakur",
         "Sinha Zila",
         "1968-11-03",
         "Female",
         "+91 5601148700",
         "India",
         "Hospet",
         683614,
         "S102",
         "N",
         "1988-11-03",
         "1992-01-21"
        ],
        [
         "SUBID10083",
         "Bhilangana",
         "Pandit",
         "Ramachandran Path",
         "1995-01-04",
         "Female",
         "+91 6653069630",
         "India",
         "Fatehpur",
         359466,
         "S109",
         "Y",
         "2015-01-04",
         "2017-10-05"
        ],
        [
         "SUBID10084",
         null,
         "Thakur",
         "Raval Zila",
         "1924-06-07",
         "Female",
         "+91 7367059254",
         "India",
         "Bhavnagar",
         464111,
         "S107",
         "Y",
         "1944-06-07",
         "1952-05-22"
        ],
        [
         "SUBID10085",
         "Sukanya",
         "Sonkar",
         "Sangha Street",
         "1942-01-16",
         "Female",
         "+91 5689645499",
         "India",
         "Vijayanagaram",
         226215,
         "S101",
         "N",
         "1962-01-16",
         "1967-04-10"
        ],
        [
         "SUBID1086",
         "Banita",
         "Rao",
         "Thakur",
         "1979-01-28",
         "Male",
         "+91 4743834161",
         "India",
         "Ghaziabad",
         907613,
         "S109",
         "N",
         "1999-01-28",
         "2000-09-05"
        ],
        [
         "SUBID1087",
         null,
         "Pandit",
         "Srivastava Path",
         "1924-12-10",
         "Female",
         "+91 9158965227",
         "India",
         "Sambhal",
         279219,
         "S103",
         "N",
         "1944-12-10",
         "1951-07-16"
        ],
        [
         "SUBID10088",
         null,
         "Rajput",
         "Dua Zila",
         "1922-07-30",
         "Female",
         "+91 9523946101",
         "India",
         "Tadipatri",
         743449,
         "S110",
         "N",
         "1942-07-30",
         "1949-06-07"
        ],
        [
         "SUBID10089",
         "Dhuha",
         "Tiwari",
         "Aggarwal Street",
         "1952-08-21",
         "Male",
         "+91 3188519840",
         "India",
         "Rampur",
         492137,
         "S104",
         null,
         "1972-08-21",
         "1981-05-13"
        ],
        [
         "SUBID10090",
         null,
         "Mishra",
         "Chandran Nagar",
         "1938-06-07",
         "Female",
         "+91 6869721169",
         "India",
         "Sikar",
         564747,
         "S101",
         "Y",
         "1958-06-07",
         "1967-08-23"
        ],
        [
         "SUBID1091",
         null,
         "Thakur",
         "Bala",
         "1930-12-31",
         "Male",
         "+91 9664169480",
         "India",
         "Kamarhati",
         682652,
         "S110",
         "Y",
         "1950-12-31",
         "1958-06-21"
        ],
        [
         "SUBID10092",
         null,
         "Rai",
         "Karan Street",
         "1940-08-22",
         "Others",
         "+91 7498206646",
         "India",
         "Ghaziabad",
         79586,
         "S108",
         "N",
         "1960-08-22",
         "1966-10-06"
        ],
        [
         "SUBID10093",
         "Chandavarman",
         "Singh",
         "Sarkar Circle",
         "1997-05-10",
         "Others",
         "+91 6559031791",
         "India",
         "Navi Mumbai",
         83240,
         "S110",
         "N",
         "2017-05-10",
         "2022-08-27"
        ],
        [
         "SUBID10094",
         "Charanpal",
         "Yadav",
         "Sehgal Circle",
         "1986-10-12",
         "Male",
         "+91 2196055115",
         "India",
         "Gurgaon",
         640326,
         "S109",
         "Y",
         "2006-10-12",
         "2016-05-13"
        ],
        [
         "SUBID10095",
         "Ekaaksh",
         "Rai",
         "Bansal Ganj",
         "1933-12-02",
         "Others",
         null,
         "India",
         "Pimpri-Chinchwad",
         158186,
         "S107",
         "N",
         "1953-12-02",
         "1960-07-29"
        ],
        [
         "SUBID10096",
         "Chanak",
         "Sonkar",
         "Kaur",
         "1959-04-07",
         "Others",
         "+91 7284540687",
         "India",
         "Raurkela Industrial Township",
         899590,
         "S101",
         "Y",
         "1979-04-07",
         "1986-03-07"
        ],
        [
         "SUBID10097",
         null,
         "Sonkar",
         "Rana Ganj",
         "1940-02-04",
         "Others",
         "+91 8908240160",
         "India",
         "Mira-Bhayandar",
         896586,
         "S107",
         "Y",
         "1960-02-04",
         "1965-01-12"
        ],
        [
         "SUBID1098",
         "Pushkar",
         "Kumar",
         "Sodhi Zila",
         "1934-10-05",
         "Others",
         "+91 8956368286",
         "India",
         "Korba",
         910732,
         "S107",
         "Y",
         "1954-10-05",
         "1961-04-05"
        ],
        [
         "SUBID10099",
         "Shikha",
         "Srivastav",
         "Ahuja Road",
         "1970-09-06",
         "Others",
         "+91 3042509956",
         "India",
         "Nanded",
         101500,
         "S109",
         "Y",
         "1990-09-06",
         "1997-11-27"
        ]
       ],
       "datasetInfos": [],
       "dbfsResultPath": null,
       "isJsonSchema": true,
       "metadata": {},
       "overflow": false,
       "plotOptions": {
        "customPlotOptions": {},
        "displayType": "table",
        "pivotAggregation": null,
        "pivotColumns": null,
        "xColumns": null,
        "yColumns": null
       },
       "removedWidgets": [],
       "schema": [
        {
         "metadata": "{}",
         "name": "sub_id",
         "type": "\"string\""
        },
        {
         "metadata": "{}",
         "name": "first_name",
         "type": "\"string\""
        },
        {
         "metadata": "{}",
         "name": "last_name",
         "type": "\"string\""
        },
        {
         "metadata": "{}",
         "name": "Street",
         "type": "\"string\""
        },
        {
         "metadata": "{\"__detected_date_formats\":\"d-M-yyyy\"}",
         "name": "Birth_date",
         "type": "\"date\""
        },
        {
         "metadata": "{}",
         "name": "Gender",
         "type": "\"string\""
        },
        {
         "metadata": "{}",
         "name": "Phone",
         "type": "\"string\""
        },
        {
         "metadata": "{}",
         "name": "Country",
         "type": "\"string\""
        },
        {
         "metadata": "{}",
         "name": "City",
         "type": "\"string\""
        },
        {
         "metadata": "{}",
         "name": "Zip Code",
         "type": "\"integer\""
        },
        {
         "metadata": "{}",
         "name": "Subgrp_id",
         "type": "\"string\""
        },
        {
         "metadata": "{}",
         "name": "Elig_ind",
         "type": "\"string\""
        },
        {
         "metadata": "{\"__detected_date_formats\":\"d-M-yyyy\"}",
         "name": "eff_date",
         "type": "\"date\""
        },
        {
         "metadata": "{\"__detected_date_formats\":\"d-M-yyyy\"}",
         "name": "term_date",
         "type": "\"date\""
        }
       ],
       "type": "table"
      }
     },
     "output_type": "display_data"
    }
   ],
   "source": [
    "display(data)"
   ]
  },
  {
   "cell_type": "code",
   "execution_count": 0,
   "metadata": {
    "application/vnd.databricks.v1+cell": {
     "cellMetadata": {
      "byteLimit": 2048000,
      "rowLimit": 10000
     },
     "inputWidgets": {},
     "nuid": "2660377e-880f-4c19-8fa6-0741ebe2a2de",
     "showTitle": false,
     "title": ""
    }
   },
   "outputs": [],
   "source": [
    "# to do - patient name, null values/check for duplicates."
   ]
  },
  {
   "cell_type": "code",
   "execution_count": 0,
   "metadata": {
    "application/vnd.databricks.v1+cell": {
     "cellMetadata": {
      "byteLimit": 2048000,
      "rowLimit": 10000
     },
     "inputWidgets": {},
     "nuid": "dd0d5053-b279-42ef-a34d-ae346ee8dba8",
     "showTitle": false,
     "title": ""
    }
   },
   "outputs": [
    {
     "output_type": "stream",
     "name": "stdout",
     "output_type": "stream",
     "text": [
      "root\n |-- sub_id: string (nullable = true)\n |-- first_name: string (nullable = true)\n |-- last_name: string (nullable = true)\n |-- Street: string (nullable = true)\n |-- Birth_date: date (nullable = true)\n |-- Gender: string (nullable = true)\n |-- Phone: string (nullable = true)\n |-- Country: string (nullable = true)\n |-- City: string (nullable = true)\n |-- Zip Code: integer (nullable = true)\n |-- Subgrp_id: string (nullable = true)\n |-- Elig_ind: string (nullable = true)\n |-- eff_date: date (nullable = true)\n |-- term_date: date (nullable = true)\n\n"
     ]
    }
   ],
   "source": [
    "data.printSchema()"
   ]
  },
  {
   "cell_type": "code",
   "execution_count": 0,
   "metadata": {
    "application/vnd.databricks.v1+cell": {
     "cellMetadata": {
      "byteLimit": 2048000,
      "rowLimit": 10000
     },
     "inputWidgets": {},
     "nuid": "17bbb052-5198-4632-b547-ea8310731476",
     "showTitle": false,
     "title": ""
    }
   },
   "outputs": [
    {
     "output_type": "execute_result",
     "data": {
      "text/plain": [
       "['sub_id',\n",
       " 'first_name',\n",
       " 'last_name',\n",
       " 'Street',\n",
       " 'Birth_date',\n",
       " 'Gender',\n",
       " 'Phone',\n",
       " 'Country',\n",
       " 'City',\n",
       " 'Zip Code',\n",
       " 'Subgrp_id',\n",
       " 'Elig_ind',\n",
       " 'eff_date',\n",
       " 'term_date']"
      ]
     },
     "execution_count": 14,
     "metadata": {},
     "output_type": "execute_result"
    }
   ],
   "source": [
    "data.columns"
   ]
  },
  {
   "cell_type": "code",
   "execution_count": 0,
   "metadata": {
    "application/vnd.databricks.v1+cell": {
     "cellMetadata": {
      "byteLimit": 2048000,
      "rowLimit": 10000
     },
     "inputWidgets": {},
     "nuid": "f8f5128c-8abc-4a60-870a-def83e4aa7c9",
     "showTitle": false,
     "title": ""
    }
   },
   "outputs": [
    {
     "output_type": "stream",
     "name": "stdout",
     "output_type": "stream",
     "text": [
      "+------+----------+---------+------+----------+------+-----+-------+----+--------+---------+--------+--------+---------+-----+\n|sub_id|first_name|last_name|Street|Birth_date|Gender|Phone|Country|City|Zip Code|Subgrp_id|Elig_ind|eff_date|term_date|count|\n+------+----------+---------+------+----------+------+-----+-------+----+--------+---------+--------+--------+---------+-----+\n+------+----------+---------+------+----------+------+-----+-------+----+--------+---------+--------+--------+---------+-----+\n\n"
     ]
    }
   ],
   "source": [
    "data.groupby(['sub_id', 'first_name', 'last_name', 'Street', 'Birth_date', 'Gender', 'Phone', 'Country', 'City', 'Zip Code', 'Subgrp_id', 'Elig_ind', 'eff_date', 'term_date']) \\\n",
    "    .count() \\\n",
    "    .where(\"count > 1\").show(truncate=False) \n",
    "    "
   ]
  },
  {
   "cell_type": "code",
   "execution_count": 0,
   "metadata": {
    "application/vnd.databricks.v1+cell": {
     "cellMetadata": {
      "byteLimit": 2048000,
      "rowLimit": 10000
     },
     "inputWidgets": {},
     "nuid": "d95db4ac-9fe6-4bde-b4a1-fe4a77ee8f6a",
     "showTitle": false,
     "title": ""
    }
   },
   "outputs": [],
   "source": [
    "# We can see there are no duplicates."
   ]
  },
  {
   "cell_type": "code",
   "execution_count": 0,
   "metadata": {
    "application/vnd.databricks.v1+cell": {
     "cellMetadata": {
      "byteLimit": 2048000,
      "rowLimit": 10000
     },
     "inputWidgets": {},
     "nuid": "de99b7ee-0d5a-45ff-ae43-58c5007a68f3",
     "showTitle": false,
     "title": ""
    }
   },
   "outputs": [
    {
     "output_type": "display_data",
     "data": {
      "text/html": [
       "<style scoped>\n",
       "  .table-result-container {\n",
       "    max-height: 300px;\n",
       "    overflow: auto;\n",
       "  }\n",
       "  table, th, td {\n",
       "    border: 1px solid black;\n",
       "    border-collapse: collapse;\n",
       "  }\n",
       "  th, td {\n",
       "    padding: 5px;\n",
       "  }\n",
       "  th {\n",
       "    text-align: left;\n",
       "  }\n",
       "</style><div class='table-result-container'><table class='table-result'><thead style='background-color: white'><tr><th>sub_id</th><th>first_name</th><th>last_name</th><th>Street</th><th>Birth_date</th><th>Gender</th><th>Phone</th><th>Country</th><th>City</th><th>Zip Code</th><th>Subgrp_id</th><th>Elig_ind</th><th>eff_date</th><th>term_date</th></tr></thead><tbody><tr><td>0</td><td>27</td><td>0</td><td>0</td><td>0</td><td>0</td><td>3</td><td>0</td><td>0</td><td>0</td><td>2</td><td>4</td><td>0</td><td>0</td></tr></tbody></table></div>"
      ]
     },
     "metadata": {
      "application/vnd.databricks.v1+output": {
       "addedWidgets": {},
       "aggData": [],
       "aggError": "",
       "aggOverflow": false,
       "aggSchema": [],
       "aggSeriesLimitReached": false,
       "aggType": "",
       "arguments": {},
       "columnCustomDisplayInfos": {},
       "data": [
        [
         0,
         27,
         0,
         0,
         0,
         0,
         3,
         0,
         0,
         0,
         2,
         4,
         0,
         0
        ]
       ],
       "datasetInfos": [],
       "dbfsResultPath": null,
       "isJsonSchema": true,
       "metadata": {},
       "overflow": false,
       "plotOptions": {
        "customPlotOptions": {},
        "displayType": "table",
        "pivotAggregation": null,
        "pivotColumns": null,
        "xColumns": null,
        "yColumns": null
       },
       "removedWidgets": [],
       "schema": [
        {
         "metadata": "{}",
         "name": "sub_id",
         "type": "\"long\""
        },
        {
         "metadata": "{}",
         "name": "first_name",
         "type": "\"long\""
        },
        {
         "metadata": "{}",
         "name": "last_name",
         "type": "\"long\""
        },
        {
         "metadata": "{}",
         "name": "Street",
         "type": "\"long\""
        },
        {
         "metadata": "{}",
         "name": "Birth_date",
         "type": "\"long\""
        },
        {
         "metadata": "{}",
         "name": "Gender",
         "type": "\"long\""
        },
        {
         "metadata": "{}",
         "name": "Phone",
         "type": "\"long\""
        },
        {
         "metadata": "{}",
         "name": "Country",
         "type": "\"long\""
        },
        {
         "metadata": "{}",
         "name": "City",
         "type": "\"long\""
        },
        {
         "metadata": "{}",
         "name": "Zip Code",
         "type": "\"long\""
        },
        {
         "metadata": "{}",
         "name": "Subgrp_id",
         "type": "\"long\""
        },
        {
         "metadata": "{}",
         "name": "Elig_ind",
         "type": "\"long\""
        },
        {
         "metadata": "{}",
         "name": "eff_date",
         "type": "\"long\""
        },
        {
         "metadata": "{}",
         "name": "term_date",
         "type": "\"long\""
        }
       ],
       "type": "table"
      }
     },
     "output_type": "display_data"
    }
   ],
   "source": [
    "# Create a DataFrame with the count of null values for each column\n",
    "null_counts = data.select(\n",
    "    [count(when(isnull(col(c)) | col(c).isNull(), c)).alias(c) for c in data.columns]\n",
    ")\n",
    "\n",
    "# Display the DataFrame\n",
    "display(null_counts)"
   ]
  },
  {
   "cell_type": "code",
   "execution_count": 0,
   "metadata": {
    "application/vnd.databricks.v1+cell": {
     "cellMetadata": {
      "byteLimit": 2048000,
      "rowLimit": 10000
     },
     "inputWidgets": {},
     "nuid": "991a88a1-3763-4e25-af29-f3e0e8792d6a",
     "showTitle": false,
     "title": ""
    }
   },
   "outputs": [],
   "source": [
    "data = data.drop('Phone')"
   ]
  },
  {
   "cell_type": "code",
   "execution_count": 0,
   "metadata": {
    "application/vnd.databricks.v1+cell": {
     "cellMetadata": {
      "byteLimit": 2048000,
      "rowLimit": 10000
     },
     "inputWidgets": {},
     "nuid": "69f701ad-c9e8-4fbe-ba8c-709c28ef6ab1",
     "showTitle": false,
     "title": ""
    }
   },
   "outputs": [],
   "source": [
    "data = data.fillna({\"Elig_ind\": \"N\", \"first_name\" : \"Guest/NA\"})"
   ]
  },
  {
   "cell_type": "code",
   "execution_count": 0,
   "metadata": {
    "application/vnd.databricks.v1+cell": {
     "cellMetadata": {
      "byteLimit": 2048000,
      "rowLimit": 10000
     },
     "inputWidgets": {},
     "nuid": "b1e02aed-a083-49f5-a3ef-71fb52230929",
     "showTitle": false,
     "title": ""
    }
   },
   "outputs": [
    {
     "output_type": "display_data",
     "data": {
      "text/html": [
       "<style scoped>\n",
       "  .table-result-container {\n",
       "    max-height: 300px;\n",
       "    overflow: auto;\n",
       "  }\n",
       "  table, th, td {\n",
       "    border: 1px solid black;\n",
       "    border-collapse: collapse;\n",
       "  }\n",
       "  th, td {\n",
       "    padding: 5px;\n",
       "  }\n",
       "  th {\n",
       "    text-align: left;\n",
       "  }\n",
       "</style><div class='table-result-container'><table class='table-result'><thead style='background-color: white'><tr><th>sub_id</th><th>first_name</th><th>last_name</th><th>Street</th><th>Birth_date</th><th>Gender</th><th>Country</th><th>City</th><th>Zip Code</th><th>Subgrp_id</th><th>Elig_ind</th><th>eff_date</th><th>term_date</th></tr></thead><tbody><tr><td>0</td><td>0</td><td>0</td><td>0</td><td>0</td><td>0</td><td>0</td><td>0</td><td>0</td><td>2</td><td>0</td><td>0</td><td>0</td></tr></tbody></table></div>"
      ]
     },
     "metadata": {
      "application/vnd.databricks.v1+output": {
       "addedWidgets": {},
       "aggData": [],
       "aggError": "",
       "aggOverflow": false,
       "aggSchema": [],
       "aggSeriesLimitReached": false,
       "aggType": "",
       "arguments": {},
       "columnCustomDisplayInfos": {},
       "data": [
        [
         0,
         0,
         0,
         0,
         0,
         0,
         0,
         0,
         0,
         2,
         0,
         0,
         0
        ]
       ],
       "datasetInfos": [],
       "dbfsResultPath": null,
       "isJsonSchema": true,
       "metadata": {},
       "overflow": false,
       "plotOptions": {
        "customPlotOptions": {},
        "displayType": "table",
        "pivotAggregation": null,
        "pivotColumns": null,
        "xColumns": null,
        "yColumns": null
       },
       "removedWidgets": [],
       "schema": [
        {
         "metadata": "{}",
         "name": "sub_id",
         "type": "\"long\""
        },
        {
         "metadata": "{}",
         "name": "first_name",
         "type": "\"long\""
        },
        {
         "metadata": "{}",
         "name": "last_name",
         "type": "\"long\""
        },
        {
         "metadata": "{}",
         "name": "Street",
         "type": "\"long\""
        },
        {
         "metadata": "{}",
         "name": "Birth_date",
         "type": "\"long\""
        },
        {
         "metadata": "{}",
         "name": "Gender",
         "type": "\"long\""
        },
        {
         "metadata": "{}",
         "name": "Country",
         "type": "\"long\""
        },
        {
         "metadata": "{}",
         "name": "City",
         "type": "\"long\""
        },
        {
         "metadata": "{}",
         "name": "Zip Code",
         "type": "\"long\""
        },
        {
         "metadata": "{}",
         "name": "Subgrp_id",
         "type": "\"long\""
        },
        {
         "metadata": "{}",
         "name": "Elig_ind",
         "type": "\"long\""
        },
        {
         "metadata": "{}",
         "name": "eff_date",
         "type": "\"long\""
        },
        {
         "metadata": "{}",
         "name": "term_date",
         "type": "\"long\""
        }
       ],
       "type": "table"
      }
     },
     "output_type": "display_data"
    }
   ],
   "source": [
    "# Create a DataFrame with the count of null values for each column\n",
    "null_counts = data.select(\n",
    "    [count(when(isnull(col(c)) | col(c).isNull(), c)).alias(c) for c in data.columns]\n",
    ")\n",
    "\n",
    "# Display the DataFrame\n",
    "display(null_counts)"
   ]
  },
  {
   "cell_type": "code",
   "execution_count": 0,
   "metadata": {
    "application/vnd.databricks.v1+cell": {
     "cellMetadata": {
      "byteLimit": 2048000,
      "rowLimit": 10000
     },
     "inputWidgets": {},
     "nuid": "47e7ccba-a7ef-40b4-99ed-4816bfb4951e",
     "showTitle": false,
     "title": ""
    }
   },
   "outputs": [
    {
     "output_type": "display_data",
     "data": {
      "text/html": [
       "<style scoped>\n",
       "  .table-result-container {\n",
       "    max-height: 300px;\n",
       "    overflow: auto;\n",
       "  }\n",
       "  table, th, td {\n",
       "    border: 1px solid black;\n",
       "    border-collapse: collapse;\n",
       "  }\n",
       "  th, td {\n",
       "    padding: 5px;\n",
       "  }\n",
       "  th {\n",
       "    text-align: left;\n",
       "  }\n",
       "</style><div class='table-result-container'><table class='table-result'><thead style='background-color: white'><tr><th>sub_id</th><th>first_name</th><th>last_name</th><th>Street</th><th>Birth_date</th><th>Gender</th><th>Country</th><th>City</th><th>Zip Code</th><th>Subgrp_id</th><th>Elig_ind</th><th>eff_date</th><th>term_date</th></tr></thead><tbody><tr><td>SUBID10022</td><td>Prakash</td><td>Rao</td><td>Sachar</td><td>1923-09-15</td><td>Female</td><td>India</td><td>Kottayam</td><td>180680</td><td>null</td><td>N</td><td>1943-09-15</td><td>1948-10-19</td></tr><tr><td>SUBID10049</td><td>Paridhi</td><td>Yadav</td><td>Sant Path</td><td>1959-03-27</td><td>Female</td><td>India</td><td>Jabalpur</td><td>883754</td><td>null</td><td>N</td><td>1979-03-27</td><td>1985-06-01</td></tr></tbody></table></div>"
      ]
     },
     "metadata": {
      "application/vnd.databricks.v1+output": {
       "addedWidgets": {},
       "aggData": [],
       "aggError": "",
       "aggOverflow": false,
       "aggSchema": [],
       "aggSeriesLimitReached": false,
       "aggType": "",
       "arguments": {},
       "columnCustomDisplayInfos": {},
       "data": [
        [
         "SUBID10022",
         "Prakash",
         "Rao",
         "Sachar",
         "1923-09-15",
         "Female",
         "India",
         "Kottayam",
         180680,
         null,
         "N",
         "1943-09-15",
         "1948-10-19"
        ],
        [
         "SUBID10049",
         "Paridhi",
         "Yadav",
         "Sant Path",
         "1959-03-27",
         "Female",
         "India",
         "Jabalpur",
         883754,
         null,
         "N",
         "1979-03-27",
         "1985-06-01"
        ]
       ],
       "datasetInfos": [],
       "dbfsResultPath": null,
       "isJsonSchema": true,
       "metadata": {},
       "overflow": false,
       "plotOptions": {
        "customPlotOptions": {},
        "displayType": "table",
        "pivotAggregation": null,
        "pivotColumns": null,
        "xColumns": null,
        "yColumns": null
       },
       "removedWidgets": [],
       "schema": [
        {
         "metadata": "{}",
         "name": "sub_id",
         "type": "\"string\""
        },
        {
         "metadata": "{}",
         "name": "first_name",
         "type": "\"string\""
        },
        {
         "metadata": "{}",
         "name": "last_name",
         "type": "\"string\""
        },
        {
         "metadata": "{}",
         "name": "Street",
         "type": "\"string\""
        },
        {
         "metadata": "{\"__detected_date_formats\":\"d-M-yyyy\"}",
         "name": "Birth_date",
         "type": "\"date\""
        },
        {
         "metadata": "{}",
         "name": "Gender",
         "type": "\"string\""
        },
        {
         "metadata": "{}",
         "name": "Country",
         "type": "\"string\""
        },
        {
         "metadata": "{}",
         "name": "City",
         "type": "\"string\""
        },
        {
         "metadata": "{}",
         "name": "Zip Code",
         "type": "\"integer\""
        },
        {
         "metadata": "{}",
         "name": "Subgrp_id",
         "type": "\"string\""
        },
        {
         "metadata": "{}",
         "name": "Elig_ind",
         "type": "\"string\""
        },
        {
         "metadata": "{\"__detected_date_formats\":\"d-M-yyyy\"}",
         "name": "eff_date",
         "type": "\"date\""
        },
        {
         "metadata": "{\"__detected_date_formats\":\"d-M-yyyy\"}",
         "name": "term_date",
         "type": "\"date\""
        }
       ],
       "type": "table"
      }
     },
     "output_type": "display_data"
    }
   ],
   "source": [
    "data.select(\"*\").where(col(\"Subgrp_id\").isNull()).display()"
   ]
  },
  {
   "cell_type": "code",
   "execution_count": 0,
   "metadata": {
    "application/vnd.databricks.v1+cell": {
     "cellMetadata": {
      "byteLimit": 2048000,
      "rowLimit": 10000
     },
     "inputWidgets": {},
     "nuid": "cc1d0f7d-0cc1-424a-ba9b-300e03c4da46",
     "showTitle": false,
     "title": ""
    }
   },
   "outputs": [],
   "source": [
    "data = data.withColumn(\"Subgrp_id\", when(col(\"sub_id\")==\"SUBID10022\", 'S110').otherwise(col('Subgrp_id'))) \\\n",
    "        .withColumn(\"Subgrp_id\", when(col(\"sub_id\")==\"SUBID10049\", 'S107').otherwise(col('Subgrp_id')))"
   ]
  },
  {
   "cell_type": "code",
   "execution_count": 0,
   "metadata": {
    "application/vnd.databricks.v1+cell": {
     "cellMetadata": {
      "byteLimit": 2048000,
      "rowLimit": 10000
     },
     "inputWidgets": {},
     "nuid": "94c3941d-5037-43e5-8b65-c754c552c435",
     "showTitle": false,
     "title": ""
    }
   },
   "outputs": [
    {
     "output_type": "display_data",
     "data": {
      "text/html": [
       "<style scoped>\n",
       "  .table-result-container {\n",
       "    max-height: 300px;\n",
       "    overflow: auto;\n",
       "  }\n",
       "  table, th, td {\n",
       "    border: 1px solid black;\n",
       "    border-collapse: collapse;\n",
       "  }\n",
       "  th, td {\n",
       "    padding: 5px;\n",
       "  }\n",
       "  th {\n",
       "    text-align: left;\n",
       "  }\n",
       "</style><div class='table-result-container'><table class='table-result'><thead style='background-color: white'><tr><th>sub_id</th><th>first_name</th><th>last_name</th><th>Street</th><th>Birth_date</th><th>Gender</th><th>Country</th><th>City</th><th>Zip Code</th><th>Subgrp_id</th><th>Elig_ind</th><th>eff_date</th><th>term_date</th></tr></thead><tbody></tbody></table></div>"
      ]
     },
     "metadata": {
      "application/vnd.databricks.v1+output": {
       "addedWidgets": {},
       "aggData": [],
       "aggError": "",
       "aggOverflow": false,
       "aggSchema": [],
       "aggSeriesLimitReached": false,
       "aggType": "",
       "arguments": {},
       "columnCustomDisplayInfos": {},
       "data": [],
       "datasetInfos": [],
       "dbfsResultPath": null,
       "isJsonSchema": true,
       "metadata": {},
       "overflow": false,
       "plotOptions": {
        "customPlotOptions": {},
        "displayType": "table",
        "pivotAggregation": null,
        "pivotColumns": null,
        "xColumns": null,
        "yColumns": null
       },
       "removedWidgets": [],
       "schema": [
        {
         "metadata": "{}",
         "name": "sub_id",
         "type": "\"string\""
        },
        {
         "metadata": "{}",
         "name": "first_name",
         "type": "\"string\""
        },
        {
         "metadata": "{}",
         "name": "last_name",
         "type": "\"string\""
        },
        {
         "metadata": "{}",
         "name": "Street",
         "type": "\"string\""
        },
        {
         "metadata": "{\"__detected_date_formats\":\"d-M-yyyy\"}",
         "name": "Birth_date",
         "type": "\"date\""
        },
        {
         "metadata": "{}",
         "name": "Gender",
         "type": "\"string\""
        },
        {
         "metadata": "{}",
         "name": "Country",
         "type": "\"string\""
        },
        {
         "metadata": "{}",
         "name": "City",
         "type": "\"string\""
        },
        {
         "metadata": "{}",
         "name": "Zip Code",
         "type": "\"integer\""
        },
        {
         "metadata": "{}",
         "name": "Subgrp_id",
         "type": "\"string\""
        },
        {
         "metadata": "{}",
         "name": "Elig_ind",
         "type": "\"string\""
        },
        {
         "metadata": "{\"__detected_date_formats\":\"d-M-yyyy\"}",
         "name": "eff_date",
         "type": "\"date\""
        },
        {
         "metadata": "{\"__detected_date_formats\":\"d-M-yyyy\"}",
         "name": "term_date",
         "type": "\"date\""
        }
       ],
       "type": "table"
      }
     },
     "output_type": "display_data"
    }
   ],
   "source": [
    "data.select(\"*\").where(col(\"Subgrp_id\").isNull()).display()"
   ]
  },
  {
   "cell_type": "code",
   "execution_count": 0,
   "metadata": {
    "application/vnd.databricks.v1+cell": {
     "cellMetadata": {
      "byteLimit": 2048000,
      "rowLimit": 10000
     },
     "inputWidgets": {},
     "nuid": "d8a00b3d-74b4-4b40-a6fb-dd0a9e3dd48d",
     "showTitle": false,
     "title": ""
    }
   },
   "outputs": [],
   "source": [
    "data = data.withColumn(\"Subscriber_age\", (months_between(current_date(), col(\"Birth_date\"))/12).cast(\"int\"))"
   ]
  },
  {
   "cell_type": "code",
   "execution_count": 0,
   "metadata": {
    "application/vnd.databricks.v1+cell": {
     "cellMetadata": {
      "byteLimit": 2048000,
      "rowLimit": 10000
     },
     "inputWidgets": {},
     "nuid": "de53e7bc-380e-4f81-9911-fbad02c52ac1",
     "showTitle": false,
     "title": ""
    }
   },
   "outputs": [
    {
     "output_type": "display_data",
     "data": {
      "text/html": [
       "<style scoped>\n",
       "  .table-result-container {\n",
       "    max-height: 300px;\n",
       "    overflow: auto;\n",
       "  }\n",
       "  table, th, td {\n",
       "    border: 1px solid black;\n",
       "    border-collapse: collapse;\n",
       "  }\n",
       "  th, td {\n",
       "    padding: 5px;\n",
       "  }\n",
       "  th {\n",
       "    text-align: left;\n",
       "  }\n",
       "</style><div class='table-result-container'><table class='table-result'><thead style='background-color: white'><tr><th>sub_id</th><th>first_name</th><th>last_name</th><th>Street</th><th>Birth_date</th><th>Gender</th><th>Country</th><th>City</th><th>Zip Code</th><th>Subgrp_id</th><th>Elig_ind</th><th>eff_date</th><th>term_date</th><th>Subscriber_age</th></tr></thead><tbody><tr><td>SUBID10000</td><td>Harbir</td><td>Vishwakarma</td><td>Baria Marg</td><td>1924-06-30</td><td>Female</td><td>India</td><td>Rourkela</td><td>767058</td><td>S107</td><td>Y</td><td>1944-06-30</td><td>1954-01-14</td><td>100</td></tr><tr><td>SUBID10001</td><td>Brahmdev</td><td>Sonkar</td><td>Lala Marg</td><td>1948-12-20</td><td>Female</td><td>India</td><td>Tiruvottiyur</td><td>34639</td><td>S105</td><td>Y</td><td>1968-12-20</td><td>1970-05-16</td><td>75</td></tr><tr><td>SUBID10002</td><td>Ujjawal</td><td>Devi</td><td>Mammen Zila</td><td>1980-04-16</td><td>Male</td><td>India</td><td>Berhampur</td><td>914455</td><td>S106</td><td>N</td><td>2000-04-16</td><td>2008-05-04</td><td>44</td></tr><tr><td>SUBID10003</td><td>Ballari</td><td>Mishra</td><td>Sahni Zila</td><td>1969-09-25</td><td>Female</td><td>India</td><td>Bihar Sharif</td><td>91481</td><td>S104</td><td>N</td><td>1989-09-25</td><td>1995-06-05</td><td>54</td></tr><tr><td>SUBID10004</td><td>Devnath</td><td>Srivastav</td><td>Magar Zila</td><td>1946-05-01</td><td>Female</td><td>India</td><td>Bidhannagar</td><td>531742</td><td>S110</td><td>N</td><td>1966-05-01</td><td>1970-12-09</td><td>78</td></tr><tr><td>SUBID10005</td><td>Atasi</td><td>Seth</td><td>Khatri Nagar</td><td>1967-10-02</td><td>Male</td><td>India</td><td>Amravati</td><td>229062</td><td>S104</td><td>Y</td><td>1987-10-02</td><td>1995-02-13</td><td>56</td></tr><tr><td>SUBID1006</td><td>Manish</td><td>Maurya</td><td>Swaminathan Chowk</td><td>1967-06-06</td><td>Male</td><td>India</td><td>Panvel</td><td>438733</td><td>S109</td><td>N</td><td>1987-06-06</td><td>1995-03-21</td><td>57</td></tr><tr><td>SUBID10007</td><td>Aakar</td><td>Yadav</td><td>Swamy</td><td>1925-03-05</td><td>Female</td><td>India</td><td>Bihar Sharif</td><td>535907</td><td>S104</td><td>N</td><td>1945-03-05</td><td>1946-11-07</td><td>99</td></tr><tr><td>SUBID10008</td><td>Gurudas</td><td>Gupta</td><td>Sarin Nagar</td><td>1945-05-06</td><td>Male</td><td>India</td><td>Kamarhati</td><td>933226</td><td>S103</td><td>Y</td><td>1965-05-06</td><td>1970-09-16</td><td>79</td></tr><tr><td>SUBID10009</td><td>Guest/NA</td><td>Gupta</td><td>Thakur Circle</td><td>1925-06-12</td><td>Male</td><td>India</td><td>Bangalore</td><td>957469</td><td>S105</td><td>Y</td><td>1945-06-12</td><td>1953-08-30</td><td>99</td></tr><tr><td>SUBID1010</td><td>Guest/NA</td><td>Divedi</td><td>Dhillon</td><td>1976-02-03</td><td>Male</td><td>India</td><td>Rajkot</td><td>911319</td><td>S102</td><td>Y</td><td>1996-02-03</td><td>2002-01-27</td><td>48</td></tr><tr><td>SUBID10011</td><td>Guest/NA</td><td>Vishwakarma</td><td>Rajagopalan</td><td>1955-01-22</td><td>Female</td><td>India</td><td>Ghaziabad</td><td>337042</td><td>S106</td><td>N</td><td>1975-01-22</td><td>1978-11-02</td><td>69</td></tr><tr><td>SUBID10012</td><td>Dharmadaas</td><td>Tiwari</td><td>Rama</td><td>1964-04-29</td><td>Male</td><td>India</td><td>Bhalswa Jahangir Pur</td><td>430793</td><td>S103</td><td>N</td><td>1984-04-29</td><td>1988-02-07</td><td>60</td></tr><tr><td>SUBID10013</td><td>Brahmvir</td><td>Rai</td><td>Shah Path</td><td>1991-11-11</td><td>Male</td><td>India</td><td>Ambala</td><td>249898</td><td>S106</td><td>N</td><td>2011-11-11</td><td>2020-05-23</td><td>32</td></tr><tr><td>SUBID10014</td><td>Guest/NA</td><td>Srivastav</td><td>Chandra Path</td><td>1981-01-25</td><td>Female</td><td>India</td><td>Surendranagar Dudhrej</td><td>111966</td><td>S102</td><td>N</td><td>2001-01-25</td><td>2005-07-13</td><td>43</td></tr><tr><td>SUBID10015</td><td>Bhagvan</td><td>Srivastav</td><td>Edwin</td><td>1966-07-24</td><td>Female</td><td>India</td><td>Bhimavaram</td><td>436513</td><td>S105</td><td>Y</td><td>1986-07-24</td><td>1988-02-04</td><td>58</td></tr><tr><td>SUBID10016</td><td>Amritkala</td><td>Srivastav</td><td>Guha Path</td><td>1933-11-20</td><td>Female</td><td>India</td><td>Meerut</td><td>863467</td><td>S106</td><td>Y</td><td>1953-11-20</td><td>1955-07-29</td><td>90</td></tr><tr><td>SUBID10017</td><td>Bandhu</td><td>Seth</td><td>Varughese</td><td>1996-10-15</td><td>Male</td><td>India</td><td>Chinsurah</td><td>136713</td><td>S108</td><td>N</td><td>2016-10-15</td><td>2018-06-08</td><td>27</td></tr><tr><td>SUBID10018</td><td>Bhagavaana</td><td>Kumar</td><td>Kulkarni Zila</td><td>1935-09-16</td><td>Female</td><td>India</td><td>Shahjahanpur</td><td>597276</td><td>S101</td><td>N</td><td>1955-09-16</td><td>1958-05-31</td><td>88</td></tr><tr><td>SUBID10019</td><td>Guest/NA</td><td>Maurya</td><td>Sharaf Nagar</td><td>1924-11-09</td><td>Female</td><td>India</td><td>Jabalpur</td><td>958538</td><td>S104</td><td>N</td><td>1944-11-09</td><td>1951-10-14</td><td>99</td></tr><tr><td>SUBID1020</td><td>Umang</td><td>Srivastav</td><td>Balay Chowk</td><td>1963-07-14</td><td>Female</td><td>India</td><td>Haridwar</td><td>181692</td><td>S109</td><td>Y</td><td>1983-07-14</td><td>1986-01-15</td><td>61</td></tr><tr><td>SUBID1021</td><td>Darsana</td><td>Yadav</td><td>Upadhyay Zila</td><td>1932-05-29</td><td>Male</td><td>India</td><td>Dibrugarh</td><td>187414</td><td>S109</td><td>Y</td><td>1952-05-29</td><td>1953-10-14</td><td>92</td></tr><tr><td>SUBID10022</td><td>Prakash</td><td>Rao</td><td>Sachar</td><td>1923-09-15</td><td>Female</td><td>India</td><td>Kottayam</td><td>180680</td><td>S110</td><td>N</td><td>1943-09-15</td><td>1948-10-19</td><td>100</td></tr><tr><td>SUBID10023</td><td>Vaijayanti</td><td>Pratap</td><td>Khalsa Nagar</td><td>1920-11-13</td><td>Male</td><td>India</td><td>Mira-Bhayandar</td><td>419190</td><td>S102</td><td>Y</td><td>1940-11-13</td><td>1946-03-10</td><td>103</td></tr><tr><td>SUBID10024</td><td>Menakshi</td><td>Seth</td><td>Wable Street</td><td>1987-03-06</td><td>Male</td><td>India</td><td>Kamarhati</td><td>882577</td><td>S107</td><td>N</td><td>2007-03-06</td><td>2014-02-25</td><td>37</td></tr><tr><td>SUBID10025</td><td>Guest/NA</td><td>Tiwari</td><td>Sha Chowk</td><td>1955-12-24</td><td>Male</td><td>India</td><td>Karimnagar</td><td>567762</td><td>S106</td><td>N</td><td>1975-12-24</td><td>1983-02-03</td><td>68</td></tr><tr><td>SUBID10026</td><td>Ekant</td><td>Sonkar</td><td>Walla Road</td><td>1943-08-13</td><td>Male</td><td>India</td><td>Berhampore</td><td>948589</td><td>S110</td><td>Y</td><td>1963-08-13</td><td>1967-05-29</td><td>81</td></tr><tr><td>SUBID10027</td><td>Chancharik</td><td>Pandey</td><td>Karan Ganj</td><td>1983-09-05</td><td>Male</td><td>India</td><td>Chapra</td><td>154667</td><td>S109</td><td>N</td><td>2003-09-05</td><td>2011-06-12</td><td>41</td></tr><tr><td>SUBID10028</td><td>Pushti</td><td>Pandit</td><td>Deol Path</td><td>1935-10-15</td><td>Female</td><td>India</td><td>Morbi</td><td>284168</td><td>S106</td><td>N</td><td>1955-10-15</td><td>1959-06-04</td><td>88</td></tr><tr><td>SUBID10029</td><td>Swati</td><td>Seth</td><td>Kant Marg</td><td>1987-12-11</td><td>Female</td><td>India</td><td>Amravati</td><td>932221</td><td>S102</td><td>N</td><td>2007-12-11</td><td>2011-10-17</td><td>36</td></tr><tr><td>SUBID1030</td><td>Upasana</td><td>Pandey</td><td>Seth Chowk</td><td>1956-06-01</td><td>Male</td><td>India</td><td>Hyderabad</td><td>234823</td><td>S102</td><td>N</td><td>1976-06-01</td><td>1981-02-14</td><td>68</td></tr><tr><td>SUBID10031</td><td>Kanhaiya</td><td>Lal</td><td>Savant Nagar</td><td>1954-10-19</td><td>Female</td><td>India</td><td>Mysore</td><td>638433</td><td>S104</td><td>Y</td><td>1974-10-19</td><td>1977-01-03</td><td>69</td></tr><tr><td>SUBID1032</td><td>Guest/NA</td><td>Seth</td><td>Sandhu Chowk</td><td>1968-07-02</td><td>Female</td><td>India</td><td>Gwalior</td><td>611826</td><td>S110</td><td>N</td><td>1988-07-02</td><td>1991-03-14</td><td>56</td></tr><tr><td>SUBID10033</td><td>Gensho</td><td>Srivastav</td><td>Korpal Ganj</td><td>1992-06-06</td><td>Male</td><td>India</td><td>Ludhiana</td><td>835018</td><td>S101</td><td>N</td><td>2012-06-06</td><td>2022-01-09</td><td>32</td></tr><tr><td>SUBID1034</td><td>Gopal</td><td>Das</td><td>Saini</td><td>1986-05-14</td><td>Male</td><td>India</td><td>Raebareli</td><td>176221</td><td>S101</td><td>N</td><td>2006-05-14</td><td>2011-04-08</td><td>38</td></tr><tr><td>SUBID10035</td><td>Dheeman</td><td>Tiwari</td><td>Dube Marg</td><td>1945-05-04</td><td>Male</td><td>India</td><td>Mysore</td><td>811970</td><td>S101</td><td>Y</td><td>1965-05-04</td><td>1973-11-13</td><td>79</td></tr><tr><td>SUBID1036</td><td>Upasana</td><td>Thakur</td><td>Vasa Ganj</td><td>1927-10-03</td><td>Female</td><td>India</td><td>Ratlam</td><td>326733</td><td>S108</td><td>N</td><td>1947-10-03</td><td>1951-02-20</td><td>96</td></tr><tr><td>SUBID1037</td><td>Guest/NA</td><td>Rajput</td><td>Shere Chowk</td><td>1948-11-10</td><td>Male</td><td>India</td><td>Vadodara</td><td>877443</td><td>S101</td><td>Y</td><td>1968-11-10</td><td>1973-12-25</td><td>75</td></tr><tr><td>SUBID1038</td><td>Guest/NA</td><td>Thakur</td><td>Rastogi Street</td><td>1955-04-07</td><td>Female</td><td>India</td><td>Vijayawada</td><td>438940</td><td>S104</td><td>N</td><td>1975-04-07</td><td>1982-01-25</td><td>69</td></tr><tr><td>SUBID10039</td><td>Madhubala</td><td>Yadav</td><td>Sangha Marg</td><td>1937-01-11</td><td>Male</td><td>India</td><td>Jaunpur</td><td>624102</td><td>S104</td><td>Y</td><td>1957-01-11</td><td>1965-10-09</td><td>87</td></tr><tr><td>SUBID10040</td><td>Anjushree</td><td>Pandey</td><td>Vora Ganj</td><td>1976-07-04</td><td>Male</td><td>India</td><td>Ghaziabad</td><td>782221</td><td>S105</td><td>N</td><td>1996-07-04</td><td>1999-02-17</td><td>48</td></tr><tr><td>SUBID1041</td><td>Guest/NA</td><td>Rajput</td><td>Sinha Path</td><td>1930-11-25</td><td>Female</td><td>India</td><td>Agartala</td><td>303503</td><td>S110</td><td>Y</td><td>1950-11-25</td><td>1957-09-14</td><td>93</td></tr><tr><td>SUBID10042</td><td>Chakrika</td><td>Sonkar</td><td>Bansal Circle</td><td>1964-08-05</td><td>Male</td><td>India</td><td>Ranchi</td><td>503290</td><td>S108</td><td>Y</td><td>1984-08-05</td><td>1992-09-09</td><td>60</td></tr><tr><td>SUBID1043</td><td>Saroj</td><td>Pandit</td><td>Sathe Zila</td><td>1942-08-26</td><td>Female</td><td>India</td><td>Muzaffarpur</td><td>130486</td><td>S103</td><td>Y</td><td>1962-08-26</td><td>1964-08-29</td><td>82</td></tr><tr><td>SUBID1044</td><td>Ayushmati</td><td>Vishwakarma</td><td>Balakrishnan Street</td><td>1932-09-20</td><td>Male</td><td>India</td><td>Satna</td><td>131247</td><td>S108</td><td>N</td><td>1952-09-20</td><td>1961-01-24</td><td>91</td></tr><tr><td>SUBID1045</td><td>Drashti</td><td>Divedi</td><td>Wadhwa</td><td>1926-07-03</td><td>Male</td><td>India</td><td>Saharsa</td><td>581568</td><td>S104</td><td>Y</td><td>1946-07-03</td><td>1952-11-27</td><td>98</td></tr><tr><td>SUBID10046</td><td>Aayushmaan</td><td>Maurya</td><td>Johal Nagar</td><td>1983-11-14</td><td>Female</td><td>India</td><td>Mehsana</td><td>987281</td><td>S104</td><td>Y</td><td>2003-11-14</td><td>2012-10-22</td><td>40</td></tr><tr><td>SUBID1047</td><td>Guest/NA</td><td>Rai</td><td>Sagar Chowk</td><td>1931-02-04</td><td>Male</td><td>India</td><td>Shivpuri</td><td>794170</td><td>S109</td><td>Y</td><td>1951-02-04</td><td>1955-07-14</td><td>93</td></tr><tr><td>SUBID10048</td><td>Chitranjan</td><td>Mishra</td><td>Madan Nagar</td><td>1925-09-09</td><td>Female</td><td>India</td><td>Morbi</td><td>945697</td><td>S108</td><td>N</td><td>1945-09-09</td><td>1952-06-21</td><td>99</td></tr><tr><td>SUBID10049</td><td>Paridhi</td><td>Yadav</td><td>Sant Path</td><td>1959-03-27</td><td>Female</td><td>India</td><td>Jabalpur</td><td>883754</td><td>S107</td><td>N</td><td>1979-03-27</td><td>1985-06-01</td><td>65</td></tr><tr><td>SUBID10050</td><td>Deependu</td><td>Gupta</td><td>Banik Ganj</td><td>1952-02-13</td><td>Female</td><td>India</td><td>Bareilly</td><td>417855</td><td>S102</td><td>Y</td><td>1972-02-13</td><td>1976-08-23</td><td>72</td></tr><tr><td>SUBID10051</td><td>Guest/NA</td><td>Rajput</td><td>Chauhan Chowk</td><td>1946-10-17</td><td>Male</td><td>India</td><td>Baranagar</td><td>765234</td><td>S103</td><td>Y</td><td>1966-10-17</td><td>1969-06-26</td><td>77</td></tr><tr><td>SUBID10052</td><td>Laksman</td><td>Rao</td><td>Sood Marg</td><td>1939-05-26</td><td>Female</td><td>India</td><td>Ahmednagar</td><td>117923</td><td>S101</td><td>Y</td><td>1959-05-26</td><td>1960-11-07</td><td>85</td></tr><tr><td>SUBID10053</td><td>Guest/NA</td><td>Sonkar</td><td>Shetty Marg</td><td>1988-06-27</td><td>Male</td><td>India</td><td>Pali</td><td>383290</td><td>S102</td><td>Y</td><td>2008-06-27</td><td>2016-10-30</td><td>36</td></tr><tr><td>SUBID10054</td><td>Shivakari</td><td>Pratap</td><td>Dugar Road</td><td>1944-11-02</td><td>Female</td><td>India</td><td>Hapur</td><td>28202</td><td>S104</td><td>N</td><td>1964-11-02</td><td>1967-06-15</td><td>79</td></tr><tr><td>SUBID10055</td><td>Madhu</td><td>Thakur</td><td>Sule Marg</td><td>1984-10-23</td><td>Male</td><td>India</td><td>Udaipur</td><td>565423</td><td>S107</td><td>N</td><td>2004-10-23</td><td>2008-07-10</td><td>39</td></tr><tr><td>SUBID10056</td><td>Chanak</td><td>Gupta</td><td>Shetty Nagar</td><td>1954-08-27</td><td>Male</td><td>India</td><td>Jalandhar</td><td>602989</td><td>S105</td><td>N</td><td>1974-08-27</td><td>1982-06-15</td><td>70</td></tr><tr><td>SUBID10057</td><td>Chittesh</td><td>Pandey</td><td>Mangal Chowk</td><td>1949-10-17</td><td>Male</td><td>India</td><td>Thoothukudi</td><td>666415</td><td>S109</td><td>Y</td><td>1969-10-17</td><td>1975-10-08</td><td>74</td></tr><tr><td>SUBID1058</td><td>Nawal</td><td>Rajput</td><td>Deol Nagar</td><td>1940-01-22</td><td>Male</td><td>India</td><td>Bhopal</td><td>791168</td><td>S106</td><td>N</td><td>1960-01-22</td><td>1969-04-18</td><td>84</td></tr><tr><td>SUBID10059</td><td>Gajabahu</td><td>Singh</td><td>Kara</td><td>1959-03-15</td><td>Male</td><td>India</td><td>Udupi</td><td>637221</td><td>S101</td><td>Y</td><td>1979-03-15</td><td>1986-07-05</td><td>65</td></tr><tr><td>SUBID10060</td><td>Jitesh</td><td>Vishwakarma</td><td>Gopal Path</td><td>1983-02-03</td><td>Male</td><td>India</td><td>Karimnagar</td><td>124564</td><td>S110</td><td>Y</td><td>2003-02-03</td><td>2008-04-30</td><td>41</td></tr><tr><td>SUBID10061</td><td>Guest/NA</td><td>Rajput</td><td>Anand Path</td><td>1966-09-25</td><td>Female</td><td>India</td><td>Kharagpur</td><td>934938</td><td>S103</td><td>N</td><td>1986-09-25</td><td>1991-06-03</td><td>57</td></tr><tr><td>SUBID1062</td><td>Lalit</td><td>Mishra</td><td>Comar Street</td><td>1924-02-15</td><td>Female</td><td>India</td><td>Tinsukia</td><td>963770</td><td>S103</td><td>N</td><td>1944-02-15</td><td>1947-09-28</td><td>100</td></tr><tr><td>SUBID1063</td><td>Anshuk</td><td>Srivastav</td><td>Sridhar Path</td><td>1991-06-17</td><td>Male</td><td>India</td><td>Uluberia</td><td>270985</td><td>S105</td><td>N</td><td>2011-06-17</td><td>2014-07-11</td><td>33</td></tr><tr><td>SUBID10064</td><td>Guest/NA</td><td>Pandey</td><td>Mangat Path</td><td>1994-01-13</td><td>Male</td><td>India</td><td>Panihati</td><td>643791</td><td>S110</td><td>N</td><td>2014-01-13</td><td>2019-02-24</td><td>30</td></tr><tr><td>SUBID1065</td><td>Dipesh</td><td>Mishra</td><td>Char Path</td><td>1949-04-01</td><td>Female</td><td>India</td><td>Kochi</td><td>31269</td><td>S103</td><td>Y</td><td>1969-04-01</td><td>1970-06-02</td><td>75</td></tr><tr><td>SUBID10066</td><td>Guest/NA</td><td>Seth</td><td>Chaudhuri Marg</td><td>1930-09-01</td><td>Male</td><td>India</td><td>Kolhapur</td><td>597470</td><td>S102</td><td>N</td><td>1950-09-01</td><td>1957-12-01</td><td>94</td></tr><tr><td>SUBID1067</td><td>Kishan</td><td>Rao</td><td>Badal Nagar</td><td>1923-05-12</td><td>Male</td><td>India</td><td>Srikakulam</td><td>703899</td><td>S110</td><td>Y</td><td>1943-05-12</td><td>1946-09-20</td><td>101</td></tr><tr><td>SUBID10068</td><td>Guest/NA</td><td>Mishra</td><td>Bath Nagar</td><td>1927-02-26</td><td>Female</td><td>India</td><td>Ambarnath</td><td>766224</td><td>S110</td><td>N</td><td>1947-02-26</td><td>1948-03-30</td><td>97</td></tr><tr><td>SUBID10069</td><td>Bhageeratha</td><td>Srivastav</td><td>Das Ganj</td><td>1973-03-21</td><td>Male</td><td>India</td><td>Sonipat</td><td>695316</td><td>S103</td><td>Y</td><td>1993-03-21</td><td>1997-08-01</td><td>51</td></tr><tr><td>SUBID10070</td><td>Balaaditya</td><td>Gupta</td><td>Varty Road</td><td>1923-11-02</td><td>Male</td><td>India</td><td>Hajipur</td><td>3526</td><td>S109</td><td>N</td><td>1943-11-02</td><td>1952-09-24</td><td>100</td></tr><tr><td>SUBID10071</td><td>Guest/NA</td><td>Rai</td><td>Choudhury Chowk</td><td>1941-12-26</td><td>Female</td><td>India</td><td>Vellore</td><td>239532</td><td>S101</td><td>N</td><td>1961-12-26</td><td>1969-02-23</td><td>82</td></tr><tr><td>SUBID10072</td><td>Gopal</td><td>Srivastav</td><td>Desai Street</td><td>1936-03-11</td><td>Female</td><td>India</td><td>Bidhannagar</td><td>761800</td><td>S103</td><td>Y</td><td>1956-03-11</td><td>1964-07-28</td><td>88</td></tr><tr><td>SUBID1073</td><td>Virender</td><td>Maurrya</td><td>Chakrabarti</td><td>1936-10-27</td><td>Male</td><td>India</td><td>Bhusawal</td><td>374302</td><td>S104</td><td>N</td><td>1956-10-27</td><td>1961-04-27</td><td>87</td></tr><tr><td>SUBID10074</td><td>Guest/NA</td><td>Singh</td><td>Kalla Path</td><td>1963-11-21</td><td>Male</td><td>India</td><td>Bokaro</td><td>866319</td><td>S105</td><td>Y</td><td>1983-11-21</td><td>1985-09-29</td><td>60</td></tr><tr><td>SUBID10075</td><td>Guest/NA</td><td>Singh</td><td>Iyengar Nagar</td><td>1956-01-29</td><td>Male</td><td>India</td><td>Navi Mumbai</td><td>836175</td><td>S107</td><td>N</td><td>1976-01-29</td><td>1979-05-25</td><td>68</td></tr><tr><td>SUBID10076</td><td>Mamta</td><td>Tiwari</td><td>Batra</td><td>1964-12-21</td><td>Female</td><td>India</td><td>Secunderabad</td><td>123181</td><td>S104</td><td>N</td><td>1984-12-21</td><td>1987-01-08</td><td>59</td></tr><tr><td>SUBID10077</td><td>Girija</td><td>Maurrya</td><td>Iyengar Road</td><td>1933-04-25</td><td>Male</td><td>India</td><td>Jaipur</td><td>204379</td><td>S105</td><td>N</td><td>1953-04-25</td><td>1963-04-18</td><td>91</td></tr><tr><td>SUBID10078</td><td>Aaraadhana</td><td>Rao</td><td>Raval Nagar</td><td>1980-02-07</td><td>Male</td><td>India</td><td>Jhansi</td><td>429941</td><td>S108</td><td>N</td><td>2000-02-07</td><td>2005-02-06</td><td>44</td></tr><tr><td>SUBID10079</td><td>Shahnawaz</td><td>Mishra</td><td>Agate Path</td><td>1971-06-24</td><td>Female</td><td>India</td><td>Rampur</td><td>528893</td><td>S102</td><td>Y</td><td>1991-06-24</td><td>2000-09-13</td><td>53</td></tr><tr><td>SUBID10080</td><td>Tej</td><td>Sonkar</td><td>Sarraf Chowk</td><td>1942-06-11</td><td>Male</td><td>India</td><td>Haridwar</td><td>506221</td><td>S105</td><td>Y</td><td>1962-06-11</td><td>1964-10-14</td><td>82</td></tr><tr><td>SUBID10081</td><td>Mansi</td><td>Divedi</td><td>Bhattacharyya Road</td><td>1947-03-20</td><td>Female</td><td>India</td><td>Hosur</td><td>995152</td><td>S105</td><td>Y</td><td>1967-03-20</td><td>1971-07-25</td><td>77</td></tr><tr><td>SUBID10082</td><td>Girika</td><td>Thakur</td><td>Sinha Zila</td><td>1968-11-03</td><td>Female</td><td>India</td><td>Hospet</td><td>683614</td><td>S102</td><td>N</td><td>1988-11-03</td><td>1992-01-21</td><td>55</td></tr><tr><td>SUBID10083</td><td>Bhilangana</td><td>Pandit</td><td>Ramachandran Path</td><td>1995-01-04</td><td>Female</td><td>India</td><td>Fatehpur</td><td>359466</td><td>S109</td><td>Y</td><td>2015-01-04</td><td>2017-10-05</td><td>29</td></tr><tr><td>SUBID10084</td><td>Guest/NA</td><td>Thakur</td><td>Raval Zila</td><td>1924-06-07</td><td>Female</td><td>India</td><td>Bhavnagar</td><td>464111</td><td>S107</td><td>Y</td><td>1944-06-07</td><td>1952-05-22</td><td>100</td></tr><tr><td>SUBID10085</td><td>Sukanya</td><td>Sonkar</td><td>Sangha Street</td><td>1942-01-16</td><td>Female</td><td>India</td><td>Vijayanagaram</td><td>226215</td><td>S101</td><td>N</td><td>1962-01-16</td><td>1967-04-10</td><td>82</td></tr><tr><td>SUBID1086</td><td>Banita</td><td>Rao</td><td>Thakur</td><td>1979-01-28</td><td>Male</td><td>India</td><td>Ghaziabad</td><td>907613</td><td>S109</td><td>N</td><td>1999-01-28</td><td>2000-09-05</td><td>45</td></tr><tr><td>SUBID1087</td><td>Guest/NA</td><td>Pandit</td><td>Srivastava Path</td><td>1924-12-10</td><td>Female</td><td>India</td><td>Sambhal</td><td>279219</td><td>S103</td><td>N</td><td>1944-12-10</td><td>1951-07-16</td><td>99</td></tr><tr><td>SUBID10088</td><td>Guest/NA</td><td>Rajput</td><td>Dua Zila</td><td>1922-07-30</td><td>Female</td><td>India</td><td>Tadipatri</td><td>743449</td><td>S110</td><td>N</td><td>1942-07-30</td><td>1949-06-07</td><td>102</td></tr><tr><td>SUBID10089</td><td>Dhuha</td><td>Tiwari</td><td>Aggarwal Street</td><td>1952-08-21</td><td>Male</td><td>India</td><td>Rampur</td><td>492137</td><td>S104</td><td>N</td><td>1972-08-21</td><td>1981-05-13</td><td>72</td></tr><tr><td>SUBID10090</td><td>Guest/NA</td><td>Mishra</td><td>Chandran Nagar</td><td>1938-06-07</td><td>Female</td><td>India</td><td>Sikar</td><td>564747</td><td>S101</td><td>Y</td><td>1958-06-07</td><td>1967-08-23</td><td>86</td></tr><tr><td>SUBID1091</td><td>Guest/NA</td><td>Thakur</td><td>Bala</td><td>1930-12-31</td><td>Male</td><td>India</td><td>Kamarhati</td><td>682652</td><td>S110</td><td>Y</td><td>1950-12-31</td><td>1958-06-21</td><td>93</td></tr><tr><td>SUBID10092</td><td>Guest/NA</td><td>Rai</td><td>Karan Street</td><td>1940-08-22</td><td>Others</td><td>India</td><td>Ghaziabad</td><td>79586</td><td>S108</td><td>N</td><td>1960-08-22</td><td>1966-10-06</td><td>84</td></tr><tr><td>SUBID10093</td><td>Chandavarman</td><td>Singh</td><td>Sarkar Circle</td><td>1997-05-10</td><td>Others</td><td>India</td><td>Navi Mumbai</td><td>83240</td><td>S110</td><td>N</td><td>2017-05-10</td><td>2022-08-27</td><td>27</td></tr><tr><td>SUBID10094</td><td>Charanpal</td><td>Yadav</td><td>Sehgal Circle</td><td>1986-10-12</td><td>Male</td><td>India</td><td>Gurgaon</td><td>640326</td><td>S109</td><td>Y</td><td>2006-10-12</td><td>2016-05-13</td><td>37</td></tr><tr><td>SUBID10095</td><td>Ekaaksh</td><td>Rai</td><td>Bansal Ganj</td><td>1933-12-02</td><td>Others</td><td>India</td><td>Pimpri-Chinchwad</td><td>158186</td><td>S107</td><td>N</td><td>1953-12-02</td><td>1960-07-29</td><td>90</td></tr><tr><td>SUBID10096</td><td>Chanak</td><td>Sonkar</td><td>Kaur</td><td>1959-04-07</td><td>Others</td><td>India</td><td>Raurkela Industrial Township</td><td>899590</td><td>S101</td><td>Y</td><td>1979-04-07</td><td>1986-03-07</td><td>65</td></tr><tr><td>SUBID10097</td><td>Guest/NA</td><td>Sonkar</td><td>Rana Ganj</td><td>1940-02-04</td><td>Others</td><td>India</td><td>Mira-Bhayandar</td><td>896586</td><td>S107</td><td>Y</td><td>1960-02-04</td><td>1965-01-12</td><td>84</td></tr><tr><td>SUBID1098</td><td>Pushkar</td><td>Kumar</td><td>Sodhi Zila</td><td>1934-10-05</td><td>Others</td><td>India</td><td>Korba</td><td>910732</td><td>S107</td><td>Y</td><td>1954-10-05</td><td>1961-04-05</td><td>89</td></tr><tr><td>SUBID10099</td><td>Shikha</td><td>Srivastav</td><td>Ahuja Road</td><td>1970-09-06</td><td>Others</td><td>India</td><td>Nanded</td><td>101500</td><td>S109</td><td>Y</td><td>1990-09-06</td><td>1997-11-27</td><td>54</td></tr></tbody></table></div>"
      ]
     },
     "metadata": {
      "application/vnd.databricks.v1+output": {
       "addedWidgets": {},
       "aggData": [],
       "aggError": "",
       "aggOverflow": false,
       "aggSchema": [],
       "aggSeriesLimitReached": false,
       "aggType": "",
       "arguments": {},
       "columnCustomDisplayInfos": {},
       "data": [
        [
         "SUBID10000",
         "Harbir",
         "Vishwakarma",
         "Baria Marg",
         "1924-06-30",
         "Female",
         "India",
         "Rourkela",
         767058,
         "S107",
         "Y",
         "1944-06-30",
         "1954-01-14",
         100
        ],
        [
         "SUBID10001",
         "Brahmdev",
         "Sonkar",
         "Lala Marg",
         "1948-12-20",
         "Female",
         "India",
         "Tiruvottiyur",
         34639,
         "S105",
         "Y",
         "1968-12-20",
         "1970-05-16",
         75
        ],
        [
         "SUBID10002",
         "Ujjawal",
         "Devi",
         "Mammen Zila",
         "1980-04-16",
         "Male",
         "India",
         "Berhampur",
         914455,
         "S106",
         "N",
         "2000-04-16",
         "2008-05-04",
         44
        ],
        [
         "SUBID10003",
         "Ballari",
         "Mishra",
         "Sahni Zila",
         "1969-09-25",
         "Female",
         "India",
         "Bihar Sharif",
         91481,
         "S104",
         "N",
         "1989-09-25",
         "1995-06-05",
         54
        ],
        [
         "SUBID10004",
         "Devnath",
         "Srivastav",
         "Magar Zila",
         "1946-05-01",
         "Female",
         "India",
         "Bidhannagar",
         531742,
         "S110",
         "N",
         "1966-05-01",
         "1970-12-09",
         78
        ],
        [
         "SUBID10005",
         "Atasi",
         "Seth",
         "Khatri Nagar",
         "1967-10-02",
         "Male",
         "India",
         "Amravati",
         229062,
         "S104",
         "Y",
         "1987-10-02",
         "1995-02-13",
         56
        ],
        [
         "SUBID1006",
         "Manish",
         "Maurya",
         "Swaminathan Chowk",
         "1967-06-06",
         "Male",
         "India",
         "Panvel",
         438733,
         "S109",
         "N",
         "1987-06-06",
         "1995-03-21",
         57
        ],
        [
         "SUBID10007",
         "Aakar",
         "Yadav",
         "Swamy",
         "1925-03-05",
         "Female",
         "India",
         "Bihar Sharif",
         535907,
         "S104",
         "N",
         "1945-03-05",
         "1946-11-07",
         99
        ],
        [
         "SUBID10008",
         "Gurudas",
         "Gupta",
         "Sarin Nagar",
         "1945-05-06",
         "Male",
         "India",
         "Kamarhati",
         933226,
         "S103",
         "Y",
         "1965-05-06",
         "1970-09-16",
         79
        ],
        [
         "SUBID10009",
         "Guest/NA",
         "Gupta",
         "Thakur Circle",
         "1925-06-12",
         "Male",
         "India",
         "Bangalore",
         957469,
         "S105",
         "Y",
         "1945-06-12",
         "1953-08-30",
         99
        ],
        [
         "SUBID1010",
         "Guest/NA",
         "Divedi",
         "Dhillon",
         "1976-02-03",
         "Male",
         "India",
         "Rajkot",
         911319,
         "S102",
         "Y",
         "1996-02-03",
         "2002-01-27",
         48
        ],
        [
         "SUBID10011",
         "Guest/NA",
         "Vishwakarma",
         "Rajagopalan",
         "1955-01-22",
         "Female",
         "India",
         "Ghaziabad",
         337042,
         "S106",
         "N",
         "1975-01-22",
         "1978-11-02",
         69
        ],
        [
         "SUBID10012",
         "Dharmadaas",
         "Tiwari",
         "Rama",
         "1964-04-29",
         "Male",
         "India",
         "Bhalswa Jahangir Pur",
         430793,
         "S103",
         "N",
         "1984-04-29",
         "1988-02-07",
         60
        ],
        [
         "SUBID10013",
         "Brahmvir",
         "Rai",
         "Shah Path",
         "1991-11-11",
         "Male",
         "India",
         "Ambala",
         249898,
         "S106",
         "N",
         "2011-11-11",
         "2020-05-23",
         32
        ],
        [
         "SUBID10014",
         "Guest/NA",
         "Srivastav",
         "Chandra Path",
         "1981-01-25",
         "Female",
         "India",
         "Surendranagar Dudhrej",
         111966,
         "S102",
         "N",
         "2001-01-25",
         "2005-07-13",
         43
        ],
        [
         "SUBID10015",
         "Bhagvan",
         "Srivastav",
         "Edwin",
         "1966-07-24",
         "Female",
         "India",
         "Bhimavaram",
         436513,
         "S105",
         "Y",
         "1986-07-24",
         "1988-02-04",
         58
        ],
        [
         "SUBID10016",
         "Amritkala",
         "Srivastav",
         "Guha Path",
         "1933-11-20",
         "Female",
         "India",
         "Meerut",
         863467,
         "S106",
         "Y",
         "1953-11-20",
         "1955-07-29",
         90
        ],
        [
         "SUBID10017",
         "Bandhu",
         "Seth",
         "Varughese",
         "1996-10-15",
         "Male",
         "India",
         "Chinsurah",
         136713,
         "S108",
         "N",
         "2016-10-15",
         "2018-06-08",
         27
        ],
        [
         "SUBID10018",
         "Bhagavaana",
         "Kumar",
         "Kulkarni Zila",
         "1935-09-16",
         "Female",
         "India",
         "Shahjahanpur",
         597276,
         "S101",
         "N",
         "1955-09-16",
         "1958-05-31",
         88
        ],
        [
         "SUBID10019",
         "Guest/NA",
         "Maurya",
         "Sharaf Nagar",
         "1924-11-09",
         "Female",
         "India",
         "Jabalpur",
         958538,
         "S104",
         "N",
         "1944-11-09",
         "1951-10-14",
         99
        ],
        [
         "SUBID1020",
         "Umang",
         "Srivastav",
         "Balay Chowk",
         "1963-07-14",
         "Female",
         "India",
         "Haridwar",
         181692,
         "S109",
         "Y",
         "1983-07-14",
         "1986-01-15",
         61
        ],
        [
         "SUBID1021",
         "Darsana",
         "Yadav",
         "Upadhyay Zila",
         "1932-05-29",
         "Male",
         "India",
         "Dibrugarh",
         187414,
         "S109",
         "Y",
         "1952-05-29",
         "1953-10-14",
         92
        ],
        [
         "SUBID10022",
         "Prakash",
         "Rao",
         "Sachar",
         "1923-09-15",
         "Female",
         "India",
         "Kottayam",
         180680,
         "S110",
         "N",
         "1943-09-15",
         "1948-10-19",
         100
        ],
        [
         "SUBID10023",
         "Vaijayanti",
         "Pratap",
         "Khalsa Nagar",
         "1920-11-13",
         "Male",
         "India",
         "Mira-Bhayandar",
         419190,
         "S102",
         "Y",
         "1940-11-13",
         "1946-03-10",
         103
        ],
        [
         "SUBID10024",
         "Menakshi",
         "Seth",
         "Wable Street",
         "1987-03-06",
         "Male",
         "India",
         "Kamarhati",
         882577,
         "S107",
         "N",
         "2007-03-06",
         "2014-02-25",
         37
        ],
        [
         "SUBID10025",
         "Guest/NA",
         "Tiwari",
         "Sha Chowk",
         "1955-12-24",
         "Male",
         "India",
         "Karimnagar",
         567762,
         "S106",
         "N",
         "1975-12-24",
         "1983-02-03",
         68
        ],
        [
         "SUBID10026",
         "Ekant",
         "Sonkar",
         "Walla Road",
         "1943-08-13",
         "Male",
         "India",
         "Berhampore",
         948589,
         "S110",
         "Y",
         "1963-08-13",
         "1967-05-29",
         81
        ],
        [
         "SUBID10027",
         "Chancharik",
         "Pandey",
         "Karan Ganj",
         "1983-09-05",
         "Male",
         "India",
         "Chapra",
         154667,
         "S109",
         "N",
         "2003-09-05",
         "2011-06-12",
         41
        ],
        [
         "SUBID10028",
         "Pushti",
         "Pandit",
         "Deol Path",
         "1935-10-15",
         "Female",
         "India",
         "Morbi",
         284168,
         "S106",
         "N",
         "1955-10-15",
         "1959-06-04",
         88
        ],
        [
         "SUBID10029",
         "Swati",
         "Seth",
         "Kant Marg",
         "1987-12-11",
         "Female",
         "India",
         "Amravati",
         932221,
         "S102",
         "N",
         "2007-12-11",
         "2011-10-17",
         36
        ],
        [
         "SUBID1030",
         "Upasana",
         "Pandey",
         "Seth Chowk",
         "1956-06-01",
         "Male",
         "India",
         "Hyderabad",
         234823,
         "S102",
         "N",
         "1976-06-01",
         "1981-02-14",
         68
        ],
        [
         "SUBID10031",
         "Kanhaiya",
         "Lal",
         "Savant Nagar",
         "1954-10-19",
         "Female",
         "India",
         "Mysore",
         638433,
         "S104",
         "Y",
         "1974-10-19",
         "1977-01-03",
         69
        ],
        [
         "SUBID1032",
         "Guest/NA",
         "Seth",
         "Sandhu Chowk",
         "1968-07-02",
         "Female",
         "India",
         "Gwalior",
         611826,
         "S110",
         "N",
         "1988-07-02",
         "1991-03-14",
         56
        ],
        [
         "SUBID10033",
         "Gensho",
         "Srivastav",
         "Korpal Ganj",
         "1992-06-06",
         "Male",
         "India",
         "Ludhiana",
         835018,
         "S101",
         "N",
         "2012-06-06",
         "2022-01-09",
         32
        ],
        [
         "SUBID1034",
         "Gopal",
         "Das",
         "Saini",
         "1986-05-14",
         "Male",
         "India",
         "Raebareli",
         176221,
         "S101",
         "N",
         "2006-05-14",
         "2011-04-08",
         38
        ],
        [
         "SUBID10035",
         "Dheeman",
         "Tiwari",
         "Dube Marg",
         "1945-05-04",
         "Male",
         "India",
         "Mysore",
         811970,
         "S101",
         "Y",
         "1965-05-04",
         "1973-11-13",
         79
        ],
        [
         "SUBID1036",
         "Upasana",
         "Thakur",
         "Vasa Ganj",
         "1927-10-03",
         "Female",
         "India",
         "Ratlam",
         326733,
         "S108",
         "N",
         "1947-10-03",
         "1951-02-20",
         96
        ],
        [
         "SUBID1037",
         "Guest/NA",
         "Rajput",
         "Shere Chowk",
         "1948-11-10",
         "Male",
         "India",
         "Vadodara",
         877443,
         "S101",
         "Y",
         "1968-11-10",
         "1973-12-25",
         75
        ],
        [
         "SUBID1038",
         "Guest/NA",
         "Thakur",
         "Rastogi Street",
         "1955-04-07",
         "Female",
         "India",
         "Vijayawada",
         438940,
         "S104",
         "N",
         "1975-04-07",
         "1982-01-25",
         69
        ],
        [
         "SUBID10039",
         "Madhubala",
         "Yadav",
         "Sangha Marg",
         "1937-01-11",
         "Male",
         "India",
         "Jaunpur",
         624102,
         "S104",
         "Y",
         "1957-01-11",
         "1965-10-09",
         87
        ],
        [
         "SUBID10040",
         "Anjushree",
         "Pandey",
         "Vora Ganj",
         "1976-07-04",
         "Male",
         "India",
         "Ghaziabad",
         782221,
         "S105",
         "N",
         "1996-07-04",
         "1999-02-17",
         48
        ],
        [
         "SUBID1041",
         "Guest/NA",
         "Rajput",
         "Sinha Path",
         "1930-11-25",
         "Female",
         "India",
         "Agartala",
         303503,
         "S110",
         "Y",
         "1950-11-25",
         "1957-09-14",
         93
        ],
        [
         "SUBID10042",
         "Chakrika",
         "Sonkar",
         "Bansal Circle",
         "1964-08-05",
         "Male",
         "India",
         "Ranchi",
         503290,
         "S108",
         "Y",
         "1984-08-05",
         "1992-09-09",
         60
        ],
        [
         "SUBID1043",
         "Saroj",
         "Pandit",
         "Sathe Zila",
         "1942-08-26",
         "Female",
         "India",
         "Muzaffarpur",
         130486,
         "S103",
         "Y",
         "1962-08-26",
         "1964-08-29",
         82
        ],
        [
         "SUBID1044",
         "Ayushmati",
         "Vishwakarma",
         "Balakrishnan Street",
         "1932-09-20",
         "Male",
         "India",
         "Satna",
         131247,
         "S108",
         "N",
         "1952-09-20",
         "1961-01-24",
         91
        ],
        [
         "SUBID1045",
         "Drashti",
         "Divedi",
         "Wadhwa",
         "1926-07-03",
         "Male",
         "India",
         "Saharsa",
         581568,
         "S104",
         "Y",
         "1946-07-03",
         "1952-11-27",
         98
        ],
        [
         "SUBID10046",
         "Aayushmaan",
         "Maurya",
         "Johal Nagar",
         "1983-11-14",
         "Female",
         "India",
         "Mehsana",
         987281,
         "S104",
         "Y",
         "2003-11-14",
         "2012-10-22",
         40
        ],
        [
         "SUBID1047",
         "Guest/NA",
         "Rai",
         "Sagar Chowk",
         "1931-02-04",
         "Male",
         "India",
         "Shivpuri",
         794170,
         "S109",
         "Y",
         "1951-02-04",
         "1955-07-14",
         93
        ],
        [
         "SUBID10048",
         "Chitranjan",
         "Mishra",
         "Madan Nagar",
         "1925-09-09",
         "Female",
         "India",
         "Morbi",
         945697,
         "S108",
         "N",
         "1945-09-09",
         "1952-06-21",
         99
        ],
        [
         "SUBID10049",
         "Paridhi",
         "Yadav",
         "Sant Path",
         "1959-03-27",
         "Female",
         "India",
         "Jabalpur",
         883754,
         "S107",
         "N",
         "1979-03-27",
         "1985-06-01",
         65
        ],
        [
         "SUBID10050",
         "Deependu",
         "Gupta",
         "Banik Ganj",
         "1952-02-13",
         "Female",
         "India",
         "Bareilly",
         417855,
         "S102",
         "Y",
         "1972-02-13",
         "1976-08-23",
         72
        ],
        [
         "SUBID10051",
         "Guest/NA",
         "Rajput",
         "Chauhan Chowk",
         "1946-10-17",
         "Male",
         "India",
         "Baranagar",
         765234,
         "S103",
         "Y",
         "1966-10-17",
         "1969-06-26",
         77
        ],
        [
         "SUBID10052",
         "Laksman",
         "Rao",
         "Sood Marg",
         "1939-05-26",
         "Female",
         "India",
         "Ahmednagar",
         117923,
         "S101",
         "Y",
         "1959-05-26",
         "1960-11-07",
         85
        ],
        [
         "SUBID10053",
         "Guest/NA",
         "Sonkar",
         "Shetty Marg",
         "1988-06-27",
         "Male",
         "India",
         "Pali",
         383290,
         "S102",
         "Y",
         "2008-06-27",
         "2016-10-30",
         36
        ],
        [
         "SUBID10054",
         "Shivakari",
         "Pratap",
         "Dugar Road",
         "1944-11-02",
         "Female",
         "India",
         "Hapur",
         28202,
         "S104",
         "N",
         "1964-11-02",
         "1967-06-15",
         79
        ],
        [
         "SUBID10055",
         "Madhu",
         "Thakur",
         "Sule Marg",
         "1984-10-23",
         "Male",
         "India",
         "Udaipur",
         565423,
         "S107",
         "N",
         "2004-10-23",
         "2008-07-10",
         39
        ],
        [
         "SUBID10056",
         "Chanak",
         "Gupta",
         "Shetty Nagar",
         "1954-08-27",
         "Male",
         "India",
         "Jalandhar",
         602989,
         "S105",
         "N",
         "1974-08-27",
         "1982-06-15",
         70
        ],
        [
         "SUBID10057",
         "Chittesh",
         "Pandey",
         "Mangal Chowk",
         "1949-10-17",
         "Male",
         "India",
         "Thoothukudi",
         666415,
         "S109",
         "Y",
         "1969-10-17",
         "1975-10-08",
         74
        ],
        [
         "SUBID1058",
         "Nawal",
         "Rajput",
         "Deol Nagar",
         "1940-01-22",
         "Male",
         "India",
         "Bhopal",
         791168,
         "S106",
         "N",
         "1960-01-22",
         "1969-04-18",
         84
        ],
        [
         "SUBID10059",
         "Gajabahu",
         "Singh",
         "Kara",
         "1959-03-15",
         "Male",
         "India",
         "Udupi",
         637221,
         "S101",
         "Y",
         "1979-03-15",
         "1986-07-05",
         65
        ],
        [
         "SUBID10060",
         "Jitesh",
         "Vishwakarma",
         "Gopal Path",
         "1983-02-03",
         "Male",
         "India",
         "Karimnagar",
         124564,
         "S110",
         "Y",
         "2003-02-03",
         "2008-04-30",
         41
        ],
        [
         "SUBID10061",
         "Guest/NA",
         "Rajput",
         "Anand Path",
         "1966-09-25",
         "Female",
         "India",
         "Kharagpur",
         934938,
         "S103",
         "N",
         "1986-09-25",
         "1991-06-03",
         57
        ],
        [
         "SUBID1062",
         "Lalit",
         "Mishra",
         "Comar Street",
         "1924-02-15",
         "Female",
         "India",
         "Tinsukia",
         963770,
         "S103",
         "N",
         "1944-02-15",
         "1947-09-28",
         100
        ],
        [
         "SUBID1063",
         "Anshuk",
         "Srivastav",
         "Sridhar Path",
         "1991-06-17",
         "Male",
         "India",
         "Uluberia",
         270985,
         "S105",
         "N",
         "2011-06-17",
         "2014-07-11",
         33
        ],
        [
         "SUBID10064",
         "Guest/NA",
         "Pandey",
         "Mangat Path",
         "1994-01-13",
         "Male",
         "India",
         "Panihati",
         643791,
         "S110",
         "N",
         "2014-01-13",
         "2019-02-24",
         30
        ],
        [
         "SUBID1065",
         "Dipesh",
         "Mishra",
         "Char Path",
         "1949-04-01",
         "Female",
         "India",
         "Kochi",
         31269,
         "S103",
         "Y",
         "1969-04-01",
         "1970-06-02",
         75
        ],
        [
         "SUBID10066",
         "Guest/NA",
         "Seth",
         "Chaudhuri Marg",
         "1930-09-01",
         "Male",
         "India",
         "Kolhapur",
         597470,
         "S102",
         "N",
         "1950-09-01",
         "1957-12-01",
         94
        ],
        [
         "SUBID1067",
         "Kishan",
         "Rao",
         "Badal Nagar",
         "1923-05-12",
         "Male",
         "India",
         "Srikakulam",
         703899,
         "S110",
         "Y",
         "1943-05-12",
         "1946-09-20",
         101
        ],
        [
         "SUBID10068",
         "Guest/NA",
         "Mishra",
         "Bath Nagar",
         "1927-02-26",
         "Female",
         "India",
         "Ambarnath",
         766224,
         "S110",
         "N",
         "1947-02-26",
         "1948-03-30",
         97
        ],
        [
         "SUBID10069",
         "Bhageeratha",
         "Srivastav",
         "Das Ganj",
         "1973-03-21",
         "Male",
         "India",
         "Sonipat",
         695316,
         "S103",
         "Y",
         "1993-03-21",
         "1997-08-01",
         51
        ],
        [
         "SUBID10070",
         "Balaaditya",
         "Gupta",
         "Varty Road",
         "1923-11-02",
         "Male",
         "India",
         "Hajipur",
         3526,
         "S109",
         "N",
         "1943-11-02",
         "1952-09-24",
         100
        ],
        [
         "SUBID10071",
         "Guest/NA",
         "Rai",
         "Choudhury Chowk",
         "1941-12-26",
         "Female",
         "India",
         "Vellore",
         239532,
         "S101",
         "N",
         "1961-12-26",
         "1969-02-23",
         82
        ],
        [
         "SUBID10072",
         "Gopal",
         "Srivastav",
         "Desai Street",
         "1936-03-11",
         "Female",
         "India",
         "Bidhannagar",
         761800,
         "S103",
         "Y",
         "1956-03-11",
         "1964-07-28",
         88
        ],
        [
         "SUBID1073",
         "Virender",
         "Maurrya",
         "Chakrabarti",
         "1936-10-27",
         "Male",
         "India",
         "Bhusawal",
         374302,
         "S104",
         "N",
         "1956-10-27",
         "1961-04-27",
         87
        ],
        [
         "SUBID10074",
         "Guest/NA",
         "Singh",
         "Kalla Path",
         "1963-11-21",
         "Male",
         "India",
         "Bokaro",
         866319,
         "S105",
         "Y",
         "1983-11-21",
         "1985-09-29",
         60
        ],
        [
         "SUBID10075",
         "Guest/NA",
         "Singh",
         "Iyengar Nagar",
         "1956-01-29",
         "Male",
         "India",
         "Navi Mumbai",
         836175,
         "S107",
         "N",
         "1976-01-29",
         "1979-05-25",
         68
        ],
        [
         "SUBID10076",
         "Mamta",
         "Tiwari",
         "Batra",
         "1964-12-21",
         "Female",
         "India",
         "Secunderabad",
         123181,
         "S104",
         "N",
         "1984-12-21",
         "1987-01-08",
         59
        ],
        [
         "SUBID10077",
         "Girija",
         "Maurrya",
         "Iyengar Road",
         "1933-04-25",
         "Male",
         "India",
         "Jaipur",
         204379,
         "S105",
         "N",
         "1953-04-25",
         "1963-04-18",
         91
        ],
        [
         "SUBID10078",
         "Aaraadhana",
         "Rao",
         "Raval Nagar",
         "1980-02-07",
         "Male",
         "India",
         "Jhansi",
         429941,
         "S108",
         "N",
         "2000-02-07",
         "2005-02-06",
         44
        ],
        [
         "SUBID10079",
         "Shahnawaz",
         "Mishra",
         "Agate Path",
         "1971-06-24",
         "Female",
         "India",
         "Rampur",
         528893,
         "S102",
         "Y",
         "1991-06-24",
         "2000-09-13",
         53
        ],
        [
         "SUBID10080",
         "Tej",
         "Sonkar",
         "Sarraf Chowk",
         "1942-06-11",
         "Male",
         "India",
         "Haridwar",
         506221,
         "S105",
         "Y",
         "1962-06-11",
         "1964-10-14",
         82
        ],
        [
         "SUBID10081",
         "Mansi",
         "Divedi",
         "Bhattacharyya Road",
         "1947-03-20",
         "Female",
         "India",
         "Hosur",
         995152,
         "S105",
         "Y",
         "1967-03-20",
         "1971-07-25",
         77
        ],
        [
         "SUBID10082",
         "Girika",
         "Thakur",
         "Sinha Zila",
         "1968-11-03",
         "Female",
         "India",
         "Hospet",
         683614,
         "S102",
         "N",
         "1988-11-03",
         "1992-01-21",
         55
        ],
        [
         "SUBID10083",
         "Bhilangana",
         "Pandit",
         "Ramachandran Path",
         "1995-01-04",
         "Female",
         "India",
         "Fatehpur",
         359466,
         "S109",
         "Y",
         "2015-01-04",
         "2017-10-05",
         29
        ],
        [
         "SUBID10084",
         "Guest/NA",
         "Thakur",
         "Raval Zila",
         "1924-06-07",
         "Female",
         "India",
         "Bhavnagar",
         464111,
         "S107",
         "Y",
         "1944-06-07",
         "1952-05-22",
         100
        ],
        [
         "SUBID10085",
         "Sukanya",
         "Sonkar",
         "Sangha Street",
         "1942-01-16",
         "Female",
         "India",
         "Vijayanagaram",
         226215,
         "S101",
         "N",
         "1962-01-16",
         "1967-04-10",
         82
        ],
        [
         "SUBID1086",
         "Banita",
         "Rao",
         "Thakur",
         "1979-01-28",
         "Male",
         "India",
         "Ghaziabad",
         907613,
         "S109",
         "N",
         "1999-01-28",
         "2000-09-05",
         45
        ],
        [
         "SUBID1087",
         "Guest/NA",
         "Pandit",
         "Srivastava Path",
         "1924-12-10",
         "Female",
         "India",
         "Sambhal",
         279219,
         "S103",
         "N",
         "1944-12-10",
         "1951-07-16",
         99
        ],
        [
         "SUBID10088",
         "Guest/NA",
         "Rajput",
         "Dua Zila",
         "1922-07-30",
         "Female",
         "India",
         "Tadipatri",
         743449,
         "S110",
         "N",
         "1942-07-30",
         "1949-06-07",
         102
        ],
        [
         "SUBID10089",
         "Dhuha",
         "Tiwari",
         "Aggarwal Street",
         "1952-08-21",
         "Male",
         "India",
         "Rampur",
         492137,
         "S104",
         "N",
         "1972-08-21",
         "1981-05-13",
         72
        ],
        [
         "SUBID10090",
         "Guest/NA",
         "Mishra",
         "Chandran Nagar",
         "1938-06-07",
         "Female",
         "India",
         "Sikar",
         564747,
         "S101",
         "Y",
         "1958-06-07",
         "1967-08-23",
         86
        ],
        [
         "SUBID1091",
         "Guest/NA",
         "Thakur",
         "Bala",
         "1930-12-31",
         "Male",
         "India",
         "Kamarhati",
         682652,
         "S110",
         "Y",
         "1950-12-31",
         "1958-06-21",
         93
        ],
        [
         "SUBID10092",
         "Guest/NA",
         "Rai",
         "Karan Street",
         "1940-08-22",
         "Others",
         "India",
         "Ghaziabad",
         79586,
         "S108",
         "N",
         "1960-08-22",
         "1966-10-06",
         84
        ],
        [
         "SUBID10093",
         "Chandavarman",
         "Singh",
         "Sarkar Circle",
         "1997-05-10",
         "Others",
         "India",
         "Navi Mumbai",
         83240,
         "S110",
         "N",
         "2017-05-10",
         "2022-08-27",
         27
        ],
        [
         "SUBID10094",
         "Charanpal",
         "Yadav",
         "Sehgal Circle",
         "1986-10-12",
         "Male",
         "India",
         "Gurgaon",
         640326,
         "S109",
         "Y",
         "2006-10-12",
         "2016-05-13",
         37
        ],
        [
         "SUBID10095",
         "Ekaaksh",
         "Rai",
         "Bansal Ganj",
         "1933-12-02",
         "Others",
         "India",
         "Pimpri-Chinchwad",
         158186,
         "S107",
         "N",
         "1953-12-02",
         "1960-07-29",
         90
        ],
        [
         "SUBID10096",
         "Chanak",
         "Sonkar",
         "Kaur",
         "1959-04-07",
         "Others",
         "India",
         "Raurkela Industrial Township",
         899590,
         "S101",
         "Y",
         "1979-04-07",
         "1986-03-07",
         65
        ],
        [
         "SUBID10097",
         "Guest/NA",
         "Sonkar",
         "Rana Ganj",
         "1940-02-04",
         "Others",
         "India",
         "Mira-Bhayandar",
         896586,
         "S107",
         "Y",
         "1960-02-04",
         "1965-01-12",
         84
        ],
        [
         "SUBID1098",
         "Pushkar",
         "Kumar",
         "Sodhi Zila",
         "1934-10-05",
         "Others",
         "India",
         "Korba",
         910732,
         "S107",
         "Y",
         "1954-10-05",
         "1961-04-05",
         89
        ],
        [
         "SUBID10099",
         "Shikha",
         "Srivastav",
         "Ahuja Road",
         "1970-09-06",
         "Others",
         "India",
         "Nanded",
         101500,
         "S109",
         "Y",
         "1990-09-06",
         "1997-11-27",
         54
        ]
       ],
       "datasetInfos": [],
       "dbfsResultPath": null,
       "isJsonSchema": true,
       "metadata": {},
       "overflow": false,
       "plotOptions": {
        "customPlotOptions": {},
        "displayType": "table",
        "pivotAggregation": null,
        "pivotColumns": null,
        "xColumns": null,
        "yColumns": null
       },
       "removedWidgets": [],
       "schema": [
        {
         "metadata": "{}",
         "name": "sub_id",
         "type": "\"string\""
        },
        {
         "metadata": "{}",
         "name": "first_name",
         "type": "\"string\""
        },
        {
         "metadata": "{}",
         "name": "last_name",
         "type": "\"string\""
        },
        {
         "metadata": "{}",
         "name": "Street",
         "type": "\"string\""
        },
        {
         "metadata": "{\"__detected_date_formats\":\"d-M-yyyy\"}",
         "name": "Birth_date",
         "type": "\"date\""
        },
        {
         "metadata": "{}",
         "name": "Gender",
         "type": "\"string\""
        },
        {
         "metadata": "{}",
         "name": "Country",
         "type": "\"string\""
        },
        {
         "metadata": "{}",
         "name": "City",
         "type": "\"string\""
        },
        {
         "metadata": "{}",
         "name": "Zip Code",
         "type": "\"integer\""
        },
        {
         "metadata": "{}",
         "name": "Subgrp_id",
         "type": "\"string\""
        },
        {
         "metadata": "{}",
         "name": "Elig_ind",
         "type": "\"string\""
        },
        {
         "metadata": "{\"__detected_date_formats\":\"d-M-yyyy\"}",
         "name": "eff_date",
         "type": "\"date\""
        },
        {
         "metadata": "{\"__detected_date_formats\":\"d-M-yyyy\"}",
         "name": "term_date",
         "type": "\"date\""
        },
        {
         "metadata": "{}",
         "name": "Subscriber_age",
         "type": "\"integer\""
        }
       ],
       "type": "table"
      }
     },
     "output_type": "display_data"
    }
   ],
   "source": [
    "data.display()"
   ]
  },
  {
   "cell_type": "code",
   "execution_count": 0,
   "metadata": {
    "application/vnd.databricks.v1+cell": {
     "cellMetadata": {
      "byteLimit": 2048000,
      "rowLimit": 10000
     },
     "inputWidgets": {},
     "nuid": "67dbba7e-94e9-49fe-ad54-8450ab127b4c",
     "showTitle": false,
     "title": ""
    }
   },
   "outputs": [],
   "source": [
    "# # Now we need to write this data into stagging area for the next step.\n",
    "# # boilerplate code (standard code for certain operation)\n",
    "\n",
    "# Define the output staging path\n",
    "output_stagging_path = \"abfss://stagginglayerhealthdata@healthcareprojectblob.dfs.core.windows.net\"\n",
    "\n",
    "# Write the data to the staging area\n",
    "data.coalesce(1).write.mode(\"append\").format(\"com.databricks.spark.csv\").option(\"header\", \"true\").option(\"format\", \"csv\").save(output_stagging_path)\n",
    "\n",
    "# List all files in the output staging path\n",
    "files = dbutils.fs.ls(output_stagging_path)\n",
    "\n",
    "# Identify part files and non-part files\n",
    "part_files = [x for x in files if x.name.startswith(\"part-\")]\n",
    "non_part_files = [x for x in files if x.name.startswith(\"_\")]\n",
    "\n",
    "# Move the part file to the desired location\n",
    "if part_files:\n",
    "    dbutils.fs.mv(part_files[0].path, f\"{output_stagging_path}/subscriberstagging.csv\")\n",
    "\n",
    "# Remove non-part files\n",
    "for file in non_part_files:\n",
    "    dbutils.fs.rm(file.path)"
   ]
  },
  {
   "cell_type": "code",
   "execution_count": 0,
   "metadata": {
    "application/vnd.databricks.v1+cell": {
     "cellMetadata": {
      "byteLimit": 2048000,
      "rowLimit": 10000
     },
     "inputWidgets": {},
     "nuid": "af3b9ea7-a842-412a-8deb-f16ad54c68ab",
     "showTitle": false,
     "title": ""
    }
   },
   "outputs": [],
   "source": []
  }
 ],
 "metadata": {
  "application/vnd.databricks.v1+notebook": {
   "dashboards": [],
   "environmentMetadata": {
    "base_environment": "",
    "client": "1"
   },
   "language": "python",
   "notebookMetadata": {
    "pythonIndentUnit": 4
   },
   "notebookName": "Subscriber Transformations",
   "widgets": {}
  }
 },
 "nbformat": 4,
 "nbformat_minor": 0
}
